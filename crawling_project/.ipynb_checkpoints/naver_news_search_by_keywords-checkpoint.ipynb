{
 "cells": [
  {
   "cell_type": "code",
   "execution_count": null,
   "metadata": {},
   "outputs": [],
   "source": [
    "import requests\n",
    "from bs4 import BeautifulSoup"
   ]
  },
  {
   "cell_type": "code",
   "execution_count": null,
   "metadata": {},
   "outputs": [],
   "source": [
    "NAVER_SEARCH_URL = 'https://search.naver.com/search.naver'\n",
    "query = '무역전쟁'\n",
    "page_num = ['0','11','21','31','41','51','61','71','81','91']\n",
    "for page in page_num:\n",
    "    \n",
    "    params = {\n",
    "    'where':'news',\n",
    "    'query':query,\n",
    "    'start':page\n",
    "    }\n",
    "    \n",
    "    resp = requests.get(NAVER_SEARCH_URL,params = params)\n",
    "    soup =bs(resp.content,'html.parser')\n",
    "    ul_contents = soup.find('ul',class_='type01')\n",
    "    new_ul = []\n",
    "    \n",
    "    for content in ul_contents.contents:\n",
    "        if not str(content).strip():\n",
    "            continue\n",
    "        new_ul.append(content)\n",
    "        \n",
    "    news_list = []\n",
    "    \n",
    "    for li in new_ul:\n",
    "        news_dict = {}\n",
    "        a_tag = li.find('dl').find('dt').find('a')\n",
    "        b_tag = li.find('dl').find('dd').find_next_sibling('dd')\n",
    "        time_tag = li.find('dl').find('dd')\n",
    "    \n",
    "        news_dict['link'] = a_tag['href']\n",
    "        detail_resp = requests.get(news_dict['link'])\n",
    "        detail_soup = bs(detail_resp.content,'html.parser')\n",
    "        news_detail = detail_soup.find('body')\n",
    "        \n",
    "        news_dict['title'] = a_tag.text\n",
    "        news_dict['story'] = b_tag.text\n",
    "        news_dict['time'] = time_tag.contents[3]\n",
    "    \n",
    "        news_list.append(news_dict)\n",
    "        \n",
    "    print('-'*50)\n",
    "    print('-'*50)\n",
    "    \n",
    "    pprint(type(detail_resp.content))"
   ]
  },
  {
   "cell_type": "code",
   "execution_count": null,
   "metadata": {},
   "outputs": [],
   "source": [
    "resp = requests.get(NAVER_SEARCH_URL,params = params)\n",
    "resp.status_code"
   ]
  },
  {
   "cell_type": "markdown",
   "metadata": {},
   "source": [
    "## soup 만들기 "
   ]
  },
  {
   "cell_type": "code",
   "execution_count": null,
   "metadata": {},
   "outputs": [],
   "source": [
    "soup =bs(resp.content,'html.parser')\n"
   ]
  },
  {
   "cell_type": "code",
   "execution_count": null,
   "metadata": {},
   "outputs": [],
   "source": [
    "ul_contents = soup.find('ul',class_='type01')\n",
    "type(ul_contents)"
   ]
  },
  {
   "cell_type": "code",
   "execution_count": null,
   "metadata": {},
   "outputs": [],
   "source": [
    "new_ul = []\n",
    "for content in ul_contents.contents:\n",
    "    if not str(content).strip():\n",
    "        continue\n",
    "    new_ul.append(content)\n",
    "pprint(new_ul)"
   ]
  },
  {
   "cell_type": "code",
   "execution_count": null,
   "metadata": {},
   "outputs": [],
   "source": [
    "from pprint import pprint"
   ]
  },
  {
   "cell_type": "code",
   "execution_count": null,
   "metadata": {},
   "outputs": [],
   "source": [
    "news_list = []\n",
    "for li in new_ul:\n",
    "    news_dict = {}\n",
    "    a_tag = li.find('dl').find('dt').find('a')\n",
    "    b_tag = li.find('dl').find('dd').find_next_sibling('dd')\n",
    "    time_tag = li.find('dl').find('dd')\n",
    "    \n",
    "    news_dict['link'] = a_tag['href']\n",
    "    news_dict['title'] = a_tag.text\n",
    "    news_dict['story'] = b_tag.text\n",
    "    news_dict['time'] = time_tag.contents[3]\n",
    "    \n",
    "    news_list.append(news_dict)\n",
    "pprint(news_list)"
   ]
  },
  {
   "cell_type": "code",
   "execution_count": null,
   "metadata": {},
   "outputs": [],
   "source": [
    "requests.get('https://naver.com')"
   ]
  },
  {
   "cell_type": "markdown",
   "metadata": {},
   "source": [
    "# 10페이지 이동 실습 예제"
   ]
  },
  {
   "cell_type": "code",
   "execution_count": null,
   "metadata": {
    "scrolled": false
   },
   "outputs": [],
   "source": [
    "NAVER_SEARCH_URL = 'https://search.naver.com/search.naver'\n",
    "query = '무역전쟁'\n",
    "news_list = []\n",
    "\n",
    "for i in range(1,10):\n",
    "    start_var = 1\n",
    "    \n",
    "    params = {\n",
    "    'where':'news',\n",
    "    'query':query,\n",
    "    'start':(1*10) + 1\n",
    "    }\n",
    "    #검색 결과를 가져온다(page별로)\n",
    "    resp = requests.get(NAVER_SEARCH_URL,params = params)\n",
    "    \n",
    "    soup = BeautifulSoup(resp.content,'html.parser')\n",
    "    ul_contents = soup.find('ul',class_='type01')\n",
    "    new_ul = []\n",
    "    for content in ul_contents:\n",
    "        if not str(content).strip():\n",
    "            continue\n",
    "        new_ul.append(content)\n",
    "    \n",
    "    for li in new_ul:\n",
    "        news_dict = {}\n",
    "        a_tag = li.find('dl').find('dt').find('a')\n",
    "        \n",
    "        news_dict['link'] = a_tag['href']\n",
    "        news_dict['title'] = a_tag.text\n",
    "        \n",
    "        print(news_dict['link'],'에 들어갑니다.')\n",
    "        \n",
    "        detail_resp = requests.get(news_dict['link'])\n",
    "        detail_soup = BeautifulSoup(detail_resp.content,'html.parser')\n",
    "        news_dict['body'] = detail_soup.find('body')\n",
    "        \n",
    "        news_list.append(news_dict)\n"
   ]
  },
  {
   "cell_type": "code",
   "execution_count": null,
   "metadata": {},
   "outputs": [],
   "source": [
    "import numpy as np\n",
    "import pandas as pd"
   ]
  },
  {
   "cell_type": "code",
   "execution_count": null,
   "metadata": {},
   "outputs": [],
   "source": [
    "df2 = pd.DataFrame(news_list)"
   ]
  },
  {
   "cell_type": "code",
   "execution_count": null,
   "metadata": {},
   "outputs": [],
   "source": [
    "df2.to_excel('뉴스정보.xlsx')"
   ]
  },
  {
   "cell_type": "markdown",
   "metadata": {},
   "source": [
    "# 실행 순서"
   ]
  },
  {
   "cell_type": "markdown",
   "metadata": {},
   "source": [
    "1. url 파악한다.\n",
    "2. url 접속한다.\n",
    "3. html 파일을 soup로 만든다.\n",
    "4. soup에서 각 항목들을 정리한다.\n",
    "5. soup에서 상세페에지에 href를 가져온다.\n",
    "6. 각 상세페이지의 gref를 requests.get()한다.\n",
    "7. soup로 만들고 상세페이지의 각 항목들을 정리한다.\n",
    "8. 반복문을 통해서 pagination을 이동한다.\n"
   ]
  },
  {
   "cell_type": "markdown",
   "metadata": {},
   "source": [
    "# 뉴스토픽 가져오기"
   ]
  },
  {
   "cell_type": "markdown",
   "metadata": {},
   "source": [
    "### 개발 순서 가져오기"
   ]
  },
  {
   "cell_type": "code",
   "execution_count": 3,
   "metadata": {},
   "outputs": [],
   "source": [
    "import requests\n",
    "from bs4 import BeautifulSoup as bs"
   ]
  },
  {
   "cell_type": "code",
   "execution_count": 6,
   "metadata": {},
   "outputs": [
    {
     "ename": "TypeError",
     "evalue": "'NoneType' object is not iterable",
     "output_type": "error",
     "traceback": [
      "\u001b[1;31m---------------------------------------------------------------------------\u001b[0m",
      "\u001b[1;31mTypeError\u001b[0m                                 Traceback (most recent call last)",
      "\u001b[1;32m<ipython-input-6-783673c8d67c>\u001b[0m in \u001b[0;36m<module>\u001b[1;34m\u001b[0m\n\u001b[0;32m     15\u001b[0m \u001b[1;33m\u001b[0m\u001b[0m\n\u001b[0;32m     16\u001b[0m     \u001b[0ma\u001b[0m \u001b[1;33m=\u001b[0m \u001b[0mid_1\u001b[0m\u001b[1;33m.\u001b[0m\u001b[0mfind\u001b[0m\u001b[1;33m(\u001b[0m\u001b[1;34m'div'\u001b[0m\u001b[1;33m,\u001b[0m\u001b[0mclass_\u001b[0m\u001b[1;33m=\u001b[0m\u001b[1;34m\"realtime_srch _aside_news_tab\"\u001b[0m\u001b[1;33m)\u001b[0m\u001b[1;33m.\u001b[0m\u001b[0mfind\u001b[0m\u001b[1;33m(\u001b[0m\u001b[1;34m'ol'\u001b[0m\u001b[1;33m,\u001b[0m\u001b[0mclass_\u001b[0m \u001b[1;33m=\u001b[0m \u001b[1;34m'lst_realtime_srch _tab_area'\u001b[0m\u001b[1;33m)\u001b[0m\u001b[1;33m.\u001b[0m\u001b[0mfind\u001b[0m\u001b[1;33m(\u001b[0m\u001b[1;34m'li'\u001b[0m\u001b[1;33m)\u001b[0m\u001b[1;33m\u001b[0m\u001b[1;33m\u001b[0m\u001b[0m\n\u001b[1;32m---> 17\u001b[1;33m     \u001b[1;32mfor\u001b[0m \u001b[0mx\u001b[0m \u001b[1;32min\u001b[0m \u001b[0ma\u001b[0m\u001b[1;33m.\u001b[0m\u001b[0msiblings\u001b[0m\u001b[1;33m:\u001b[0m\u001b[1;33m\u001b[0m\u001b[1;33m\u001b[0m\u001b[0m\n\u001b[0m\u001b[0;32m     18\u001b[0m         \u001b[0mnew_dict\u001b[0m\u001b[1;33m.\u001b[0m\u001b[0mappend\u001b[0m\u001b[1;33m(\u001b[0m\u001b[0mx\u001b[0m\u001b[1;33m.\u001b[0m\u001b[0mfind\u001b[0m\u001b[1;33m(\u001b[0m\u001b[1;34m'span'\u001b[0m\u001b[1;33m)\u001b[0m\u001b[1;33m.\u001b[0m\u001b[0mfind\u001b[0m\u001b[1;33m(\u001b[0m\u001b[1;34m'span'\u001b[0m\u001b[1;33m)\u001b[0m\u001b[1;33m)\u001b[0m\u001b[1;33m\u001b[0m\u001b[1;33m\u001b[0m\u001b[0m\n\u001b[0;32m     19\u001b[0m     \u001b[0mprint\u001b[0m\u001b[1;33m(\u001b[0m\u001b[0mnew_dict\u001b[0m\u001b[1;33m)\u001b[0m\u001b[1;33m\u001b[0m\u001b[1;33m\u001b[0m\u001b[0m\n",
      "\u001b[1;31mTypeError\u001b[0m: 'NoneType' object is not iterable"
     ]
    }
   ],
   "source": [
    "naver_realtime_list = 'https://search.naver.com/search.naver'\n",
    "params = {\n",
    "        'query':'무역전쟁',\n",
    "        'where':'news'\n",
    "    }\n",
    "for i in range(1,10):\n",
    "    \n",
    "    new_dict = {}\n",
    "    \n",
    "    resp = requests.get(naver_realtime_list,params = params)\n",
    "    \n",
    "    soup =bs(resp.content,'html.parser')\n",
    "\n",
    "    id_1 = soup.find('div',id = 'nxfr_htp')\n",
    "\n",
    "    a = id_1.find('div',class_=\"realtime_srch _aside_news_tab\").find('ol',class_ = 'lst_realtime_srch _tab_area').find('li')\n",
    "    for x in a.siblings:\n",
    "        new_dict.append(x.find('span').find('span'))\n",
    "    print(new_dict)"
   ]
  },
  {
   "cell_type": "code",
   "execution_count": 20,
   "metadata": {},
   "outputs": [
    {
     "data": {
      "text/plain": [
       "['불법폐기물 특별수사단 발족',\n",
       " '한선교 기자들 향해',\n",
       " '검찰 코오롱생명과학 압수수색',\n",
       " '국세청 사칭',\n",
       " '대우건설 을지로시대 개막',\n",
       " '정경두 국방',\n",
       " '반려견 수영대회',\n",
       " '한미 국방장관회담',\n",
       " '서울연구원 민주연구원',\n",
       " '유시민 홍준표']"
      ]
     },
     "execution_count": 20,
     "metadata": {},
     "output_type": "execute_result"
    }
   ],
   "source": [
    "resp = requests.get('https://search.naver.com/search.naver?where=news&query=%EB%AC%B4%EC%97%AD%EC%A0%84%EC%9F%81&sm=tab_arf&sort=0&photo=0&field=0&reporter_article=&pd=0&ds=&de=&docid=&nso=so%3Ar%2Cp%3Aall%2Ca%3Aall&mynews=0&refresh_start=21&related=0&refresh_cnt=5')\n",
    "soup = bs(resp.content,'html.parser')\n",
    "\n",
    "news_topic = soup.find('ol',class_=\"lst_realtime_srch _tab_area\")\n",
    "li_tags = news_topic.contents\n",
    "new_list=[]\n",
    "for t in li_tags:\n",
    "    title = t.find('span',class_='tit').text\n",
    "    new_list.append(title)\n",
    "    \n",
    "new_list"
   ]
  },
  {
   "cell_type": "code",
   "execution_count": 23,
   "metadata": {},
   "outputs": [
    {
     "name": "stdout",
     "output_type": "stream",
     "text": [
      "[<a class=\"bx bx_item\" href=\"//search.naver.com/search.naver?where=nexearch&amp;sm=tab_htk.nws&amp;ie=utf8&amp;query=%EB%B6%88%EB%B2%95%ED%8F%90%EA%B8%B0%EB%AC%BC+%ED%8A%B9%EB%B3%84%EC%88%98%EC%82%AC%EB%8B%A8+%EB%B0%9C%EC%A1%B1\" onclick=\"return goOtherCR(this, 'a=htk.nwslist&amp;r=1&amp;i=&amp;u='+urlencode(urlexpand(this.href)));\"><span class=\"keyword\"><em class=\"num\">1</em><span class=\"tit\">불법폐기물 특별수사단 발족</span></span><em class=\"rank new\"><span class=\"spim\"></span><span>NEW</span></em></a>]\n"
     ]
    },
    {
     "ename": "TypeError",
     "evalue": "'NoneType' object is not callable",
     "output_type": "error",
     "traceback": [
      "\u001b[1;31m---------------------------------------------------------------------------\u001b[0m",
      "\u001b[1;31mTypeError\u001b[0m                                 Traceback (most recent call last)",
      "\u001b[1;32m<ipython-input-23-ad800ec774b8>\u001b[0m in \u001b[0;36m<module>\u001b[1;34m\u001b[0m\n\u001b[0;32m      4\u001b[0m \u001b[0mnew_list2\u001b[0m\u001b[1;33m.\u001b[0m\u001b[0mappend\u001b[0m\u001b[1;33m(\u001b[0m\u001b[0mli_tag\u001b[0m\u001b[1;33m.\u001b[0m\u001b[0mtext\u001b[0m\u001b[1;33m)\u001b[0m\u001b[1;33m\u001b[0m\u001b[1;33m\u001b[0m\u001b[0m\n\u001b[0;32m      5\u001b[0m \u001b[0mprint\u001b[0m\u001b[1;33m(\u001b[0m\u001b[0mli_tag\u001b[0m\u001b[1;33m.\u001b[0m\u001b[0mcontents\u001b[0m\u001b[1;33m)\u001b[0m\u001b[1;33m\u001b[0m\u001b[1;33m\u001b[0m\u001b[0m\n\u001b[1;32m----> 6\u001b[1;33m \u001b[0mprint\u001b[0m\u001b[1;33m(\u001b[0m\u001b[0mli_tag\u001b[0m\u001b[1;33m.\u001b[0m\u001b[0mfind_next_sibligns\u001b[0m\u001b[1;33m(\u001b[0m\u001b[1;34m'li'\u001b[0m\u001b[1;33m)\u001b[0m\u001b[1;33m)\u001b[0m\u001b[1;33m\u001b[0m\u001b[1;33m\u001b[0m\u001b[0m\n\u001b[0m\u001b[0;32m      7\u001b[0m \u001b[1;31m# for li in li_tag.find_next_sibligns('li'):\u001b[0m\u001b[1;33m\u001b[0m\u001b[1;33m\u001b[0m\u001b[1;33m\u001b[0m\u001b[0m\n\u001b[0;32m      8\u001b[0m \u001b[1;31m#     new_list2.append(li.text)\u001b[0m\u001b[1;33m\u001b[0m\u001b[1;33m\u001b[0m\u001b[1;33m\u001b[0m\u001b[0m\n",
      "\u001b[1;31mTypeError\u001b[0m: 'NoneType' object is not callable"
     ]
    }
   ],
   "source": [
    "li_tag = news_topic.li\n",
    "\n",
    "new_list2 = []\n",
    "new_list2.append(li_tag.text)\n",
    "print(li_tag.contents)\n",
    "print(li_tag.find_next_sibligns('li'))\n",
    "# for li in li_tag.find_next_sibligns('li'):\n",
    "#     new_list2.append(li.text)\n",
    "# new_list2"
   ]
  },
  {
   "cell_type": "code",
   "execution_count": 15,
   "metadata": {},
   "outputs": [
    {
     "data": {
      "text/plain": [
       "10"
      ]
     },
     "execution_count": 15,
     "metadata": {},
     "output_type": "execute_result"
    }
   ],
   "source": [
    "li_lists=news_topic.find_all('li',recursive = False)\n",
    "len(li_lists)"
   ]
  },
  {
   "cell_type": "code",
   "execution_count": 16,
   "metadata": {},
   "outputs": [
    {
     "data": {
      "text/plain": [
       "['불법폐기물 특별수사단 발족',\n",
       " '한선교 기자들 향해',\n",
       " '검찰 코오롱생명과학 압수수색',\n",
       " '국세청 사칭',\n",
       " '대우건설 을지로시대 개막',\n",
       " '정경두 국방',\n",
       " '반려견 수영대회',\n",
       " '한미 국방장관회담',\n",
       " '서울연구원 민주연구원',\n",
       " '유시민 홍준표']"
      ]
     },
     "execution_count": 16,
     "metadata": {},
     "output_type": "execute_result"
    }
   ],
   "source": [
    "new_list3 = []\n",
    "for li in li_lists:\n",
    "    title = li.find('span',class_='tit').text\n",
    "    new_list3.append(title)\n",
    "    \n",
    "new_list3"
   ]
  },
  {
   "cell_type": "markdown",
   "metadata": {},
   "source": [
    "# BS정리 "
   ]
  },
  {
   "cell_type": "code",
   "execution_count": 31,
   "metadata": {},
   "outputs": [
    {
     "data": {
      "text/plain": [
       "bs4.element.Tag"
      ]
     },
     "execution_count": 31,
     "metadata": {},
     "output_type": "execute_result"
    }
   ],
   "source": [
    "resp = requests.get('https://search.naver.com/search.naver?where=news&query=무역전쟁')\n",
    "soup = bs(resp.content,'html.parser')\n",
    "news_topic = soup.find('div',id = 'nxfr_htp')\n",
    "type(news_topic)"
   ]
  },
  {
   "cell_type": "code",
   "execution_count": 32,
   "metadata": {},
   "outputs": [
    {
     "data": {
      "text/plain": [
       "bs4.element.Tag"
      ]
     },
     "execution_count": 32,
     "metadata": {},
     "output_type": "execute_result"
    }
   ],
   "source": [
    "news_topic_all = soup.find_all('div',id = 'nxfr_htp')\n",
    "type(news_topic)"
   ]
  },
  {
   "cell_type": "code",
   "execution_count": 35,
   "metadata": {},
   "outputs": [
    {
     "data": {
      "text/plain": [
       "<div class=\"z_aside section\" id=\"nxfr_htp\"> <div class=\"section_head\"><h2>뉴스토픽</h2></div> <div class=\"realtime_srch _aside_news_tab\"> <div class=\"hotkwd\"> <ul class=\"api_realtime_tab _tab\"> <li class=\"selected\" data-blind-text=\"뉴스토픽 뉴스\" data-index=\"0\"><a href=\"#\" onclick=\"return tCR('htk.nws', 1, '');\">뉴스</a></li> <li data-blind-text=\"뉴스토픽 연예·스포츠\" data-index=\"1\"><a href=\"#\" onclick=\"return tCR('htk.ents', 1, '');\">연예·스포츠</a></li> </ul> </div> <h6 class=\"blind _blind\">뉴스토픽 뉴스</h6> <ol class=\"lst_realtime_srch _tab_area\"><li><a class=\"bx bx_item\" href=\"//search.naver.com/search.naver?where=nexearch&amp;sm=tab_htk.nws&amp;ie=utf8&amp;query=%EB%B6%88%EB%B2%95%ED%8F%90%EA%B8%B0%EB%AC%BC+%ED%8A%B9%EB%B3%84%EC%88%98%EC%82%AC%EB%8B%A8+%EB%B0%9C%EC%A1%B1\" onclick=\"return goOtherCR(this, 'a=htk.nwslist&amp;r=1&amp;i=&amp;u='+urlencode(urlexpand(this.href)));\"><span class=\"keyword\"><em class=\"num\">1</em><span class=\"tit\">불법폐기물 특별수사단 발족</span></span><em class=\"rank new\"><span class=\"spim\"></span><span>NEW</span></em></a></li><li><a class=\"bx bx_item\" href=\"//search.naver.com/search.naver?where=nexearch&amp;sm=tab_htk.nws&amp;ie=utf8&amp;query=%ED%95%9C%EC%84%A0%EA%B5%90+%EA%B8%B0%EC%9E%90%EB%93%A4+%ED%96%A5%ED%95%B4\" onclick=\"return goOtherCR(this, 'a=htk.nwslist&amp;r=2&amp;i=&amp;u='+urlencode(urlexpand(this.href)));\"><span class=\"keyword\"><em class=\"num\">2</em><span class=\"tit\">한선교 기자들 향해</span></span><em class=\"rank new\"><span class=\"spim\"></span><span>NEW</span></em></a></li><li><a class=\"bx bx_item\" href=\"//search.naver.com/search.naver?where=nexearch&amp;sm=tab_htk.nws&amp;ie=utf8&amp;query=%EA%B2%80%EC%B0%B0+%EC%BD%94%EC%98%A4%EB%A1%B1%EC%83%9D%EB%AA%85%EA%B3%BC%ED%95%99+%EC%95%95%EC%88%98%EC%88%98%EC%83%89\" onclick=\"return goOtherCR(this, 'a=htk.nwslist&amp;r=3&amp;i=&amp;u='+urlencode(urlexpand(this.href)));\"><span class=\"keyword\"><em class=\"num\">3</em><span class=\"tit\">검찰 코오롱생명과학 압수수색</span></span><em class=\"rank new\"><span class=\"spim\"></span><span>NEW</span></em></a></li><li><a class=\"bx bx_item\" href=\"//search.naver.com/search.naver?where=nexearch&amp;sm=tab_htk.nws&amp;ie=utf8&amp;query=%EA%B5%AD%EC%84%B8%EC%B2%AD+%EC%82%AC%EC%B9%AD\" onclick=\"return goOtherCR(this, 'a=htk.nwslist&amp;r=4&amp;i=&amp;u='+urlencode(urlexpand(this.href)));\"><span class=\"keyword\"><em class=\"num\">4</em><span class=\"tit\">국세청 사칭</span></span><em class=\"rank new\"><span class=\"spim\"></span><span>NEW</span></em></a></li><li><a class=\"bx bx_item\" href=\"//search.naver.com/search.naver?where=nexearch&amp;sm=tab_htk.nws&amp;ie=utf8&amp;query=%EB%8C%80%EC%9A%B0%EA%B1%B4%EC%84%A4+%EC%9D%84%EC%A7%80%EB%A1%9C%EC%8B%9C%EB%8C%80+%EA%B0%9C%EB%A7%89\" onclick=\"return goOtherCR(this, 'a=htk.nwslist&amp;r=5&amp;i=&amp;u='+urlencode(urlexpand(this.href)));\"><span class=\"keyword\"><em class=\"num\">5</em><span class=\"tit\">대우건설 을지로시대 개막</span></span><em class=\"rank new\"><span class=\"spim\"></span><span>NEW</span></em></a></li><li><a class=\"bx bx_item\" href=\"//search.naver.com/search.naver?where=nexearch&amp;sm=tab_htk.nws&amp;ie=utf8&amp;query=%EC%A0%95%EA%B2%BD%EB%91%90+%EA%B5%AD%EB%B0%A9\" onclick=\"return goOtherCR(this, 'a=htk.nwslist&amp;r=6&amp;i=&amp;u='+urlencode(urlexpand(this.href)));\"><span class=\"keyword\"><em class=\"num\">6</em><span class=\"tit\">정경두 국방</span></span><em class=\"rank new\"><span class=\"spim\"></span><span>NEW</span></em></a></li><li><a class=\"bx bx_item\" href=\"//search.naver.com/search.naver?where=nexearch&amp;sm=tab_htk.nws&amp;ie=utf8&amp;query=%EB%B0%98%EB%A0%A4%EA%B2%AC+%EC%88%98%EC%98%81%EB%8C%80%ED%9A%8C\" onclick=\"return goOtherCR(this, 'a=htk.nwslist&amp;r=7&amp;i=&amp;u='+urlencode(urlexpand(this.href)));\"><span class=\"keyword\"><em class=\"num\">7</em><span class=\"tit\">반려견 수영대회</span></span><em class=\"rank new\"><span class=\"spim\"></span><span>NEW</span></em></a></li><li><a class=\"bx bx_item\" href=\"//search.naver.com/search.naver?where=nexearch&amp;sm=tab_htk.nws&amp;ie=utf8&amp;query=%ED%95%9C%EB%AF%B8+%EA%B5%AD%EB%B0%A9%EC%9E%A5%EA%B4%80%ED%9A%8C%EB%8B%B4\" onclick=\"return goOtherCR(this, 'a=htk.nwslist&amp;r=8&amp;i=&amp;u='+urlencode(urlexpand(this.href)));\"><span class=\"keyword\"><em class=\"num\">8</em><span class=\"tit\">한미 국방장관회담</span></span><em class=\"rank new\"><span class=\"spim\"></span><span>NEW</span></em></a></li><li><a class=\"bx bx_item\" href=\"//search.naver.com/search.naver?where=nexearch&amp;sm=tab_htk.nws&amp;ie=utf8&amp;query=%EC%84%9C%EC%9A%B8%EC%97%B0%EA%B5%AC%EC%9B%90+%EB%AF%BC%EC%A3%BC%EC%97%B0%EA%B5%AC%EC%9B%90\" onclick=\"return goOtherCR(this, 'a=htk.nwslist&amp;r=9&amp;i=&amp;u='+urlencode(urlexpand(this.href)));\"><span class=\"keyword\"><em class=\"num\">9</em><span class=\"tit\">서울연구원 민주연구원</span></span><em class=\"rank new\"><span class=\"spim\"></span><span>NEW</span></em></a></li><li><a class=\"bx\" href=\"//search.naver.com/search.naver?where=nexearch&amp;sm=tab_htk.nws&amp;ie=utf8&amp;query=%EC%9C%A0%EC%8B%9C%EB%AF%BC+%ED%99%8D%EC%A4%80%ED%91%9C\" onclick=\"return goOtherCR(this, 'a=htk.nwslist&amp;r=10&amp;i=&amp;u='+urlencode(urlexpand(this.href)));\"><span class=\"keyword\"><em class=\"num\">10</em><span class=\"tit\">유시민 홍준표</span></span></a></li></ol> <ol class=\"lst_realtime_srch _tab_area\" style=\"display:none;\"><li><a class=\"bx bx_item\" href=\"//search.naver.com/search.naver?where=nexearch&amp;sm=tab_htk.ent&amp;ie=utf8&amp;query=%EC%8A%88%ED%8D%BC%EC%A3%BC%EB%8B%88%EC%96%B4+%EA%B0%95%EC%9D%B8+%EC%84%B1%EB%AF%BC+%EC%A0%9C%EC%99%B8+9%EC%9D%B8+%EC%B2%B4%EC%A0%9C\" onclick=\"return goOtherCR(this, 'a=htk.entslist&amp;r=1&amp;i=&amp;u='+urlencode(urlexpand(this.href)));\"><span class=\"keyword\"><em class=\"num\">1</em><span class=\"tit\">슈퍼주니어 강인 성민 제외 9인 체제</span></span><em class=\"rank new\"><span class=\"spim\"></span><span>NEW</span></em></a></li><li><a class=\"bx bx_item\" href=\"//search.naver.com/search.naver?where=nexearch&amp;sm=tab_htk.ent&amp;ie=utf8&amp;query=%EC%A0%95%EC%86%8C%EB%AF%BC+%EA%B3%B5%EB%AA%85\" onclick=\"return goOtherCR(this, 'a=htk.entslist&amp;r=2&amp;i=&amp;u='+urlencode(urlexpand(this.href)));\"><span class=\"keyword\"><em class=\"num\">2</em><span class=\"tit\">정소민 공명</span></span><em class=\"rank new\"><span class=\"spim\"></span><span>NEW</span></em></a></li><li><a class=\"bx bx_item\" href=\"//search.naver.com/search.naver?where=nexearch&amp;sm=tab_htk.ent&amp;ie=utf8&amp;query=%EC%9D%B4%ED%95%98%EC%9D%B4+%EB%88%84%EA%B5%AC+%EC%97%86%EC%86%8C\" onclick=\"return goOtherCR(this, 'a=htk.entslist&amp;r=3&amp;i=&amp;u='+urlencode(urlexpand(this.href)));\"><span class=\"keyword\"><em class=\"num\">3</em><span class=\"tit\">이하이 누구 없소</span></span><em class=\"rank new\"><span class=\"spim\"></span><span>NEW</span></em></a></li><li><a class=\"bx bx_item\" href=\"//search.naver.com/search.naver?where=nexearch&amp;sm=tab_htk.ent&amp;ie=utf8&amp;query=%EB%9D%BC%EB%94%94%EC%98%A4%EC%87%BC+%EC%A0%95%EC%9D%80%EC%A7%80\" onclick=\"return goOtherCR(this, 'a=htk.entslist&amp;r=4&amp;i=&amp;u='+urlencode(urlexpand(this.href)));\"><span class=\"keyword\"><em class=\"num\">4</em><span class=\"tit\">라디오쇼 정은지</span></span><em class=\"rank new\"><span class=\"spim\"></span><span>NEW</span></em></a></li><li><a class=\"bx bx_item\" href=\"//search.naver.com/search.naver?where=nexearch&amp;sm=tab_htk.ent&amp;ie=utf8&amp;query=%EB%AF%B8%EC%8A%A4%ED%8A%B8%EB%A1%AF+%EC%BD%98%EC%84%9C%ED%8A%B8+%EC%B8%A1\" onclick=\"return goOtherCR(this, 'a=htk.entslist&amp;r=5&amp;i=&amp;u='+urlencode(urlexpand(this.href)));\"><span class=\"keyword\"><em class=\"num\">5</em><span class=\"tit\">미스트롯 콘서트 측</span></span><em class=\"rank new\"><span class=\"spim\"></span><span>NEW</span></em></a></li><li><a class=\"bx bx_item\" href=\"//search.naver.com/search.naver?where=nexearch&amp;sm=tab_htk.ent&amp;ie=utf8&amp;query=%EA%B0%80%EC%9A%94%EA%B4%91%EC%9E%A5+%EC%8B%A0%EC%84%B1%EB%A1%9D\" onclick=\"return goOtherCR(this, 'a=htk.entslist&amp;r=6&amp;i=&amp;u='+urlencode(urlexpand(this.href)));\"><span class=\"keyword\"><em class=\"num\">6</em><span class=\"tit\">가요광장 신성록</span></span><em class=\"rank new\"><span class=\"spim\"></span><span>NEW</span></em></a></li><li><a class=\"bx bx_item\" href=\"//search.naver.com/search.naver?where=nexearch&amp;sm=tab_htk.ent&amp;ie=utf8&amp;query=%EB%AC%B8%ED%9D%AC%EC%A4%80+%EC%86%8C%EC%9C%A8\" onclick=\"return goOtherCR(this, 'a=htk.entslist&amp;r=7&amp;i=&amp;u='+urlencode(urlexpand(this.href)));\"><span class=\"keyword\"><em class=\"num\">7</em><span class=\"tit\">문희준 소율</span></span><em class=\"rank new\"><span class=\"spim\"></span><span>NEW</span></em></a></li><li><a class=\"bx\" href=\"//search.naver.com/search.naver?where=nexearch&amp;sm=tab_htk.ent&amp;ie=utf8&amp;query=%EB%9F%B0%EB%8B%9D%EB%A7%A8+%EC%9E%90%EB%A7%89+%EB%85%BC%EB%9E%80\" onclick=\"return goOtherCR(this, 'a=htk.entslist&amp;r=8&amp;i=&amp;u='+urlencode(urlexpand(this.href)));\"><span class=\"keyword\"><em class=\"num\">8</em><span class=\"tit\">런닝맨 자막 논란</span></span></a></li><li><a class=\"bx bx_item\" href=\"//search.naver.com/search.naver?where=nexearch&amp;sm=tab_htk.ent&amp;ie=utf8&amp;query=%EC%8B%A0%EC%A0%95%ED%99%98+%EA%B7%BC%ED%99%A9\" onclick=\"return goOtherCR(this, 'a=htk.entslist&amp;r=9&amp;i=&amp;u='+urlencode(urlexpand(this.href)));\"><span class=\"keyword\"><em class=\"num\">9</em><span class=\"tit\">신정환 근황</span></span><em class=\"rank new\"><span class=\"spim\"></span><span>NEW</span></em></a></li><li><a class=\"bx bx_item\" href=\"//search.naver.com/search.naver?where=nexearch&amp;sm=tab_htk.ent&amp;ie=utf8&amp;query=%EA%B6%8C%EC%88%98%ED%98%84+%EC%95%84%EC%A7%80%ED%8A%B8+%EA%B8%89%EC%8A%B5\" onclick=\"return goOtherCR(this, 'a=htk.entslist&amp;r=10&amp;i=&amp;u='+urlencode(urlexpand(this.href)));\"><span class=\"keyword\"><em class=\"num\">10</em><span class=\"tit\">권수현 아지트 급습</span></span><em class=\"rank new\"><span class=\"spim\"></span><span>NEW</span></em></a></li></ol><div class=\"realtime_srch_area\"><p class=\"dsc\"><time>2019.06.03. 11:30 ~ 14:30</time> 기준 <a class=\"link_rts_help\" href=\"https://help.naver.com/support/alias/search/word/word_3.naver\" onclick=\"return goOtherCR(this, 'a=htk.guide&amp;r=&amp;i=&amp;u='+urlencode(this.href));\" target=\"_blank\"><i class=\"sprenew api_ico_help2\">도움말</i></a></p></div> </div> </div>"
      ]
     },
     "execution_count": 35,
     "metadata": {},
     "output_type": "execute_result"
    }
   ],
   "source": [
    "news_topic_all[0]"
   ]
  },
  {
   "cell_type": "markdown",
   "metadata": {},
   "source": [
    "### 태그여야만(find,find_all등을 사용할 수 있다.)"
   ]
  },
  {
   "cell_type": "code",
   "execution_count": 40,
   "metadata": {},
   "outputs": [],
   "source": [
    "li_tags = news_topic.find('ol')"
   ]
  },
  {
   "cell_type": "code",
   "execution_count": 43,
   "metadata": {},
   "outputs": [],
   "source": [
    "ol_tags = news_topic.find_all('ol')"
   ]
  },
  {
   "cell_type": "code",
   "execution_count": 44,
   "metadata": {},
   "outputs": [
    {
     "data": {
      "text/plain": [
       "2"
      ]
     },
     "execution_count": 44,
     "metadata": {},
     "output_type": "execute_result"
    }
   ],
   "source": [
    "len(ol_tags\n",
    ")"
   ]
  },
  {
   "cell_type": "code",
   "execution_count": 51,
   "metadata": {
    "scrolled": false
   },
   "outputs": [
    {
     "data": {
      "text/plain": [
       "10"
      ]
     },
     "execution_count": 51,
     "metadata": {},
     "output_type": "execute_result"
    }
   ],
   "source": [
    "news_ol,sports_ol = ol_tags\n",
    "len(news_ol)"
   ]
  },
  {
   "cell_type": "code",
   "execution_count": 64,
   "metadata": {},
   "outputs": [
    {
     "name": "stdout",
     "output_type": "stream",
     "text": [
      "불법폐기물 특별수사단 발족\n"
     ]
    }
   ],
   "source": [
    "li_list = news_ol.contents\n",
    "list_tt = []\n",
    "for item in li_list:\n",
    "    a_tag = item.find('a')\n",
    "#     list_tt.append(a_tag['href'])\n",
    "    print(a_tag.find('span',class_='tit').text)\n",
    "    break\n",
    "#     print(item.contents[0])"
   ]
  },
  {
   "cell_type": "code",
   "execution_count": null,
   "metadata": {},
   "outputs": [],
   "source": []
  }
 ],
 "metadata": {
  "kernelspec": {
   "display_name": "Python 3",
   "language": "python",
   "name": "python3"
  },
  "language_info": {
   "codemirror_mode": {
    "name": "ipython",
    "version": 3
   },
   "file_extension": ".py",
   "mimetype": "text/x-python",
   "name": "python",
   "nbconvert_exporter": "python",
   "pygments_lexer": "ipython3",
   "version": "3.7.3"
  }
 },
 "nbformat": 4,
 "nbformat_minor": 2
}
