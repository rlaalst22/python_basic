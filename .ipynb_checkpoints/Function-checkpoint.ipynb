{
 "cells": [
  {
   "cell_type": "code",
   "execution_count": 1,
   "metadata": {},
   "outputs": [
    {
     "name": "stdout",
     "output_type": "stream",
     "text": [
      "Hello, Function\n"
     ]
    }
   ],
   "source": [
    "def func():\n",
    "    print('Hello, Function')\n",
    "func()"
   ]
  },
  {
   "cell_type": "code",
   "execution_count": 3,
   "metadata": {},
   "outputs": [
    {
     "name": "stdout",
     "output_type": "stream",
     "text": [
      "Hello, minsu kim\n"
     ]
    }
   ],
   "source": [
    "def func(name):\n",
    "    print('Hello, '+name)\n",
    "name = 'minsu kim'\n",
    "func(name)"
   ]
  },
  {
   "cell_type": "code",
   "execution_count": 8,
   "metadata": {},
   "outputs": [
    {
     "data": {
      "text/plain": [
       "int"
      ]
     },
     "execution_count": 8,
     "metadata": {},
     "output_type": "execute_result"
    }
   ],
   "source": [
    "def func(a,b):\n",
    "    return a + b\n",
    "type(func(1,3))"
   ]
  },
  {
   "cell_type": "code",
   "execution_count": 10,
   "metadata": {},
   "outputs": [
    {
     "data": {
      "text/plain": [
       "tuple"
      ]
     },
     "execution_count": 10,
     "metadata": {},
     "output_type": "execute_result"
    }
   ],
   "source": [
    "def func(a,b):\n",
    "    return a+b, a-b\n",
    "type(func(5,4))"
   ]
  },
  {
   "cell_type": "code",
   "execution_count": 10,
   "metadata": {},
   "outputs": [
    {
     "name": "stdout",
     "output_type": "stream",
     "text": [
      "정수 : 45\n",
      "정수 : 45\n",
      "덧셈 : 90, 뺄셈 : 0, 나눗셈 : 1.0\n"
     ]
    }
   ],
   "source": [
    "def calc(a,b):\n",
    "    print(f'덧셈 : {a+b}, 뺄셈 : {a-b}, 나눗셈 : {a/b}')\n",
    "    return a+b,a-b,a/b\n",
    "a= int(input(\"정수 : \"))\n",
    "b= int(input('정수 : '))\n",
    "a=calc(a,b)"
   ]
  },
  {
   "cell_type": "code",
   "execution_count": 20,
   "metadata": {},
   "outputs": [
    {
     "name": "stdout",
     "output_type": "stream",
     "text": [
      "[1, 11, 40, 19, 3, 15]\n"
     ]
    }
   ],
   "source": [
    "import random\n",
    "def make_lotto_number():\n",
    "    return [random.randint(1,45) for x in range(6)]\n",
    "number = make_lotto_number()\n",
    "print(number)"
   ]
  },
  {
   "cell_type": "code",
   "execution_count": 37,
   "metadata": {},
   "outputs": [
    {
     "name": "stdout",
     "output_type": "stream",
     "text": [
      "3 4 3\n",
      "5 6 2\n",
      "3 4 3\n"
     ]
    }
   ],
   "source": [
    "a=1\n",
    "b=2\n",
    "d=5\n",
    "def func1():\n",
    "    a =3 \n",
    "    b=4\n",
    "    print(a,b,c)\n",
    "func1()"
   ]
  },
  {
   "cell_type": "code",
   "execution_count": 35,
   "metadata": {},
   "outputs": [
    {
     "name": "stdout",
     "output_type": "stream",
     "text": [
      "3 4 3\n",
      "5 6 2\n"
     ]
    }
   ],
   "source": [
    "def func2():\n",
    "    a = 5 \n",
    "    b = 6\n",
    "    c = 2\n",
    "    func1()\n",
    "    print(a,b,c)\n",
    "func2()"
   ]
  },
  {
   "cell_type": "code",
   "execution_count": 30,
   "metadata": {},
   "outputs": [
    {
     "name": "stdout",
     "output_type": "stream",
     "text": [
      "1 2\n"
     ]
    }
   ],
   "source": [
    "print(a,b)"
   ]
  },
  {
   "cell_type": "code",
   "execution_count": 14,
   "metadata": {},
   "outputs": [
    {
     "name": "stdout",
     "output_type": "stream",
     "text": [
      "[0, 3, 6]\n"
     ]
    },
    {
     "data": {
      "text/plain": [
       "list"
      ]
     },
     "execution_count": 14,
     "metadata": {},
     "output_type": "execute_result"
    }
   ],
   "source": [
    "def allindex(a,b):\n",
    "    c=[]\n",
    "    for i,j in enumerate(a):\n",
    "        if a[i] == b:\n",
    "            c.append(i)\n",
    "    print(c)\n",
    "    return c\n",
    "\n",
    "lis = [1,2,3,1,4,2,1]\n",
    "c = allindex(lis,1)\n",
    "type(c)        "
   ]
  },
  {
   "cell_type": "markdown",
   "metadata": {},
   "source": [
    "### 강사님이 하신거"
   ]
  },
  {
   "cell_type": "code",
   "execution_count": 15,
   "metadata": {},
   "outputs": [],
   "source": [
    "def allindex(l,target):\n",
    "    result = []\n",
    "    for idx,x in enumerate(l):\n",
    "        if x == target:\n",
    "            result.append(idx)\n",
    "    return result\n"
   ]
  },
  {
   "cell_type": "code",
   "execution_count": 16,
   "metadata": {},
   "outputs": [],
   "source": [
    "lis = [1,2,3,1,4,2,1]"
   ]
  },
  {
   "cell_type": "code",
   "execution_count": 19,
   "metadata": {},
   "outputs": [
    {
     "data": {
      "text/plain": [
       "[2]"
      ]
     },
     "execution_count": 19,
     "metadata": {},
     "output_type": "execute_result"
    }
   ],
   "source": [
    "allindex(lis,3)"
   ]
  },
  {
   "cell_type": "code",
   "execution_count": 20,
   "metadata": {},
   "outputs": [],
   "source": [
    "import math\n",
    "def euclidean_distance(pos1,pos2):\n",
    "    if type(pos1) != type(pos2) != type(list()):\n",
    "        print('Error')\n",
    "        return None\n",
    "    total = 0\n",
    "    for p1,q1 in zip(pos1,pos2):\n",
    "        total += (p1-q1)**2\n",
    "    return math.sqrt(total)\n"
   ]
  },
  {
   "cell_type": "code",
   "execution_count": 23,
   "metadata": {},
   "outputs": [
    {
     "data": {
      "text/plain": [
       "5.385164807134504"
      ]
     },
     "execution_count": 23,
     "metadata": {},
     "output_type": "execute_result"
    }
   ],
   "source": [
    "pos1 , pos2 = [2,1,3],[5,5,1]\n",
    "euclidean_distance(pos1,pos2)"
   ]
  },
  {
   "cell_type": "code",
   "execution_count": 26,
   "metadata": {},
   "outputs": [
    {
     "data": {
      "text/plain": [
       "9"
      ]
     },
     "execution_count": 26,
     "metadata": {},
     "output_type": "execute_result"
    }
   ],
   "source": [
    "(lambda x : x**2)(3)"
   ]
  },
  {
   "cell_type": "code",
   "execution_count": 27,
   "metadata": {},
   "outputs": [],
   "source": [
    "mul_func = lambda x,y : x*y"
   ]
  },
  {
   "cell_type": "code",
   "execution_count": 28,
   "metadata": {},
   "outputs": [
    {
     "data": {
      "text/plain": [
       "3"
      ]
     },
     "execution_count": 28,
     "metadata": {},
     "output_type": "execute_result"
    }
   ],
   "source": [
    "mul_func(3,1)"
   ]
  },
  {
   "cell_type": "code",
   "execution_count": 30,
   "metadata": {},
   "outputs": [
    {
     "name": "stdout",
     "output_type": "stream",
     "text": [
      "1 2 3\n"
     ]
    }
   ],
   "source": [
    "def func(a,b,c):\n",
    "    print(a,b,c)\n",
    "x = [1,2,3]\n",
    "func(*x)"
   ]
  },
  {
   "cell_type": "code",
   "execution_count": 32,
   "metadata": {},
   "outputs": [
    {
     "name": "stdout",
     "output_type": "stream",
     "text": [
      "1\n",
      "1\n",
      "2\n",
      "3\n",
      "4\n",
      "5\n",
      "6\n"
     ]
    }
   ],
   "source": [
    "def func(*args):\n",
    "    for arg in args:\n",
    "        print(arg)\n",
    "func(1)\n",
    "func(1,2,3,4,5,6)"
   ]
  },
  {
   "cell_type": "code",
   "execution_count": 34,
   "metadata": {},
   "outputs": [
    {
     "name": "stdout",
     "output_type": "stream",
     "text": [
      "100 1 2 3 4 5 "
     ]
    }
   ],
   "source": [
    "def func(a,*args):\n",
    "    print(a,end=\" \")\n",
    "    for arg in args:\n",
    "        print(arg,end = ' ')\n",
    "func(100,1,2,3,4,5)"
   ]
  },
  {
   "cell_type": "code",
   "execution_count": 15,
   "metadata": {},
   "outputs": [
    {
     "name": "stdout",
     "output_type": "stream",
     "text": [
      "이메일 : aa@aa.com\n",
      "이름 tom\n",
      "이메일 : aa@aa.com\n",
      "이름 tom\n"
     ]
    },
    {
     "data": {
      "text/plain": [
       "{'name': 'tom', 'email': 'aa@aa.com'}"
      ]
     },
     "execution_count": 15,
     "metadata": {},
     "output_type": "execute_result"
    }
   ],
   "source": [
    "def func(email,name):\n",
    "    print('이메일 :',email)\n",
    "    print('이름',name)\n",
    "    \n",
    "    return {\n",
    "        'name' : name,\n",
    "        'email' : email\n",
    "    }\n",
    "func(email = 'aa@aa.com', name = 'tom')\n",
    "x = {'email':\"aa@aa.com\",'name':'tom'}\n",
    "func(**x)"
   ]
  },
  {
   "cell_type": "markdown",
   "metadata": {},
   "source": [
    "## 함수값의 리스트 사용 "
   ]
  },
  {
   "cell_type": "code",
   "execution_count": 5,
   "metadata": {},
   "outputs": [
    {
     "data": {
      "text/plain": [
       "6"
      ]
     },
     "execution_count": 5,
     "metadata": {},
     "output_type": "execute_result"
    }
   ],
   "source": [
    "def func1(a,b,c):\n",
    "    return a+b+c\n",
    "func1(1,2,3)"
   ]
  },
  {
   "cell_type": "code",
   "execution_count": 8,
   "metadata": {},
   "outputs": [
    {
     "data": {
      "text/plain": [
       "3"
      ]
     },
     "execution_count": 8,
     "metadata": {},
     "output_type": "execute_result"
    }
   ],
   "source": [
    "a = list(range(3))\n",
    "func1(*a)\n",
    "    "
   ]
  },
  {
   "cell_type": "code",
   "execution_count": 9,
   "metadata": {},
   "outputs": [],
   "source": [
    "def func1(a,b,c):\n",
    "    print(a,b,c,sep = \"--\")\n",
    "    return a+b+c"
   ]
  },
  {
   "cell_type": "code",
   "execution_count": 10,
   "metadata": {},
   "outputs": [
    {
     "name": "stdout",
     "output_type": "stream",
     "text": [
      "0--1--2\n"
     ]
    },
    {
     "data": {
      "text/plain": [
       "3"
      ]
     },
     "execution_count": 10,
     "metadata": {},
     "output_type": "execute_result"
    }
   ],
   "source": [
    "func1(*a)"
   ]
  },
  {
   "cell_type": "code",
   "execution_count": 11,
   "metadata": {},
   "outputs": [],
   "source": [
    "def func2(*args):\n",
    "    print(type(args))\n",
    "    \n",
    "    print('-'*10)\n",
    "    \n",
    "    for arg in args:\n",
    "        print(arg)\n",
    "        \n",
    "    return sum(args)"
   ]
  },
  {
   "cell_type": "code",
   "execution_count": 14,
   "metadata": {},
   "outputs": [
    {
     "name": "stdout",
     "output_type": "stream",
     "text": [
      "<class 'tuple'>\n",
      "----------\n",
      "1\n",
      "2\n",
      "3\n",
      "4\n"
     ]
    },
    {
     "data": {
      "text/plain": [
       "10"
      ]
     },
     "execution_count": 14,
     "metadata": {},
     "output_type": "execute_result"
    }
   ],
   "source": [
    "a=[1,2,3,4]\n",
    "func2(*a)"
   ]
  },
  {
   "cell_type": "code",
   "execution_count": 25,
   "metadata": {},
   "outputs": [
    {
     "ename": "SyntaxError",
     "evalue": "invalid syntax (<ipython-input-25-94f1e160618b>, line 10)",
     "output_type": "error",
     "traceback": [
      "\u001b[1;36m  File \u001b[1;32m\"<ipython-input-25-94f1e160618b>\"\u001b[1;36m, line \u001b[1;32m10\u001b[0m\n\u001b[1;33m    elif a[-1] != ',':\u001b[0m\n\u001b[1;37m       ^\u001b[0m\n\u001b[1;31mSyntaxError\u001b[0m\u001b[1;31m:\u001b[0m invalid syntax\n"
     ]
    }
   ],
   "source": [
    "def make_list(a):\n",
    "    l =[]\n",
    "    t= ''\n",
    "    for i in a:\n",
    "        if i ==',':\n",
    "            l.append(t)\n",
    "            t =''\n",
    "            continue\n",
    "        t += i\n",
    "    return l\n",
    "make_list('1,23,1,23,1')"
   ]
  },
  {
   "cell_type": "code",
   "execution_count": 26,
   "metadata": {},
   "outputs": [],
   "source": [
    "def func6(name,email,age =20):\n",
    "    print('이메일:',name)\n",
    "    print('이름:',email)\n",
    "    print('나이:',age)\n",
    "    "
   ]
  },
  {
   "cell_type": "code",
   "execution_count": 27,
   "metadata": {},
   "outputs": [
    {
     "name": "stdout",
     "output_type": "stream",
     "text": [
      "이메일: 김민수\n",
      "이름: msoo6465@gmail.com\n",
      "나이: 20\n"
     ]
    }
   ],
   "source": [
    "func6('김민수', 'msoo6465@gmail.com')"
   ]
  },
  {
   "cell_type": "code",
   "execution_count": 28,
   "metadata": {},
   "outputs": [],
   "source": [
    "def last_func(name,email,addr=None,age=20,*args,**kwargs):\n",
    "    print('name:', name)\n",
    "    print('email:',email)\n",
    "    print('age',age)\n",
    "    \n",
    "    if addr is None:\n",
    "        addr = '서울시'\n",
    "    print('addr:',addr)\n",
    "    \n",
    "    print('-'*10,'args 시작')\n",
    "    for arg in args:\n",
    "        print(arg)\n",
    "        \n",
    "    print('-'*10,'kwargs 시작')\n",
    "    for key in kwargs:\n",
    "        print(key,kwargs[key])\n",
    "    "
   ]
  },
  {
   "cell_type": "code",
   "execution_count": 30,
   "metadata": {},
   "outputs": [
    {
     "name": "stdout",
     "output_type": "stream",
     "text": [
      "name: 김민수\n",
      "email: msoo6465@gmail.com\n",
      "age 40\n",
      "addr: 인천시\n",
      "---------- args 시작\n",
      "1\n",
      "2\n",
      "3\n",
      "---------- kwargs 시작\n",
      "is_korean True\n",
      "birth 0305\n"
     ]
    }
   ],
   "source": [
    "last_func('김민수','msoo6465@gmail.com','인천시',40,1,2,3, is_korean = True,birth='0305')"
   ]
  },
  {
   "cell_type": "code",
   "execution_count": 43,
   "metadata": {},
   "outputs": [
    {
     "data": {
      "text/plain": [
       "15"
      ]
     },
     "execution_count": 43,
     "metadata": {},
     "output_type": "execute_result"
    }
   ],
   "source": [
    "def calc(a,*args):\n",
    "    for idx,arg in enumerate(args):\n",
    "        if idx ==0:\n",
    "            t = args[0]\n",
    "        elif idx > 0:\n",
    "            if a == '+':\n",
    "                t += arg\n",
    "            elif a =='-':\n",
    "                t -= arg\n",
    "            elif a == '*':\n",
    "                t *= arg\n",
    "            elif a == '/':\n",
    "                t /=arg\n",
    "    return t\n",
    "\n",
    "calc('+',1,2,3,4,5)"
   ]
  },
  {
   "cell_type": "code",
   "execution_count": 60,
   "metadata": {},
   "outputs": [],
   "source": [
    "def calc(oper, *args):\n",
    "    if oper == '+':\n",
    "        return sum(args)\n",
    "    \n",
    "    elif oper == '-':\n",
    "        criteria = args[0]\n",
    "#         첫번째 방법\n",
    "#         for x in args[1:]:\n",
    "#             criteria -= x\n",
    "#         return criteria\n",
    "#     두번째 방법\n",
    "        return criteria -(sum(args[1:]))\n",
    "    \n",
    "    elif oper =='*':\n",
    "        result = 1\n",
    "        for x in args[1:]:\n",
    "            result *=x\n",
    "        return result\n",
    "    else:\n",
    "        print('Error 발생 철번째 인수는 연산자여야 합니다.')\n",
    "        return None\n",
    "    pass"
   ]
  },
  {
   "cell_type": "code",
   "execution_count": 61,
   "metadata": {},
   "outputs": [
    {
     "data": {
      "text/plain": [
       "-13"
      ]
     },
     "execution_count": 61,
     "metadata": {},
     "output_type": "execute_result"
    }
   ],
   "source": [
    "calc('-',1,2,3,4,5)"
   ]
  },
  {
   "cell_type": "code",
   "execution_count": 65,
   "metadata": {},
   "outputs": [
    {
     "data": {
      "text/plain": [
       "15"
      ]
     },
     "execution_count": 65,
     "metadata": {},
     "output_type": "execute_result"
    }
   ],
   "source": [
    "calc('+',1,2,3,4,5)"
   ]
  },
  {
   "cell_type": "code",
   "execution_count": 64,
   "metadata": {},
   "outputs": [
    {
     "data": {
      "text/plain": [
       "120"
      ]
     },
     "execution_count": 64,
     "metadata": {},
     "output_type": "execute_result"
    }
   ],
   "source": [
    "calc('*',1,2,3,4,5)"
   ]
  },
  {
   "cell_type": "code",
   "execution_count": 55,
   "metadata": {},
   "outputs": [],
   "source": [
    "\n",
    "def calc2(*args):\n",
    "    max_0 = max(args)\n",
    "    min_0 = min(args)\n",
    "    \n",
    "    average = 0\n",
    "    sum_0 = 0\n",
    "    \n",
    "    for arg in args:\n",
    "        sum_0 += arg\n",
    "        \n",
    "    average = sum_0/len(args)\n",
    "    \n",
    "    print(max_0,min_0,average)\n",
    "    \n",
    "    return max_0,min_0,average\n"
   ]
  },
  {
   "cell_type": "code",
   "execution_count": 66,
   "metadata": {},
   "outputs": [],
   "source": [
    "def cal(*args):\n",
    "    print('최대값: {}, 최소값: {}, 평균값: {}'.format(max(args),min(args),sum(args)/len(args)))"
   ]
  },
  {
   "cell_type": "code",
   "execution_count": 67,
   "metadata": {},
   "outputs": [
    {
     "name": "stdout",
     "output_type": "stream",
     "text": [
      "최대값: 99, 최소값: 1, 평균값: 50.0\n"
     ]
    }
   ],
   "source": [
    "cal(1,99)"
   ]
  },
  {
   "cell_type": "code",
   "execution_count": 77,
   "metadata": {},
   "outputs": [
    {
     "name": "stdout",
     "output_type": "stream",
     "text": [
      "밥먹음 -10 <__main__.Dog object at 0x0000000005B9E278>\n",
      "밥먹음 -20 <__main__.Dog object at 0x0000000005B9E278>\n",
      "산책 -10 <__main__.Dog object at 0x0000000005B9E278>\n",
      "산책 10 <__main__.Dog object at 0x0000000005AFA438>\n",
      "-10\n",
      "10\n"
     ]
    },
    {
     "data": {
      "text/plain": [
       "'choco'"
      ]
     },
     "execution_count": 77,
     "metadata": {},
     "output_type": "execute_result"
    }
   ],
   "source": [
    "class Dog:\n",
    "    def __init__(self,name,color):\n",
    "        self.hungry =0\n",
    "        self.name = name\n",
    "        self.color = color\n",
    "    def eat(self):\n",
    "        self.hungry -=10\n",
    "        print('밥먹음',self.hungry,self)\n",
    "    def walk(self):\n",
    "        self.hungry +=10\n",
    "        print('산책',self.hungry,self)\n",
    "choco = Dog('choco','black')\n",
    "jjong = Dog('jjaong','white')\n",
    "\n",
    "choco.eat()\n",
    "choco.eat()\n",
    "choco.walk()\n",
    "jjong.walk()\n",
    "print(choco.hungry)\n",
    "print(jjong.hungry)\n",
    "choco.name"
   ]
  },
  {
   "cell_type": "code",
   "execution_count": 76,
   "metadata": {},
   "outputs": [
    {
     "name": "stdout",
     "output_type": "stream",
     "text": [
      "10\n"
     ]
    }
   ],
   "source": [
    "my_dog = Dog('da','white')\n",
    "my_dog.weight = 10\n",
    "print(my_dog.weight)"
   ]
  },
  {
   "cell_type": "code",
   "execution_count": 78,
   "metadata": {},
   "outputs": [],
   "source": [
    "a = [1,2,3,4]"
   ]
  },
  {
   "cell_type": "code",
   "execution_count": 79,
   "metadata": {},
   "outputs": [],
   "source": [
    "a.append(5)"
   ]
  },
  {
   "cell_type": "code",
   "execution_count": 80,
   "metadata": {},
   "outputs": [
    {
     "data": {
      "text/plain": [
       "[1, 2, 3, 4, 5]"
      ]
     },
     "execution_count": 80,
     "metadata": {},
     "output_type": "execute_result"
    }
   ],
   "source": [
    "a"
   ]
  },
  {
   "cell_type": "code",
   "execution_count": 151,
   "metadata": {},
   "outputs": [],
   "source": [
    "class Car(object):\n",
    "    total_num =0\n",
    "    \n",
    "    @staticmethod\n",
    "    def call_119():\n",
    "        return '119'\n",
    "    @classmethod\n",
    "    def get_total_car(cls):\n",
    "        return cls.total_num\n",
    "    \n",
    "    def __init__(self,model,engine_rank):\n",
    "        self.model = model\n",
    "        self.engine_rank = engine_rank\n",
    "        self.__speed = 0\n",
    "        Car.total_num += 1\n",
    "        \n",
    "    def accelerate(self):\n",
    "        self.__speed += 10\n",
    "        return True\n",
    "    def break_push(self):\n",
    "        self.__speed -= 10\n",
    "        return True\n",
    "        \n",
    "        "
   ]
  },
  {
   "cell_type": "code",
   "execution_count": 119,
   "metadata": {},
   "outputs": [],
   "source": [
    "class BMWCar(Car):\n",
    "    pass"
   ]
  },
  {
   "cell_type": "code",
   "execution_count": 154,
   "metadata": {},
   "outputs": [],
   "source": [
    "my_car = Car('Toyota','S')\n",
    "your_car = Car('Toyota','S')\n",
    "hers_car = Car('Toyota','S')\n",
    "his_car = Car('Toyota','S')"
   ]
  },
  {
   "cell_type": "markdown",
   "metadata": {},
   "source": [
    "### dir 해당 변수가 가지고 있는 데이터 타입이나 클래스의 속성이나 메소드를 반환하는 함수"
   ]
  },
  {
   "cell_type": "code",
   "execution_count": 133,
   "metadata": {},
   "outputs": [],
   "source": [
    "minsu_car = BMWCar('BMW','A')"
   ]
  },
  {
   "cell_type": "code",
   "execution_count": 144,
   "metadata": {},
   "outputs": [
    {
     "data": {
      "text/plain": [
       "4"
      ]
     },
     "execution_count": 144,
     "metadata": {},
     "output_type": "execute_result"
    }
   ],
   "source": [
    "my_car.total_num"
   ]
  },
  {
   "cell_type": "code",
   "execution_count": 149,
   "metadata": {},
   "outputs": [
    {
     "data": {
      "text/plain": [
       "'119'"
      ]
     },
     "execution_count": 149,
     "metadata": {},
     "output_type": "execute_result"
    }
   ],
   "source": [
    "Car.call_119()"
   ]
  },
  {
   "cell_type": "code",
   "execution_count": 141,
   "metadata": {},
   "outputs": [
    {
     "data": {
      "text/plain": [
       "['__class__',\n",
       " '__delattr__',\n",
       " '__dir__',\n",
       " '__doc__',\n",
       " '__eq__',\n",
       " '__format__',\n",
       " '__ge__',\n",
       " '__getattribute__',\n",
       " '__gt__',\n",
       " '__hash__',\n",
       " '__init__',\n",
       " '__init_subclass__',\n",
       " '__le__',\n",
       " '__lt__',\n",
       " '__ne__',\n",
       " '__new__',\n",
       " '__reduce__',\n",
       " '__reduce_ex__',\n",
       " '__repr__',\n",
       " '__setattr__',\n",
       " '__sizeof__',\n",
       " '__str__',\n",
       " '__subclasshook__']"
      ]
     },
     "execution_count": 141,
     "metadata": {},
     "output_type": "execute_result"
    }
   ],
   "source": [
    "dir(object)"
   ]
  },
  {
   "cell_type": "code",
   "execution_count": 150,
   "metadata": {},
   "outputs": [
    {
     "data": {
      "text/plain": [
       "'119'"
      ]
     },
     "execution_count": 150,
     "metadata": {},
     "output_type": "execute_result"
    }
   ],
   "source": [
    "my_car.call_119()"
   ]
  },
  {
   "cell_type": "code",
   "execution_count": 155,
   "metadata": {},
   "outputs": [
    {
     "data": {
      "text/plain": [
       "4"
      ]
     },
     "execution_count": 155,
     "metadata": {},
     "output_type": "execute_result"
    }
   ],
   "source": [
    "Car.get_total_car()"
   ]
  },
  {
   "cell_type": "code",
   "execution_count": 4,
   "metadata": {},
   "outputs": [],
   "source": [
    "a = {\n",
    "    'name': 'tom',\n",
    "    'email':'tom@gmail.com',\n",
    "}\n",
    "b = dict(\n",
    "    name = 'tom',\n",
    "    email = 'tom@gmail.com')"
   ]
  },
  {
   "cell_type": "code",
   "execution_count": 5,
   "metadata": {},
   "outputs": [
    {
     "data": {
      "text/plain": [
       "({'name': 'tom', 'email': 'tom@gmail.com'},\n",
       " {'name': 'tom', 'email': 'tom@gmail.com'})"
      ]
     },
     "execution_count": 5,
     "metadata": {},
     "output_type": "execute_result"
    }
   ],
   "source": [
    "a,b"
   ]
  },
  {
   "cell_type": "code",
   "execution_count": 7,
   "metadata": {},
   "outputs": [],
   "source": [
    "a= '123,1241,15,1231,23,4'\n",
    "b= a.split(',')"
   ]
  },
  {
   "cell_type": "code",
   "execution_count": 8,
   "metadata": {},
   "outputs": [
    {
     "data": {
      "text/plain": [
       "['123', '1241', '15', '1231', '23', '4']"
      ]
     },
     "execution_count": 8,
     "metadata": {},
     "output_type": "execute_result"
    }
   ],
   "source": [
    "b"
   ]
  },
  {
   "cell_type": "code",
   "execution_count": 9,
   "metadata": {},
   "outputs": [],
   "source": [
    "c= a.join(',')"
   ]
  },
  {
   "cell_type": "code",
   "execution_count": 10,
   "metadata": {},
   "outputs": [
    {
     "data": {
      "text/plain": [
       "','"
      ]
     },
     "execution_count": 10,
     "metadata": {},
     "output_type": "execute_result"
    }
   ],
   "source": [
    "c"
   ]
  },
  {
   "cell_type": "code",
   "execution_count": 106,
   "metadata": {},
   "outputs": [],
   "source": [
    "class Car(object):\n",
    "    num_car = 0\n",
    "    \n",
    "    def __init__(self,name,cc,year):\n",
    "        self.__name = name\n",
    "        self.__cc = cc\n",
    "        self.__year = year\n",
    "        Car.num_car += 1\n",
    "        \n",
    "    def change_dict(self,val_dict):\n",
    "        val_dict = {'name':self.__name,\n",
    "             'cc':self.__cc,\n",
    "             'year':self.__year}\n",
    "        return val_dict\n",
    "        \n",
    "    def get_name(self):\n",
    "        return self.__name\n",
    "    def get_cc(self):\n",
    "        return self.__cc\n",
    "    def get_year(self):\n",
    "        return self.__year\n",
    "    \n",
    "        \n",
    "    def change_name(self,chang_name):\n",
    "        self.__name = chang_name\n",
    "        print(self.__name)\n",
    "        \n",
    "    def check_cc(self):\n",
    "        if self.__cc <=1000:\n",
    "            print('소형')\n",
    "        elif self.__cc <= 2000:\n",
    "            print('중형')\n",
    "        elif self.__cc > 2000:\n",
    "            print('대형')\n",
    "            \n",
    "    @classmethod\n",
    "    def total_car(cls):\n",
    "        print(\"총 생산된 차는 : \",cls.num_car)"
   ]
  },
  {
   "cell_type": "code",
   "execution_count": 116,
   "metadata": {},
   "outputs": [],
   "source": [
    "my_car = Car('BMW',1400,'2018')\n",
    "your_car = Car('HONDA',900,'2006')\n",
    "future_car = Car('KiA',4000,'2025')"
   ]
  },
  {
   "cell_type": "code",
   "execution_count": 115,
   "metadata": {},
   "outputs": [
    {
     "name": "stdout",
     "output_type": "stream",
     "text": [
      "중형\n",
      "소형\n",
      "대형\n"
     ]
    }
   ],
   "source": [
    "my_car.check_cc()\n",
    "your_car.check_cc()\n",
    "future_car.check_cc()"
   ]
  },
  {
   "cell_type": "code",
   "execution_count": 91,
   "metadata": {},
   "outputs": [
    {
     "name": "stdout",
     "output_type": "stream",
     "text": [
      "bmw\n",
      "honda\n",
      "kia\n"
     ]
    }
   ],
   "source": [
    "my_car.change_name('bmw')\n",
    "your_car.change_name('honda')\n",
    "future_car.change_name('kia')"
   ]
  },
  {
   "cell_type": "code",
   "execution_count": 93,
   "metadata": {},
   "outputs": [
    {
     "name": "stdout",
     "output_type": "stream",
     "text": [
      "총 생산된 차는 :  3\n"
     ]
    }
   ],
   "source": [
    "Car.total_car()"
   ]
  },
  {
   "cell_type": "code",
   "execution_count": 110,
   "metadata": {},
   "outputs": [
    {
     "data": {
      "text/plain": [
       "{'name': 'BMW', 'cc': 1400, 'year': '2018'}"
      ]
     },
     "execution_count": 110,
     "metadata": {},
     "output_type": "execute_result"
    }
   ],
   "source": [
    "s = {}\n",
    "my_car.change_dict(s)"
   ]
  },
  {
   "cell_type": "code",
   "execution_count": 117,
   "metadata": {},
   "outputs": [
    {
     "name": "stdout",
     "output_type": "stream",
     "text": [
      "총 생산된 차는 :  6\n"
     ]
    }
   ],
   "source": [
    "my_car.total_car()"
   ]
  },
  {
   "cell_type": "code",
   "execution_count": 118,
   "metadata": {},
   "outputs": [
    {
     "name": "stdout",
     "output_type": "stream",
     "text": [
      "총 생산된 차는 :  6\n"
     ]
    }
   ],
   "source": [
    "Car.total_car()"
   ]
  },
  {
   "cell_type": "markdown",
   "metadata": {},
   "source": [
    "### 강사님 연습문제 풀이"
   ]
  },
  {
   "cell_type": "code",
   "execution_count": 174,
   "metadata": {},
   "outputs": [],
   "source": [
    "class Car(object):\n",
    "    total = 0\n",
    "    year_dict = {}\n",
    "    \n",
    "    \n",
    "    def __init__(self,name,cc,year):\n",
    "        self.__name = name\n",
    "        self.__cc = cc\n",
    "        self.__year = year\n",
    "        \n",
    "        Car.plus_total()\n",
    "        Car.add_year_dict(self)\n",
    "        \n",
    "    @classmethod\n",
    "    def plus_total(cls):\n",
    "        cls.total += 1\n",
    "        \n",
    "    @classmethod\n",
    "    def add_year_dict(cls,instance):\n",
    "        if instance.__year not in cls.year_dict:\n",
    "            cls.year_dict[instance.__year] = []\n",
    "        \n",
    "        cls.year_dict[instance.__year].append(instance)\n",
    "        \n",
    "    @classmethod\n",
    "    def get_cars_by_year(cls,year):\n",
    "        year_dict = cls.year_dict\n",
    "        if year not in year_dict:\n",
    "            return []\n",
    "        else:\n",
    "            return year_dict[year]\n",
    "        \n",
    "    def change_name(self,new_name):\n",
    "        self.__name = new_name\n",
    "        return self.__name\n",
    "    \n",
    "    def get_size(self):\n",
    "        if self.__cc <= 1000:\n",
    "            return '소형'\n",
    "        elif self.__cc < 2000:\n",
    "            return '중형'\n",
    "        else:\n",
    "            return '대형'\n",
    "        \n",
    "    def get_name(self):\n",
    "        return self.__name\n",
    "    def get_cc(self):\n",
    "        return self.__cc\n",
    "    def get_year(self):\n",
    "        return self.__year\n",
    "    \n",
    "    @classmethod\n",
    "    def get_total_num(cls):\n",
    "        return cls.total\n",
    "    \n",
    "    def __repr__(self):\n",
    "        return \"[{},{},{}]\".format(self.__name , self.__cc , self.__year)"
   ]
  },
  {
   "cell_type": "code",
   "execution_count": 175,
   "metadata": {},
   "outputs": [],
   "source": [
    "my_car = Car('BMW',1400,'2018')\n",
    "your_car = Car('HONDA',900,'2006')\n",
    "future_car = Car('KiA',4000,'2025')\n",
    "my_car2 = Car('BMW',1400,'2018')\n",
    "your_car2 = Car('HONDA',900,'2006')\n",
    "future_car2 = Car('KiA',4000,'2025')\n",
    "my_car3 = Car('BMW',1400,'2018')\n",
    "your_car3 = Car('HONDA',900,'2006')\n",
    "future_car3 = Car('KiA',4000,'2025')\n",
    "my_car4 = Car('BMW',1400,'2018')\n",
    "your_car4 = Car('HONDA',900,'2006')\n",
    "future_car4 = Car('KiA',4000,'2025')"
   ]
  },
  {
   "cell_type": "code",
   "execution_count": 176,
   "metadata": {},
   "outputs": [
    {
     "data": {
      "text/plain": [
       "[[BMW,1400,2018], [BMW,1400,2018], [BMW,1400,2018], [BMW,1400,2018]]"
      ]
     },
     "execution_count": 176,
     "metadata": {},
     "output_type": "execute_result"
    }
   ],
   "source": [
    "Car.get_cars_by_year('2018')"
   ]
  },
  {
   "cell_type": "code",
   "execution_count": 177,
   "metadata": {},
   "outputs": [],
   "source": [
    "car_2018 = Car.get_cars_by_year('2018')"
   ]
  },
  {
   "cell_type": "code",
   "execution_count": 178,
   "metadata": {},
   "outputs": [
    {
     "name": "stdout",
     "output_type": "stream",
     "text": [
      "중형\n",
      "중형\n",
      "중형\n",
      "중형\n"
     ]
    }
   ],
   "source": [
    "for car in car_2018 : \n",
    "    size= car.get_size()\n",
    "    print(size)"
   ]
  },
  {
   "cell_type": "code",
   "execution_count": 179,
   "metadata": {},
   "outputs": [],
   "source": [
    "for idx,car in enumerate(car_2018):\n",
    "    new_name = '2019_%s'"
   ]
  },
  {
   "cell_type": "code",
   "execution_count": null,
   "metadata": {},
   "outputs": [],
   "source": []
  },
  {
   "cell_type": "code",
   "execution_count": null,
   "metadata": {},
   "outputs": [],
   "source": []
  },
  {
   "cell_type": "markdown",
   "metadata": {},
   "source": [
    "# 연식에 따라 나누기 "
   ]
  },
  {
   "cell_type": "markdown",
   "metadata": {},
   "source": [
    "### 첫번째 방법 "
   ]
  },
  {
   "cell_type": "markdown",
   "metadata": {},
   "source": [
    "#### 클레스 밖에서 딕셔너리를 이용 "
   ]
  },
  {
   "cell_type": "code",
   "execution_count": 127,
   "metadata": {},
   "outputs": [],
   "source": [
    "my_dict = {}"
   ]
  },
  {
   "cell_type": "code",
   "execution_count": 129,
   "metadata": {},
   "outputs": [],
   "source": [
    "year = my_car.get_year()"
   ]
  },
  {
   "cell_type": "code",
   "execution_count": 130,
   "metadata": {},
   "outputs": [],
   "source": [
    "if year not in my_dict:\n",
    "    my_dict[year] = []"
   ]
  },
  {
   "cell_type": "code",
   "execution_count": 131,
   "metadata": {},
   "outputs": [],
   "source": [
    "my_dict[year].append(my_car)"
   ]
  },
  {
   "cell_type": "code",
   "execution_count": 132,
   "metadata": {},
   "outputs": [
    {
     "data": {
      "text/plain": [
       "{'1994': [<__main__.Car at 0x5d46828>]}"
      ]
     },
     "execution_count": 132,
     "metadata": {},
     "output_type": "execute_result"
    }
   ],
   "source": [
    "my_dict"
   ]
  },
  {
   "cell_type": "code",
   "execution_count": null,
   "metadata": {},
   "outputs": [],
   "source": [
    "my_car = Car('중고차',2000,'1994')\n",
    "#  여기서 부터 \n",
    "def add_dict_car(my_dict, car):\n",
    "    year = car.get_year()\n",
    "    if year not in my_dict:\n",
    "        my_dict[year] = []\n",
    "    my_dict[year].append(car)"
   ]
  },
  {
   "cell_type": "markdown",
   "metadata": {},
   "source": [
    "### 두번째 방법 "
   ]
  },
  {
   "cell_type": "markdown",
   "metadata": {},
   "source": [
    "#### 클레스 함수를 이용하자"
   ]
  },
  {
   "cell_type": "code",
   "execution_count": 1,
   "metadata": {},
   "outputs": [
    {
     "ename": "SyntaxError",
     "evalue": "invalid syntax (<ipython-input-1-9532618310f4>, line 1)",
     "output_type": "error",
     "traceback": [
      "\u001b[1;36m  File \u001b[1;32m\"<ipython-input-1-9532618310f4>\"\u001b[1;36m, line \u001b[1;32m1\u001b[0m\n\u001b[1;33m    for car in car_2018\u001b[0m\n\u001b[1;37m                       ^\u001b[0m\n\u001b[1;31mSyntaxError\u001b[0m\u001b[1;31m:\u001b[0m invalid syntax\n"
     ]
    }
   ],
   "source": [
    "for car in car_2018"
   ]
  },
  {
   "cell_type": "code",
   "execution_count": null,
   "metadata": {},
   "outputs": [],
   "source": []
  },
  {
   "cell_type": "code",
   "execution_count": 3,
   "metadata": {},
   "outputs": [],
   "source": [
    "import sys"
   ]
  },
  {
   "cell_type": "code",
   "execution_count": 4,
   "metadata": {},
   "outputs": [
    {
     "data": {
      "text/plain": [
       "['C:\\\\Users\\\\student\\\\study',\n",
       " 'C:\\\\ProgramData\\\\Anaconda3\\\\python37.zip',\n",
       " 'C:\\\\ProgramData\\\\Anaconda3\\\\DLLs',\n",
       " 'C:\\\\ProgramData\\\\Anaconda3\\\\lib',\n",
       " 'C:\\\\ProgramData\\\\Anaconda3',\n",
       " '',\n",
       " 'C:\\\\ProgramData\\\\Anaconda3\\\\lib\\\\site-packages',\n",
       " 'C:\\\\ProgramData\\\\Anaconda3\\\\lib\\\\site-packages\\\\win32',\n",
       " 'C:\\\\ProgramData\\\\Anaconda3\\\\lib\\\\site-packages\\\\win32\\\\lib',\n",
       " 'C:\\\\ProgramData\\\\Anaconda3\\\\lib\\\\site-packages\\\\Pythonwin',\n",
       " 'C:\\\\ProgramData\\\\Anaconda3\\\\lib\\\\site-packages\\\\IPython\\\\extensions',\n",
       " 'C:\\\\Users\\\\student\\\\.ipython']"
      ]
     },
     "execution_count": 4,
     "metadata": {},
     "output_type": "execute_result"
    }
   ],
   "source": [
    "sys.path"
   ]
  },
  {
   "cell_type": "code",
   "execution_count": 10,
   "metadata": {},
   "outputs": [
    {
     "name": "stdout",
     "output_type": "stream",
     "text": [
      "im minsu ja\n"
     ]
    }
   ],
   "source": [
    "print('im','minsu','ja')"
   ]
  },
  {
   "cell_type": "code",
   "execution_count": 11,
   "metadata": {},
   "outputs": [
    {
     "name": "stdout",
     "output_type": "stream",
     "text": [
      "1 2 3\n"
     ]
    }
   ],
   "source": [
    "print(1,2,3)"
   ]
  },
  {
   "cell_type": "code",
   "execution_count": 12,
   "metadata": {},
   "outputs": [
    {
     "data": {
      "text/plain": [
       "['__call__',\n",
       " '__class__',\n",
       " '__delattr__',\n",
       " '__dir__',\n",
       " '__doc__',\n",
       " '__eq__',\n",
       " '__format__',\n",
       " '__ge__',\n",
       " '__getattribute__',\n",
       " '__gt__',\n",
       " '__hash__',\n",
       " '__init__',\n",
       " '__init_subclass__',\n",
       " '__le__',\n",
       " '__lt__',\n",
       " '__module__',\n",
       " '__name__',\n",
       " '__ne__',\n",
       " '__new__',\n",
       " '__qualname__',\n",
       " '__reduce__',\n",
       " '__reduce_ex__',\n",
       " '__repr__',\n",
       " '__self__',\n",
       " '__setattr__',\n",
       " '__sizeof__',\n",
       " '__str__',\n",
       " '__subclasshook__',\n",
       " '__text_signature__']"
      ]
     },
     "execution_count": 12,
     "metadata": {},
     "output_type": "execute_result"
    }
   ],
   "source": [
    "dir(print)"
   ]
  },
  {
   "cell_type": "code",
   "execution_count": null,
   "metadata": {},
   "outputs": [],
   "source": []
  }
 ],
 "metadata": {
  "kernelspec": {
   "display_name": "Python 3",
   "language": "python",
   "name": "python3"
  },
  "language_info": {
   "codemirror_mode": {
    "name": "ipython",
    "version": 3
   },
   "file_extension": ".py",
   "mimetype": "text/x-python",
   "name": "python",
   "nbconvert_exporter": "python",
   "pygments_lexer": "ipython3",
   "version": "3.7.3"
  }
 },
 "nbformat": 4,
 "nbformat_minor": 2
}
