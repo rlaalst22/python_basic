{
 "cells": [
  {
   "cell_type": "markdown",
   "metadata": {},
   "source": [
    "# 네이버 Kkma 사용하여 summarize"
   ]
  },
  {
   "cell_type": "code",
   "execution_count": 15,
   "metadata": {},
   "outputs": [],
   "source": [
    "import requests\n",
    "import nltk\n",
    "from bs4 import BeautifulSoup as bs\n",
    "from gensim.summarization.summarizer import summarize\n",
    "import string\n",
    "from konlpy.tag import Kkma\n",
    "from konlpy.tag import Hannanum"
   ]
  },
  {
   "cell_type": "code",
   "execution_count": null,
   "metadata": {},
   "outputs": [],
   "source": [
    "url = 'https://news.naver.com/main/read.nhn?mode=LSD&mid=shm&sid1=100&oid=001&aid=0010996363'\n",
    "\n",
    "resp = requests.get(url)\n",
    "soup = bs(resp.content)\n",
    "content = soup.find('div',class_='_article_body_contents').text\n",
    "content = content[72:-73]"
   ]
  },
  {
   "cell_type": "code",
   "execution_count": 73,
   "metadata": {},
   "outputs": [],
   "source": [
    "def get_sentences(txt):\n",
    "    kkma = Kkma()\n",
    "    han = Hannanum()\n",
    "    return kkma.sentences(txt)\n",
    "\n",
    "def get_words(txt):\n",
    "    kkma = Kkma()\n",
    "    return kkma.morphs(txt)\n",
    "\n",
    "def get_keywords(word_list,min_ratio =0.001,max_ratio = 0.5):\n",
    "    assert(min_ratio < 1 and max_ratio < 1)\n",
    "    \n",
    "    count_dict = {}\n",
    "    for word in word_list:\n",
    "        count_dict.setdefault(word,0)\n",
    "        count_dict[word] += 1\n",
    "        \n",
    "    keywords = set()\n",
    "#     print(len(count_dict))\n",
    "    for word,cnt in count_dict.items():\n",
    "        word_percentage = count_dict[word]/len(word_list)\n",
    "#         print(word_percentage)\n",
    "        if word_percentage <= max_ratio and word_percentage >=min_ratio:\n",
    "#             print(\"if\")\n",
    "            keywords.add(word)\n",
    "    return keywords\n",
    "\n",
    "def get_sentence_weight(sentence,keywords):\n",
    "    kkma = Kkma()\n",
    "    sen_list = kkma.morphs(sentence)\n",
    "    window_start = 0; window_end = -1;\n",
    "    \n",
    "    for i in range(len(sen_list)):\n",
    "        if sen_list[i] in keywords:\n",
    "            window_start = i\n",
    "            break\n",
    "    \n",
    "    for i in range(len(sen_list)-1,0,-1):\n",
    "        if sen_list[i] in keywords:\n",
    "            window_end = i\n",
    "            break\n",
    "    \n",
    "    if window_start > window_end:\n",
    "        return 0\n",
    "    \n",
    "    window_size = window_end - window_start +1\n",
    "    \n",
    "    keywords_cnt = 0\n",
    "    for w in sen_list:\n",
    "        if w in keywords:\n",
    "            keywords_cnt += 1\n",
    "    \n",
    "    return keywords_cnt*keywords_cnt *1.0/window_size\n",
    "\n",
    "def summarize(content,max_no_of_sentences = 10):\n",
    "    txt = content\n",
    "    word_list = get_words(txt)\n",
    "    \n",
    "    keywords = get_keywords(word_list)\n",
    "    \n",
    "#     print(keywords)\n",
    "    \n",
    "    sentence_list = get_sentences(txt)\n",
    "    sentence_weight = []\n",
    "    \n",
    "    for sen in sentence_list:\n",
    "        sentence_weight.append((get_sentence_weight(sen,keywords),sen))\n",
    "        \n",
    "    sentence_weight.sort(reverse = True)\n",
    "    \n",
    "    ret_list =[]\n",
    "    ret_cnt = min(max_no_of_sentences,len(sentence_list))\n",
    "#     print(sentence_weight)\n",
    "    for i in range(ret_cnt):\n",
    "        ret_list.append(str(sentence_weight[i][1]))\n",
    "        \n",
    "    return ret_list"
   ]
  },
  {
   "cell_type": "code",
   "execution_count": 77,
   "metadata": {},
   "outputs": [
    {
     "data": {
      "text/plain": [
       "['왼쪽부터 이 석수 기획조정실장, 서 동구 1차 장, 서훈 원장, 김상 균 2차 장. 2019.8.1 toadboy@yna .co .kr 북한이 지난달 31일 발사한 발사체에 대해서는 \" 비행거리 250여 ㎞, 고도는 30여 ㎞ 로 판단되고, 비행 제원의 특성이 신형 단거리 탄도 미사일과 유사하지만, 북한이 신형 대구경 조종 방사 포라고 주장하고 있어 추가 분석 중\" 이라고 말했다.']"
      ]
     },
     "execution_count": 77,
     "metadata": {},
     "output_type": "execute_result"
    }
   ],
   "source": [
    "summarize(content,1)"
   ]
  },
  {
   "cell_type": "code",
   "execution_count": 2,
   "metadata": {},
   "outputs": [],
   "source": [
    "from collections import defaultdict\n",
    "\n",
    "word2id = defaultdict((lambda:0))"
   ]
  },
  {
   "cell_type": "code",
   "execution_count": 8,
   "metadata": {},
   "outputs": [],
   "source": [
    "defaultdict?"
   ]
  }
 ],
 "metadata": {
  "kernelspec": {
   "display_name": "Python 3",
   "language": "python",
   "name": "python3"
  },
  "language_info": {
   "codemirror_mode": {
    "name": "ipython",
    "version": 3
   },
   "file_extension": ".py",
   "mimetype": "text/x-python",
   "name": "python",
   "nbconvert_exporter": "python",
   "pygments_lexer": "ipython3",
   "version": "3.6.8"
  }
 },
 "nbformat": 4,
 "nbformat_minor": 2
}
