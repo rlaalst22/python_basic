{
 "cells": [
  {
   "cell_type": "code",
   "execution_count": 3,
   "metadata": {},
   "outputs": [],
   "source": [
    "import numpy as np"
   ]
  },
  {
   "cell_type": "code",
   "execution_count": 5,
   "metadata": {},
   "outputs": [],
   "source": [
    "a = np.array(range(10))"
   ]
  },
  {
   "cell_type": "code",
   "execution_count": 6,
   "metadata": {},
   "outputs": [
    {
     "data": {
      "text/plain": [
       "array([0, 1, 2, 3, 4, 5, 6, 7, 8, 9])"
      ]
     },
     "execution_count": 6,
     "metadata": {},
     "output_type": "execute_result"
    }
   ],
   "source": [
    "a"
   ]
  },
  {
   "cell_type": "code",
   "execution_count": 8,
   "metadata": {},
   "outputs": [
    {
     "data": {
      "text/plain": [
       "numpy.ndarray"
      ]
     },
     "execution_count": 8,
     "metadata": {},
     "output_type": "execute_result"
    }
   ],
   "source": [
    "type(a)"
   ]
  },
  {
   "cell_type": "code",
   "execution_count": 9,
   "metadata": {},
   "outputs": [
    {
     "data": {
      "text/plain": [
       "array([ 5,  4,  8, 10])"
      ]
     },
     "execution_count": 9,
     "metadata": {},
     "output_type": "execute_result"
    }
   ],
   "source": [
    "l1 = [5,4,8,10]\n",
    "b=np.array(l1)\n",
    "b"
   ]
  },
  {
   "cell_type": "code",
   "execution_count": 10,
   "metadata": {},
   "outputs": [
    {
     "data": {
      "text/plain": [
       "dtype('int32')"
      ]
     },
     "execution_count": 10,
     "metadata": {},
     "output_type": "execute_result"
    }
   ],
   "source": [
    "a.dtype"
   ]
  },
  {
   "cell_type": "code",
   "execution_count": 11,
   "metadata": {},
   "outputs": [
    {
     "data": {
      "text/plain": [
       "dtype('int32')"
      ]
     },
     "execution_count": 11,
     "metadata": {},
     "output_type": "execute_result"
    }
   ],
   "source": [
    "b.dtype"
   ]
  },
  {
   "cell_type": "code",
   "execution_count": 14,
   "metadata": {},
   "outputs": [
    {
     "data": {
      "text/plain": [
       "[1, 2.0, 3, 'a']"
      ]
     },
     "execution_count": 14,
     "metadata": {},
     "output_type": "execute_result"
    }
   ],
   "source": [
    "l2 = [1,2.0,3,'a']\n",
    "l2"
   ]
  },
  {
   "cell_type": "code",
   "execution_count": 15,
   "metadata": {},
   "outputs": [
    {
     "data": {
      "text/plain": [
       "array(['1', '2.0', '3', 'a'], dtype='<U32')"
      ]
     },
     "execution_count": 15,
     "metadata": {},
     "output_type": "execute_result"
    }
   ],
   "source": [
    "np.array(l2)"
   ]
  },
  {
   "cell_type": "code",
   "execution_count": 16,
   "metadata": {},
   "outputs": [
    {
     "data": {
      "text/plain": [
       "(10,)"
      ]
     },
     "execution_count": 16,
     "metadata": {},
     "output_type": "execute_result"
    }
   ],
   "source": [
    "a.shape"
   ]
  },
  {
   "cell_type": "code",
   "execution_count": 17,
   "metadata": {},
   "outputs": [
    {
     "data": {
      "text/plain": [
       "(4,)"
      ]
     },
     "execution_count": 17,
     "metadata": {},
     "output_type": "execute_result"
    }
   ],
   "source": [
    "b.shape"
   ]
  },
  {
   "cell_type": "code",
   "execution_count": 18,
   "metadata": {},
   "outputs": [
    {
     "ename": "NameError",
     "evalue": "name 'c' is not defined",
     "output_type": "error",
     "traceback": [
      "\u001b[1;31m---------------------------------------------------------------------------\u001b[0m",
      "\u001b[1;31mNameError\u001b[0m                                 Traceback (most recent call last)",
      "\u001b[1;32m<ipython-input-18-d6049491b182>\u001b[0m in \u001b[0;36m<module>\u001b[1;34m\u001b[0m\n\u001b[1;32m----> 1\u001b[1;33m \u001b[0mc\u001b[0m\u001b[1;33m.\u001b[0m\u001b[0mshape\u001b[0m\u001b[1;33m\u001b[0m\u001b[1;33m\u001b[0m\u001b[0m\n\u001b[0m",
      "\u001b[1;31mNameError\u001b[0m: name 'c' is not defined"
     ]
    }
   ],
   "source": [
    "c.shape"
   ]
  },
  {
   "cell_type": "code",
   "execution_count": 27,
   "metadata": {},
   "outputs": [],
   "source": [
    "l1 = [[1,2,3],[3,4,3]]"
   ]
  },
  {
   "cell_type": "code",
   "execution_count": 28,
   "metadata": {},
   "outputs": [],
   "source": [
    "a = np.array(l1)"
   ]
  },
  {
   "cell_type": "code",
   "execution_count": 29,
   "metadata": {},
   "outputs": [
    {
     "data": {
      "text/plain": [
       "array([[1, 2, 3],\n",
       "       [3, 4, 3]])"
      ]
     },
     "execution_count": 29,
     "metadata": {},
     "output_type": "execute_result"
    }
   ],
   "source": [
    "a"
   ]
  },
  {
   "cell_type": "code",
   "execution_count": 30,
   "metadata": {},
   "outputs": [
    {
     "data": {
      "text/plain": [
       "(2, 3)"
      ]
     },
     "execution_count": 30,
     "metadata": {},
     "output_type": "execute_result"
    }
   ],
   "source": [
    "a.shape"
   ]
  },
  {
   "cell_type": "code",
   "execution_count": 33,
   "metadata": {},
   "outputs": [
    {
     "name": "stdout",
     "output_type": "stream",
     "text": [
      "range(0, 10)\n"
     ]
    },
    {
     "data": {
      "text/plain": [
       "array([0, 1, 2, 3, 4, 5, 6, 7, 8, 9])"
      ]
     },
     "execution_count": 33,
     "metadata": {},
     "output_type": "execute_result"
    }
   ],
   "source": [
    "print(range(10))\n",
    "np.arange(10)"
   ]
  },
  {
   "cell_type": "code",
   "execution_count": 34,
   "metadata": {},
   "outputs": [
    {
     "data": {
      "text/plain": [
       "array([2, 3, 4, 5, 6, 7, 8, 9])"
      ]
     },
     "execution_count": 34,
     "metadata": {},
     "output_type": "execute_result"
    }
   ],
   "source": [
    "np.arange(2,10)"
   ]
  },
  {
   "cell_type": "code",
   "execution_count": 35,
   "metadata": {},
   "outputs": [
    {
     "data": {
      "text/plain": [
       "array([2, 4, 6, 8])"
      ]
     },
     "execution_count": 35,
     "metadata": {},
     "output_type": "execute_result"
    }
   ],
   "source": [
    "np.arange(2,10,2)"
   ]
  },
  {
   "cell_type": "code",
   "execution_count": 36,
   "metadata": {},
   "outputs": [
    {
     "data": {
      "text/plain": [
       "array([  1. ,  64.5, 128. , 191.5, 255. ])"
      ]
     },
     "execution_count": 36,
     "metadata": {},
     "output_type": "execute_result"
    }
   ],
   "source": [
    "np.linspace(1,255,5)"
   ]
  },
  {
   "cell_type": "code",
   "execution_count": 42,
   "metadata": {},
   "outputs": [
    {
     "data": {
      "text/plain": [
       "array([  0.,  10.,  20.,  30.,  40.,  50.,  60.,  70.,  80.,  90., 100.,\n",
       "       110., 120., 130., 140., 150., 160., 170., 180., 190., 200., 210.,\n",
       "       220., 230., 240., 250., 260., 270., 280., 290., 300., 310., 320.,\n",
       "       330., 340., 350., 360., 370., 380., 390., 400., 410., 420., 430.,\n",
       "       440., 450., 460., 470., 480., 490.])"
      ]
     },
     "execution_count": 42,
     "metadata": {},
     "output_type": "execute_result"
    }
   ],
   "source": [
    "np.linspace(0,490)"
   ]
  },
  {
   "cell_type": "code",
   "execution_count": 48,
   "metadata": {},
   "outputs": [],
   "source": [
    "a = np.arange(10)"
   ]
  },
  {
   "cell_type": "code",
   "execution_count": 49,
   "metadata": {},
   "outputs": [
    {
     "data": {
      "text/plain": [
       "array([0, 1, 2, 3, 4, 5, 6, 7, 8, 9])"
      ]
     },
     "execution_count": 49,
     "metadata": {},
     "output_type": "execute_result"
    }
   ],
   "source": [
    "a"
   ]
  },
  {
   "cell_type": "code",
   "execution_count": 50,
   "metadata": {},
   "outputs": [
    {
     "data": {
      "text/plain": [
       "dtype('int32')"
      ]
     },
     "execution_count": 50,
     "metadata": {},
     "output_type": "execute_result"
    }
   ],
   "source": [
    "a.dtype"
   ]
  },
  {
   "cell_type": "code",
   "execution_count": 51,
   "metadata": {},
   "outputs": [
    {
     "data": {
      "text/plain": [
       "(10,)"
      ]
     },
     "execution_count": 51,
     "metadata": {},
     "output_type": "execute_result"
    }
   ],
   "source": [
    "a.shape"
   ]
  },
  {
   "cell_type": "code",
   "execution_count": 54,
   "metadata": {},
   "outputs": [
    {
     "data": {
      "text/plain": [
       "array([0, 1, 2, 3, 4, 5, 6, 7, 8, 9])"
      ]
     },
     "execution_count": 54,
     "metadata": {},
     "output_type": "execute_result"
    }
   ],
   "source": [
    "b= a.reshape(2,5)\n",
    "b\n",
    "a"
   ]
  },
  {
   "cell_type": "markdown",
   "metadata": {},
   "source": [
    "## 또 다른 방법"
   ]
  },
  {
   "cell_type": "code",
   "execution_count": 62,
   "metadata": {},
   "outputs": [
    {
     "data": {
      "text/plain": [
       "array([[0, 1, 2, 3, 4],\n",
       "       [5, 6, 7, 8, 9]])"
      ]
     },
     "execution_count": 62,
     "metadata": {},
     "output_type": "execute_result"
    }
   ],
   "source": [
    "a.shape = (2,5)\n",
    "a"
   ]
  },
  {
   "cell_type": "code",
   "execution_count": 63,
   "metadata": {},
   "outputs": [
    {
     "data": {
      "text/plain": [
       "2"
      ]
     },
     "execution_count": 63,
     "metadata": {},
     "output_type": "execute_result"
    }
   ],
   "source": [
    "len(a)"
   ]
  },
  {
   "cell_type": "code",
   "execution_count": 60,
   "metadata": {},
   "outputs": [
    {
     "data": {
      "text/plain": [
       "array([0, 1, 2, 3, 4, 5, 6, 7, 8, 9])"
      ]
     },
     "execution_count": 60,
     "metadata": {},
     "output_type": "execute_result"
    }
   ],
   "source": [
    "a"
   ]
  },
  {
   "cell_type": "code",
   "execution_count": 61,
   "metadata": {},
   "outputs": [
    {
     "data": {
      "text/plain": [
       "10"
      ]
     },
     "execution_count": 61,
     "metadata": {},
     "output_type": "execute_result"
    }
   ],
   "source": [
    "len(a)"
   ]
  },
  {
   "cell_type": "code",
   "execution_count": 65,
   "metadata": {},
   "outputs": [],
   "source": [
    "a = np.linspace(0,100)"
   ]
  },
  {
   "cell_type": "code",
   "execution_count": 66,
   "metadata": {},
   "outputs": [
    {
     "data": {
      "text/plain": [
       "dtype('float64')"
      ]
     },
     "execution_count": 66,
     "metadata": {},
     "output_type": "execute_result"
    }
   ],
   "source": [
    "a.dtype"
   ]
  },
  {
   "cell_type": "code",
   "execution_count": 71,
   "metadata": {},
   "outputs": [
    {
     "data": {
      "text/plain": [
       "array([  0,   2,   4,   6,   8,  10,  12,  14,  16,  18,  20,  22,  24,\n",
       "        26,  28,  30,  32,  34,  36,  38,  40,  42,  44,  46,  48,  51,\n",
       "        53,  55,  57,  59,  61,  63,  65,  67,  69,  71,  73,  75,  77,\n",
       "        79,  81,  83,  85,  87,  89,  91,  93,  95,  97, 100], dtype=int32)"
      ]
     },
     "execution_count": 71,
     "metadata": {},
     "output_type": "execute_result"
    }
   ],
   "source": [
    "a.astype('i')"
   ]
  },
  {
   "cell_type": "code",
   "execution_count": 72,
   "metadata": {},
   "outputs": [
    {
     "data": {
      "text/plain": [
       "array([ 1.   ,  3.375,  5.75 ,  8.125, 10.5  , 12.875, 15.25 , 17.625,\n",
       "       20.   ])"
      ]
     },
     "execution_count": 72,
     "metadata": {},
     "output_type": "execute_result"
    }
   ],
   "source": [
    "a = np.linspace(1,20,9)\n",
    "a"
   ]
  },
  {
   "cell_type": "code",
   "execution_count": 73,
   "metadata": {},
   "outputs": [
    {
     "data": {
      "text/plain": [
       "array([[ 1.   ,  3.375,  5.75 ],\n",
       "       [ 8.125, 10.5  , 12.875],\n",
       "       [15.25 , 17.625, 20.   ]])"
      ]
     },
     "execution_count": 73,
     "metadata": {},
     "output_type": "execute_result"
    }
   ],
   "source": [
    "a = a.reshape(3,3)\n",
    "a"
   ]
  },
  {
   "cell_type": "code",
   "execution_count": 74,
   "metadata": {},
   "outputs": [
    {
     "data": {
      "text/plain": [
       "12.875"
      ]
     },
     "execution_count": 74,
     "metadata": {},
     "output_type": "execute_result"
    }
   ],
   "source": [
    "a[1][2]"
   ]
  },
  {
   "cell_type": "code",
   "execution_count": 75,
   "metadata": {},
   "outputs": [
    {
     "data": {
      "text/plain": [
       "12.875"
      ]
     },
     "execution_count": 75,
     "metadata": {},
     "output_type": "execute_result"
    }
   ],
   "source": [
    "a[1,2]"
   ]
  },
  {
   "cell_type": "code",
   "execution_count": 76,
   "metadata": {},
   "outputs": [
    {
     "data": {
      "text/plain": [
       "array([[ 8.125, 10.5  , 12.875],\n",
       "       [15.25 , 17.625, 20.   ]])"
      ]
     },
     "execution_count": 76,
     "metadata": {},
     "output_type": "execute_result"
    }
   ],
   "source": [
    "a[1:]"
   ]
  },
  {
   "cell_type": "code",
   "execution_count": 77,
   "metadata": {},
   "outputs": [
    {
     "data": {
      "text/plain": [
       "array([[ 1.   ,  3.375,  5.75 ],\n",
       "       [ 8.125, 10.5  , 12.875],\n",
       "       [15.25 , 17.625, 20.   ]])"
      ]
     },
     "execution_count": 77,
     "metadata": {},
     "output_type": "execute_result"
    }
   ],
   "source": [
    "a[:3]"
   ]
  },
  {
   "cell_type": "code",
   "execution_count": 78,
   "metadata": {},
   "outputs": [
    {
     "data": {
      "text/plain": [
       "array([[ 8.125, 10.5  , 12.875]])"
      ]
     },
     "execution_count": 78,
     "metadata": {},
     "output_type": "execute_result"
    }
   ],
   "source": [
    "a[1:2]"
   ]
  },
  {
   "cell_type": "code",
   "execution_count": 82,
   "metadata": {},
   "outputs": [
    {
     "data": {
      "text/plain": [
       "array([[ 1.   ,  3.375],\n",
       "       [ 8.125, 10.5  ],\n",
       "       [15.25 , 17.625]])"
      ]
     },
     "execution_count": 82,
     "metadata": {},
     "output_type": "execute_result"
    }
   ],
   "source": [
    "a[:,:2]"
   ]
  },
  {
   "cell_type": "code",
   "execution_count": 83,
   "metadata": {},
   "outputs": [
    {
     "data": {
      "text/plain": [
       "array([4, 5, 6, 7, 8, 9])"
      ]
     },
     "execution_count": 83,
     "metadata": {},
     "output_type": "execute_result"
    }
   ],
   "source": [
    "b[b>3]"
   ]
  },
  {
   "cell_type": "code",
   "execution_count": 85,
   "metadata": {},
   "outputs": [
    {
     "data": {
      "text/plain": [
       "array([10.5  , 12.875])"
      ]
     },
     "execution_count": 85,
     "metadata": {},
     "output_type": "execute_result"
    }
   ],
   "source": [
    "a[1,a[1]>9]"
   ]
  },
  {
   "cell_type": "code",
   "execution_count": 86,
   "metadata": {},
   "outputs": [
    {
     "data": {
      "text/plain": [
       "nan"
      ]
     },
     "execution_count": 86,
     "metadata": {},
     "output_type": "execute_result"
    }
   ],
   "source": [
    "np.nan"
   ]
  },
  {
   "cell_type": "code",
   "execution_count": 87,
   "metadata": {},
   "outputs": [
    {
     "data": {
      "text/plain": [
       "inf"
      ]
     },
     "execution_count": 87,
     "metadata": {},
     "output_type": "execute_result"
    }
   ],
   "source": [
    "np.inf"
   ]
  },
  {
   "cell_type": "code",
   "execution_count": 89,
   "metadata": {},
   "outputs": [],
   "source": [
    "a = np.arange(10)"
   ]
  },
  {
   "cell_type": "code",
   "execution_count": 93,
   "metadata": {},
   "outputs": [
    {
     "data": {
      "text/plain": [
       "array([ 1,  2,  3,  4,  5,  6,  7,  8,  9, 10])"
      ]
     },
     "execution_count": 93,
     "metadata": {},
     "output_type": "execute_result"
    }
   ],
   "source": [
    "b = np.arange(1,11)\n",
    "b"
   ]
  },
  {
   "cell_type": "code",
   "execution_count": 94,
   "metadata": {},
   "outputs": [
    {
     "data": {
      "text/plain": [
       "array([ 1,  3,  5,  7,  9, 11, 13, 15, 17, 19])"
      ]
     },
     "execution_count": 94,
     "metadata": {},
     "output_type": "execute_result"
    }
   ],
   "source": [
    "a+b"
   ]
  },
  {
   "cell_type": "code",
   "execution_count": 3,
   "metadata": {},
   "outputs": [],
   "source": [
    "import numpy as np\n",
    "data1 = range(10)\n",
    "arr1 = np.array(data1)"
   ]
  },
  {
   "cell_type": "code",
   "execution_count": 4,
   "metadata": {},
   "outputs": [
    {
     "data": {
      "text/plain": [
       "array([-0.69846477,  0.70949141,  0.01289601, -0.2295329 , -0.09445581,\n",
       "       -0.20942333,  0.29177165, -0.87433088, -0.57574121, -0.74056209])"
      ]
     },
     "execution_count": 4,
     "metadata": {},
     "output_type": "execute_result"
    }
   ],
   "source": [
    "import random\n",
    "data3 = [random.uniform(-1, 1) for i in range(10)] # List Comprehension\n",
    "arr3 = np.array(data3)\n",
    "arr3"
   ]
  },
  {
   "cell_type": "code",
   "execution_count": 22,
   "metadata": {},
   "outputs": [],
   "source": [
    "arr3.shape = (2,5)"
   ]
  },
  {
   "cell_type": "code",
   "execution_count": 24,
   "metadata": {},
   "outputs": [
    {
     "data": {
      "text/plain": [
       "(2, 5)"
      ]
     },
     "execution_count": 24,
     "metadata": {},
     "output_type": "execute_result"
    }
   ],
   "source": [
    "arr3.shape"
   ]
  },
  {
   "cell_type": "code",
   "execution_count": 25,
   "metadata": {},
   "outputs": [
    {
     "data": {
      "text/plain": [
       "array([-0.69846477,  0.70949141,  0.01289601, -0.2295329 , -0.09445581,\n",
       "       -0.20942333,  0.29177165, -0.87433088, -0.57574121, -0.74056209])"
      ]
     },
     "execution_count": 25,
     "metadata": {},
     "output_type": "execute_result"
    }
   ],
   "source": [
    "arr3.reshape(-1)"
   ]
  },
  {
   "cell_type": "code",
   "execution_count": 27,
   "metadata": {},
   "outputs": [],
   "source": [
    "arr1 = np.linspace(1,200,20)"
   ]
  },
  {
   "cell_type": "code",
   "execution_count": 29,
   "metadata": {},
   "outputs": [
    {
     "data": {
      "text/plain": [
       "20"
      ]
     },
     "execution_count": 29,
     "metadata": {},
     "output_type": "execute_result"
    }
   ],
   "source": [
    "len(arr1)"
   ]
  },
  {
   "cell_type": "code",
   "execution_count": 30,
   "metadata": {},
   "outputs": [],
   "source": [
    "pi = np.pi\n",
    "arr3 = np.linspace(0,pi,20)"
   ]
  },
  {
   "cell_type": "code",
   "execution_count": 31,
   "metadata": {},
   "outputs": [
    {
     "data": {
      "text/plain": [
       "array([0.        , 0.16534698, 0.33069396, 0.49604095, 0.66138793,\n",
       "       0.82673491, 0.99208189, 1.15742887, 1.32277585, 1.48812284,\n",
       "       1.65346982, 1.8188168 , 1.98416378, 2.14951076, 2.31485774,\n",
       "       2.48020473, 2.64555171, 2.81089869, 2.97624567, 3.14159265])"
      ]
     },
     "execution_count": 31,
     "metadata": {},
     "output_type": "execute_result"
    }
   ],
   "source": [
    "arr3"
   ]
  },
  {
   "cell_type": "code",
   "execution_count": 32,
   "metadata": {},
   "outputs": [],
   "source": [
    "arr1 = np.random.rand(1,2,3,4,5)"
   ]
  },
  {
   "cell_type": "code",
   "execution_count": 33,
   "metadata": {},
   "outputs": [
    {
     "data": {
      "text/plain": [
       "array([[[[[4.87218362e-01, 5.95208225e-01, 6.16967323e-04,\n",
       "           8.49143303e-01, 4.21012790e-01],\n",
       "          [8.73073917e-01, 7.57203564e-01, 2.37919913e-01,\n",
       "           7.42943951e-01, 6.73132120e-01],\n",
       "          [4.07318264e-02, 8.82936833e-01, 8.56382054e-01,\n",
       "           5.63411043e-01, 8.37785622e-01],\n",
       "          [5.08929759e-01, 3.29636093e-02, 9.38175511e-01,\n",
       "           2.75076710e-01, 2.32947264e-01]],\n",
       "\n",
       "         [[6.47025599e-01, 9.49218734e-01, 9.70355309e-01,\n",
       "           2.15919259e-01, 3.00834419e-01],\n",
       "          [6.43976586e-01, 2.76420511e-01, 3.83616254e-01,\n",
       "           6.68252411e-01, 1.88970077e-01],\n",
       "          [8.29928005e-01, 7.54671353e-01, 1.76862113e-01,\n",
       "           4.09745026e-01, 7.56027820e-01],\n",
       "          [6.25413978e-01, 1.14290481e-01, 3.95349442e-01,\n",
       "           9.38613146e-01, 3.06872389e-03]],\n",
       "\n",
       "         [[1.54443945e-02, 2.60296355e-01, 6.04085473e-01,\n",
       "           6.72554147e-01, 8.35824736e-01],\n",
       "          [3.13899438e-01, 9.00379603e-01, 9.98176191e-02,\n",
       "           7.08999399e-01, 9.74214812e-01],\n",
       "          [1.72633725e-01, 1.38118426e-01, 7.24535635e-01,\n",
       "           2.58562926e-01, 7.85118245e-01],\n",
       "          [3.33610346e-01, 1.40222379e-01, 5.22454182e-02,\n",
       "           1.63705028e-01, 9.23809987e-01]]],\n",
       "\n",
       "\n",
       "        [[[1.73374033e-01, 5.86927760e-01, 8.09394792e-01,\n",
       "           3.59262899e-01, 3.15939157e-01],\n",
       "          [5.15115999e-01, 1.78122777e-01, 4.42572655e-01,\n",
       "           3.03252017e-01, 3.82485405e-01],\n",
       "          [2.11627759e-01, 1.53288440e-01, 8.37711100e-01,\n",
       "           8.01534151e-01, 2.43092222e-01],\n",
       "          [4.80246510e-01, 8.88993213e-01, 9.90281179e-02,\n",
       "           5.30239542e-01, 4.12137767e-01]],\n",
       "\n",
       "         [[2.16324065e-02, 6.66071119e-01, 8.72200797e-02,\n",
       "           9.14101732e-01, 5.32354300e-01],\n",
       "          [5.52850827e-01, 4.24403760e-01, 1.58956167e-01,\n",
       "           4.94591726e-01, 4.53573391e-02],\n",
       "          [2.72640660e-01, 9.30392870e-01, 3.08807184e-01,\n",
       "           7.59298903e-01, 4.42210608e-01],\n",
       "          [1.13690362e-01, 1.58783566e-01, 6.91061621e-01,\n",
       "           1.54505662e-01, 7.93077938e-02]],\n",
       "\n",
       "         [[4.84498521e-01, 9.79393633e-01, 2.75626222e-01,\n",
       "           7.14801075e-01, 6.09925993e-01],\n",
       "          [8.85256555e-01, 1.43630876e-01, 7.64595570e-01,\n",
       "           9.50320505e-02, 6.89453115e-01],\n",
       "          [6.91701515e-01, 7.89575351e-01, 6.03642537e-01,\n",
       "           2.71898122e-01, 7.80794540e-01],\n",
       "          [6.62253847e-01, 6.34476331e-01, 1.15605473e-01,\n",
       "           2.44391321e-01, 2.45561555e-01]]]]])"
      ]
     },
     "execution_count": 33,
     "metadata": {},
     "output_type": "execute_result"
    }
   ],
   "source": [
    "arr1"
   ]
  },
  {
   "cell_type": "code",
   "execution_count": 42,
   "metadata": {},
   "outputs": [],
   "source": [
    "arr1 = np.random.rand(2,2,2,2,2,2,2,2,2,2,2,2)"
   ]
  },
  {
   "cell_type": "code",
   "execution_count": 43,
   "metadata": {},
   "outputs": [
    {
     "data": {
      "text/plain": [
       "array([[[[[[[[[[[[2.83311603e-01, 3.45123487e-01],\n",
       "                 [7.90692921e-01, 2.76185317e-01]],\n",
       "\n",
       "                [[1.89890801e-01, 9.64441341e-01],\n",
       "                 [5.24463479e-01, 4.60142631e-01]]],\n",
       "\n",
       "\n",
       "               [[[2.16720140e-01, 6.32868654e-01],\n",
       "                 [9.70451047e-01, 3.40876390e-01]],\n",
       "\n",
       "                [[9.89672795e-01, 9.63725215e-01],\n",
       "                 [4.92223478e-01, 5.27083708e-01]]]],\n",
       "\n",
       "\n",
       "\n",
       "              [[[[3.32094646e-01, 4.63217926e-01],\n",
       "                 [1.46351639e-02, 1.06793793e-01]],\n",
       "\n",
       "                [[8.49505155e-01, 2.51619665e-01],\n",
       "                 [2.44355864e-01, 6.50601140e-01]]],\n",
       "\n",
       "\n",
       "               [[[3.03340463e-01, 5.78393241e-01],\n",
       "                 [5.82772173e-01, 8.59846344e-01]],\n",
       "\n",
       "                [[7.02953379e-01, 1.27894369e-03],\n",
       "                 [5.66605806e-02, 7.39973505e-01]]]]],\n",
       "\n",
       "\n",
       "\n",
       "\n",
       "             [[[[[4.55533048e-01, 5.63526956e-01],\n",
       "                 [1.46878403e-02, 6.84336718e-01]],\n",
       "\n",
       "                [[9.43357173e-02, 8.05304945e-01],\n",
       "                 [3.05370383e-01, 4.10425029e-01]]],\n",
       "\n",
       "\n",
       "               [[[8.71797429e-01, 7.26583954e-01],\n",
       "                 [1.07070206e-01, 1.00448532e-01]],\n",
       "\n",
       "                [[4.46899026e-01, 5.60355611e-02],\n",
       "                 [7.31714975e-01, 6.29097315e-01]]]],\n",
       "\n",
       "\n",
       "\n",
       "              [[[[5.43116897e-01, 4.97743453e-01],\n",
       "                 [8.64308353e-01, 1.22468495e-01]],\n",
       "\n",
       "                [[5.27400386e-01, 4.63523889e-01],\n",
       "                 [2.97721633e-01, 1.51344786e-01]]],\n",
       "\n",
       "\n",
       "               [[[5.20608706e-01, 7.34159581e-01],\n",
       "                 [7.95069739e-01, 3.75304248e-01]],\n",
       "\n",
       "                [[8.45929497e-01, 2.96012860e-02],\n",
       "                 [3.76882373e-01, 3.68555190e-01]]]]]],\n",
       "\n",
       "\n",
       "\n",
       "\n",
       "\n",
       "            [[[[[[7.14570931e-01, 2.79695923e-01],\n",
       "                 [8.21828999e-01, 7.15027863e-01]],\n",
       "\n",
       "                [[2.14753077e-01, 9.15993613e-02],\n",
       "                 [4.87846948e-01, 2.20166932e-01]]],\n",
       "\n",
       "\n",
       "               [[[2.75928352e-01, 9.41022619e-01],\n",
       "                 [7.19418394e-01, 7.31113134e-01]],\n",
       "\n",
       "                [[4.53276883e-01, 9.16332333e-01],\n",
       "                 [6.92570116e-01, 6.45008949e-01]]]],\n",
       "\n",
       "\n",
       "\n",
       "              [[[[4.77872665e-01, 6.75979950e-01],\n",
       "                 [3.40803393e-01, 3.69446084e-01]],\n",
       "\n",
       "                [[4.63399789e-01, 8.19205228e-03],\n",
       "                 [3.78122871e-01, 6.32770454e-01]]],\n",
       "\n",
       "\n",
       "               [[[5.76560363e-01, 1.03905918e-02],\n",
       "                 [1.72310500e-01, 7.40098514e-01]],\n",
       "\n",
       "                [[3.64822417e-01, 9.15115929e-01],\n",
       "                 [3.42671276e-01, 8.24769325e-01]]]]],\n",
       "\n",
       "\n",
       "\n",
       "\n",
       "             [[[[[7.82486917e-01, 3.43535043e-01],\n",
       "                 [5.90614757e-01, 7.21769341e-01]],\n",
       "\n",
       "                [[8.70913092e-01, 6.20585897e-01],\n",
       "                 [8.96610833e-01, 2.23104586e-01]]],\n",
       "\n",
       "\n",
       "               [[[6.35242669e-01, 5.22731358e-01],\n",
       "                 [6.83676015e-01, 5.71021090e-01]],\n",
       "\n",
       "                [[9.94606256e-01, 9.36248391e-01],\n",
       "                 [7.33903566e-01, 8.57771054e-02]]]],\n",
       "\n",
       "\n",
       "\n",
       "              [[[[1.48448346e-01, 9.72888756e-02],\n",
       "                 [4.73664242e-01, 6.52480415e-01]],\n",
       "\n",
       "                [[7.75067620e-01, 2.63511425e-02],\n",
       "                 [3.21888668e-01, 7.66343368e-01]]],\n",
       "\n",
       "\n",
       "               [[[4.48317341e-02, 7.99860218e-01],\n",
       "                 [1.58116672e-01, 7.30569084e-01]],\n",
       "\n",
       "                [[1.74501078e-01, 6.58931120e-01],\n",
       "                 [2.62900400e-01, 9.05559835e-01]]]]]]],\n",
       "\n",
       "\n",
       "\n",
       "\n",
       "\n",
       "\n",
       "           [[[[[[[9.49502681e-01, 6.05279124e-02],\n",
       "                 [8.32302964e-01, 6.01540116e-01]],\n",
       "\n",
       "                [[3.85217876e-02, 4.84364202e-01],\n",
       "                 [7.30113164e-01, 9.45649575e-02]]],\n",
       "\n",
       "\n",
       "               [[[4.02113721e-01, 8.85137245e-01],\n",
       "                 [8.98702621e-01, 8.32833093e-01]],\n",
       "\n",
       "                [[8.55305345e-01, 5.46887172e-01],\n",
       "                 [5.78565477e-01, 6.30516751e-01]]]],\n",
       "\n",
       "\n",
       "\n",
       "              [[[[2.42041671e-02, 1.59124125e-01],\n",
       "                 [8.40535378e-01, 4.62135720e-01]],\n",
       "\n",
       "                [[6.53674027e-02, 5.93368050e-01],\n",
       "                 [2.41982711e-01, 9.70467719e-01]]],\n",
       "\n",
       "\n",
       "               [[[3.23586454e-01, 1.98390016e-01],\n",
       "                 [6.17084148e-01, 3.55167719e-01]],\n",
       "\n",
       "                [[2.28438165e-01, 4.49533149e-01],\n",
       "                 [3.20718592e-01, 9.56921248e-01]]]]],\n",
       "\n",
       "\n",
       "\n",
       "\n",
       "             [[[[[2.46945566e-01, 5.21174505e-01],\n",
       "                 [6.21327263e-01, 3.29656738e-01]],\n",
       "\n",
       "                [[6.94811502e-01, 8.68122226e-01],\n",
       "                 [2.13722674e-01, 3.74782678e-01]]],\n",
       "\n",
       "\n",
       "               [[[2.87392527e-01, 8.94839519e-01],\n",
       "                 [3.50788683e-01, 2.83371936e-01]],\n",
       "\n",
       "                [[2.65706540e-01, 4.25257345e-02],\n",
       "                 [5.38317899e-02, 2.99449973e-02]]]],\n",
       "\n",
       "\n",
       "\n",
       "              [[[[9.43903077e-01, 3.78084873e-02],\n",
       "                 [4.78646258e-01, 7.10208369e-02]],\n",
       "\n",
       "                [[5.20547796e-01, 7.48332195e-01],\n",
       "                 [6.92798820e-01, 1.09126362e-01]]],\n",
       "\n",
       "\n",
       "               [[[4.51435309e-01, 7.32036040e-01],\n",
       "                 [2.90063371e-01, 2.65600340e-01]],\n",
       "\n",
       "                [[7.07908404e-01, 7.21944892e-01],\n",
       "                 [5.51765813e-01, 9.36818627e-01]]]]]],\n",
       "\n",
       "\n",
       "\n",
       "\n",
       "\n",
       "            [[[[[[2.73906337e-01, 7.36257234e-01],\n",
       "                 [7.40701441e-02, 4.19600875e-01]],\n",
       "\n",
       "                [[9.21603443e-01, 8.57403066e-01],\n",
       "                 [9.93560781e-01, 6.29267378e-01]]],\n",
       "\n",
       "\n",
       "               [[[7.22674210e-01, 1.52735573e-01],\n",
       "                 [9.52021649e-01, 4.72615424e-01]],\n",
       "\n",
       "                [[1.45911330e-01, 1.09881963e-01],\n",
       "                 [2.73050766e-01, 3.99768574e-01]]]],\n",
       "\n",
       "\n",
       "\n",
       "              [[[[8.52503433e-01, 7.70583951e-01],\n",
       "                 [8.63442911e-01, 6.14948482e-02]],\n",
       "\n",
       "                [[1.05616245e-01, 4.94836260e-01],\n",
       "                 [1.45762602e-01, 7.21256488e-01]]],\n",
       "\n",
       "\n",
       "               [[[6.71780548e-01, 8.40538735e-01],\n",
       "                 [3.56503115e-01, 8.61402360e-01]],\n",
       "\n",
       "                [[2.45963774e-01, 7.58395095e-01],\n",
       "                 [7.58734810e-01, 7.15030717e-01]]]]],\n",
       "\n",
       "\n",
       "\n",
       "\n",
       "             [[[[[7.98889210e-01, 3.43988914e-02],\n",
       "                 [6.74514333e-01, 1.03838059e-01]],\n",
       "\n",
       "                [[2.56625471e-01, 2.00823108e-01],\n",
       "                 [2.58866538e-01, 5.79955070e-01]]],\n",
       "\n",
       "\n",
       "               [[[1.29044983e-01, 5.45532747e-01],\n",
       "                 [8.70526585e-01, 5.41679118e-01]],\n",
       "\n",
       "                [[5.03613275e-01, 9.59097637e-01],\n",
       "                 [7.16778049e-01, 7.90903429e-01]]]],\n",
       "\n",
       "\n",
       "\n",
       "              [[[[2.46265720e-01, 4.56026878e-01],\n",
       "                 [6.93546595e-01, 7.62313341e-01]],\n",
       "\n",
       "                [[4.84246971e-01, 4.18029713e-01],\n",
       "                 [1.47383983e-01, 4.51809341e-02]]],\n",
       "\n",
       "\n",
       "               [[[5.49487926e-01, 3.78796143e-01],\n",
       "                 [5.92355950e-01, 4.76978170e-01]],\n",
       "\n",
       "                [[9.99902079e-01, 5.38770475e-01],\n",
       "                 [3.62313704e-01, 2.49596623e-01]]]]]]]],\n",
       "\n",
       "\n",
       "\n",
       "\n",
       "\n",
       "\n",
       "\n",
       "          [[[[[[[[3.52098096e-02, 7.51468058e-01],\n",
       "                 [3.69249437e-01, 3.90029144e-01]],\n",
       "\n",
       "                [[9.67333390e-02, 2.92828380e-02],\n",
       "                 [3.41910759e-01, 3.21362807e-01]]],\n",
       "\n",
       "\n",
       "               [[[3.64166997e-01, 3.16984766e-01],\n",
       "                 [5.64511140e-01, 1.30355645e-03]],\n",
       "\n",
       "                [[1.10618393e-01, 6.51965031e-01],\n",
       "                 [9.50771667e-01, 6.50490143e-01]]]],\n",
       "\n",
       "\n",
       "\n",
       "              [[[[6.83530243e-01, 6.32487225e-01],\n",
       "                 [6.84337128e-01, 4.63429500e-01]],\n",
       "\n",
       "                [[4.79569298e-01, 1.85035902e-01],\n",
       "                 [3.61915974e-01, 8.39475624e-01]]],\n",
       "\n",
       "\n",
       "               [[[2.43555752e-01, 2.08783286e-01],\n",
       "                 [8.30548137e-02, 7.94251877e-01]],\n",
       "\n",
       "                [[1.01128210e-01, 1.21745269e-01],\n",
       "                 [6.13234036e-01, 7.83471584e-01]]]]],\n",
       "\n",
       "\n",
       "\n",
       "\n",
       "             [[[[[8.98427817e-01, 9.65509979e-01],\n",
       "                 [6.79450847e-03, 1.89031966e-01]],\n",
       "\n",
       "                [[7.02013005e-01, 6.05269827e-02],\n",
       "                 [8.02007606e-01, 3.16824719e-01]]],\n",
       "\n",
       "\n",
       "               [[[7.68271518e-02, 4.88601457e-01],\n",
       "                 [6.54276521e-01, 3.06141023e-01]],\n",
       "\n",
       "                [[6.33280568e-02, 1.07491113e-01],\n",
       "                 [2.37767812e-01, 3.10828946e-01]]]],\n",
       "\n",
       "\n",
       "\n",
       "              [[[[9.40522443e-01, 6.51142107e-01],\n",
       "                 [6.05701978e-01, 2.12300658e-01]],\n",
       "\n",
       "                [[6.07621254e-01, 7.95679201e-01],\n",
       "                 [6.45930590e-02, 8.41577056e-01]]],\n",
       "\n",
       "\n",
       "               [[[3.15851314e-01, 8.18657262e-02],\n",
       "                 [7.74767046e-01, 7.81895129e-01]],\n",
       "\n",
       "                [[1.80251319e-01, 8.93280786e-04],\n",
       "                 [5.87402491e-01, 5.62265378e-01]]]]]],\n",
       "\n",
       "\n",
       "\n",
       "\n",
       "\n",
       "            [[[[[[2.34658678e-01, 6.65837608e-01],\n",
       "                 [6.41307788e-02, 2.23797773e-01]],\n",
       "\n",
       "                [[5.15931759e-01, 9.86822009e-01],\n",
       "                 [3.16804176e-01, 3.49948396e-02]]],\n",
       "\n",
       "\n",
       "               [[[9.56919805e-01, 8.14740431e-01],\n",
       "                 [4.97028417e-01, 8.41672264e-01]],\n",
       "\n",
       "                [[6.88666729e-01, 3.57174398e-01],\n",
       "                 [7.57745370e-01, 3.27956168e-01]]]],\n",
       "\n",
       "\n",
       "\n",
       "              [[[[3.39748512e-01, 3.98785245e-01],\n",
       "                 [7.41312255e-01, 4.90336197e-01]],\n",
       "\n",
       "                [[5.53946440e-02, 3.43252657e-01],\n",
       "                 [7.59169727e-01, 1.70949955e-01]]],\n",
       "\n",
       "\n",
       "               [[[1.78580238e-01, 6.90722306e-01],\n",
       "                 [6.74656036e-03, 5.16253813e-02]],\n",
       "\n",
       "                [[1.99570909e-01, 9.43502308e-01],\n",
       "                 [3.90579852e-01, 9.59735811e-01]]]]],\n",
       "\n",
       "\n",
       "\n",
       "\n",
       "             [[[[[6.91313151e-01, 6.71379252e-01],\n",
       "                 [4.58322225e-01, 8.13695136e-01]],\n",
       "\n",
       "                [[6.37412273e-01, 6.21497853e-01],\n",
       "                 [6.57825183e-01, 2.86961352e-01]]],\n",
       "\n",
       "\n",
       "               [[[5.35806029e-01, 2.17572605e-01],\n",
       "                 [4.01502008e-01, 7.13019031e-01]],\n",
       "\n",
       "                [[2.84980664e-02, 8.42533982e-01],\n",
       "                 [3.01418925e-01, 8.51344487e-01]]]],\n",
       "\n",
       "\n",
       "\n",
       "              [[[[4.77882748e-01, 1.07987246e-01],\n",
       "                 [8.00994141e-02, 6.12509125e-01]],\n",
       "\n",
       "                [[6.85803109e-01, 5.90282605e-01],\n",
       "                 [7.29677681e-01, 4.37268626e-01]]],\n",
       "\n",
       "\n",
       "               [[[3.15514787e-01, 3.76217233e-01],\n",
       "                 [3.60706084e-01, 3.67655629e-01]],\n",
       "\n",
       "                [[9.65954195e-01, 2.22615518e-02],\n",
       "                 [5.66248134e-01, 5.90483767e-01]]]]]]],\n",
       "\n",
       "\n",
       "\n",
       "\n",
       "\n",
       "\n",
       "           [[[[[[[5.92193798e-02, 1.93650994e-01],\n",
       "                 [8.99157111e-03, 1.49226184e-01]],\n",
       "\n",
       "                [[3.00121297e-01, 3.92744104e-01],\n",
       "                 [2.63116386e-01, 9.72225373e-01]]],\n",
       "\n",
       "\n",
       "               [[[7.47448138e-01, 5.94522862e-01],\n",
       "                 [5.60131880e-01, 3.46633272e-01]],\n",
       "\n",
       "                [[3.63062074e-01, 8.24605277e-01],\n",
       "                 [5.92179902e-01, 1.71901757e-01]]]],\n",
       "\n",
       "\n",
       "\n",
       "              [[[[7.90914922e-01, 5.70105820e-01],\n",
       "                 [8.03269431e-01, 5.11635390e-01]],\n",
       "\n",
       "                [[8.00561248e-01, 8.15923237e-01],\n",
       "                 [4.02546286e-01, 3.80150642e-01]]],\n",
       "\n",
       "\n",
       "               [[[9.79116032e-01, 1.83786567e-01],\n",
       "                 [4.29356233e-01, 7.68815337e-01]],\n",
       "\n",
       "                [[9.52487818e-02, 9.73888720e-01],\n",
       "                 [3.88854650e-01, 2.69435357e-01]]]]],\n",
       "\n",
       "\n",
       "\n",
       "\n",
       "             [[[[[6.70290491e-01, 1.24533841e-01],\n",
       "                 [2.83316348e-01, 3.12042874e-01]],\n",
       "\n",
       "                [[3.99970337e-02, 3.39894326e-02],\n",
       "                 [6.04358437e-01, 7.17887122e-01]]],\n",
       "\n",
       "\n",
       "               [[[8.16625527e-01, 6.72393405e-01],\n",
       "                 [4.97271214e-01, 5.28213909e-01]],\n",
       "\n",
       "                [[2.44814668e-01, 2.00500903e-01],\n",
       "                 [3.41859655e-01, 6.75157024e-01]]]],\n",
       "\n",
       "\n",
       "\n",
       "              [[[[6.60817380e-01, 3.58478139e-01],\n",
       "                 [5.61474688e-02, 3.88059843e-01]],\n",
       "\n",
       "                [[6.44503639e-01, 2.52519796e-01],\n",
       "                 [8.04462983e-01, 3.38063637e-01]]],\n",
       "\n",
       "\n",
       "               [[[8.85160987e-01, 5.69662639e-02],\n",
       "                 [9.90493700e-01, 9.65138419e-01]],\n",
       "\n",
       "                [[7.81579193e-01, 4.28775815e-01],\n",
       "                 [7.34800667e-01, 8.15767091e-01]]]]]],\n",
       "\n",
       "\n",
       "\n",
       "\n",
       "\n",
       "            [[[[[[6.50950959e-01, 5.95667195e-01],\n",
       "                 [5.54676387e-01, 1.19534940e-01]],\n",
       "\n",
       "                [[8.83920210e-01, 5.97190067e-01],\n",
       "                 [2.92887882e-01, 1.15784473e-01]]],\n",
       "\n",
       "\n",
       "               [[[2.87471562e-01, 4.50182065e-01],\n",
       "                 [1.46780358e-01, 2.19508119e-01]],\n",
       "\n",
       "                [[9.31127191e-01, 7.51074028e-01],\n",
       "                 [7.87056588e-01, 9.08752706e-01]]]],\n",
       "\n",
       "\n",
       "\n",
       "              [[[[9.64833507e-01, 9.93060367e-01],\n",
       "                 [8.70986954e-03, 6.31106675e-01]],\n",
       "\n",
       "                [[7.87680394e-01, 9.39954210e-01],\n",
       "                 [8.97458484e-01, 7.53522603e-01]]],\n",
       "\n",
       "\n",
       "               [[[4.79756488e-01, 2.82963974e-01],\n",
       "                 [3.57577659e-01, 4.34232775e-01]],\n",
       "\n",
       "                [[7.37059564e-01, 7.08682982e-02],\n",
       "                 [2.40550954e-01, 1.16684772e-01]]]]],\n",
       "\n",
       "\n",
       "\n",
       "\n",
       "             [[[[[5.06912431e-01, 4.04511293e-01],\n",
       "                 [3.28947885e-01, 3.44668794e-01]],\n",
       "\n",
       "                [[6.39457048e-01, 2.88467681e-01],\n",
       "                 [8.94314868e-01, 1.41552998e-01]]],\n",
       "\n",
       "\n",
       "               [[[7.34209544e-01, 3.30393111e-01],\n",
       "                 [6.31093134e-03, 8.91771063e-01]],\n",
       "\n",
       "                [[4.99488832e-01, 2.05440613e-01],\n",
       "                 [5.34311513e-01, 8.11106217e-01]]]],\n",
       "\n",
       "\n",
       "\n",
       "              [[[[6.65462113e-01, 6.83806664e-01],\n",
       "                 [7.65313499e-01, 2.71168583e-01]],\n",
       "\n",
       "                [[6.73004729e-01, 6.82342151e-01],\n",
       "                 [1.78328124e-01, 3.35756900e-01]]],\n",
       "\n",
       "\n",
       "               [[[8.20355038e-01, 5.22474596e-01],\n",
       "                 [3.68985205e-01, 3.74282948e-02]],\n",
       "\n",
       "                [[4.76742373e-02, 8.38005248e-01],\n",
       "                 [6.29269041e-02, 5.48717385e-01]]]]]]]]],\n",
       "\n",
       "\n",
       "\n",
       "\n",
       "\n",
       "\n",
       "\n",
       "\n",
       "         [[[[[[[[[1.00941451e-01, 7.17521731e-01],\n",
       "                 [9.76628553e-02, 8.66947150e-01]],\n",
       "\n",
       "                [[4.74857619e-01, 4.36841378e-01],\n",
       "                 [1.16110746e-01, 9.48406790e-01]]],\n",
       "\n",
       "\n",
       "               [[[1.19145574e-01, 1.52394008e-01],\n",
       "                 [7.84234106e-01, 9.74790937e-01]],\n",
       "\n",
       "                [[3.33898955e-01, 8.41645338e-01],\n",
       "                 [4.82834155e-01, 8.68857792e-01]]]],\n",
       "\n",
       "\n",
       "\n",
       "              [[[[4.73249159e-01, 1.41401167e-01],\n",
       "                 [6.49189741e-01, 6.77606091e-01]],\n",
       "\n",
       "                [[1.30417535e-01, 7.24507020e-01],\n",
       "                 [7.27448221e-01, 4.49071518e-01]]],\n",
       "\n",
       "\n",
       "               [[[9.26835207e-01, 8.23983264e-01],\n",
       "                 [2.06857602e-01, 9.87647362e-01]],\n",
       "\n",
       "                [[3.97083789e-01, 3.50239103e-01],\n",
       "                 [9.21702583e-01, 3.70700074e-01]]]]],\n",
       "\n",
       "\n",
       "\n",
       "\n",
       "             [[[[[1.91666111e-01, 1.05120897e-01],\n",
       "                 [2.96569368e-01, 6.29723255e-01]],\n",
       "\n",
       "                [[5.39461764e-01, 6.58804225e-01],\n",
       "                 [5.87468213e-01, 1.02402708e-01]]],\n",
       "\n",
       "\n",
       "               [[[4.47795012e-01, 2.55427469e-02],\n",
       "                 [1.32238270e-01, 8.79976043e-01]],\n",
       "\n",
       "                [[1.57845319e-01, 6.78442702e-02],\n",
       "                 [7.70064783e-01, 4.13707119e-01]]]],\n",
       "\n",
       "\n",
       "\n",
       "              [[[[2.30223625e-01, 3.09937191e-01],\n",
       "                 [4.29963686e-01, 6.92559639e-01]],\n",
       "\n",
       "                [[9.22315729e-01, 9.90875433e-01],\n",
       "                 [1.57358256e-01, 8.63617456e-01]]],\n",
       "\n",
       "\n",
       "               [[[8.58649530e-01, 2.17407794e-01],\n",
       "                 [9.28735305e-01, 4.58600335e-02]],\n",
       "\n",
       "                [[8.16033437e-01, 8.04920226e-01],\n",
       "                 [9.54250227e-01, 9.16290898e-01]]]]]],\n",
       "\n",
       "\n",
       "\n",
       "\n",
       "\n",
       "            [[[[[[9.62778837e-01, 4.89146852e-01],\n",
       "                 [2.76297529e-01, 8.47264778e-01]],\n",
       "\n",
       "                [[2.46569509e-01, 6.13801974e-01],\n",
       "                 [6.97835281e-01, 1.59124023e-01]]],\n",
       "\n",
       "\n",
       "               [[[8.69601751e-01, 1.26486217e-01],\n",
       "                 [3.59528969e-01, 1.83193636e-03]],\n",
       "\n",
       "                [[3.37300980e-01, 3.16269010e-01],\n",
       "                 [8.33856469e-01, 5.13057116e-01]]]],\n",
       "\n",
       "\n",
       "\n",
       "              [[[[5.89592471e-01, 4.49372739e-03],\n",
       "                 [4.98447573e-02, 2.28148354e-01]],\n",
       "\n",
       "                [[5.38094174e-01, 5.83437839e-01],\n",
       "                 [2.95638192e-01, 3.29045774e-01]]],\n",
       "\n",
       "\n",
       "               [[[1.77799759e-01, 6.71636526e-01],\n",
       "                 [3.50283122e-01, 9.10180033e-01]],\n",
       "\n",
       "                [[8.33004601e-01, 6.00207365e-01],\n",
       "                 [4.57967284e-01, 8.61588817e-01]]]]],\n",
       "\n",
       "\n",
       "\n",
       "\n",
       "             [[[[[1.20842613e-01, 6.66862075e-02],\n",
       "                 [5.18808693e-01, 5.61704400e-02]],\n",
       "\n",
       "                [[4.44191608e-01, 1.14740395e-01],\n",
       "                 [9.79398780e-01, 2.08919693e-01]]],\n",
       "\n",
       "\n",
       "               [[[1.61054372e-01, 6.26085082e-01],\n",
       "                 [9.18838327e-01, 2.32246055e-01]],\n",
       "\n",
       "                [[7.38610521e-01, 5.17461477e-01],\n",
       "                 [3.05708003e-02, 2.38657926e-01]]]],\n",
       "\n",
       "\n",
       "\n",
       "              [[[[5.16865491e-01, 4.52626548e-01],\n",
       "                 [1.08399171e-01, 2.88225953e-01]],\n",
       "\n",
       "                [[9.36298501e-01, 3.42678053e-01],\n",
       "                 [8.62185243e-01, 9.21454937e-01]]],\n",
       "\n",
       "\n",
       "               [[[7.26779403e-01, 2.79057056e-01],\n",
       "                 [3.46236499e-01, 8.57800241e-01]],\n",
       "\n",
       "                [[2.97786780e-01, 4.09509095e-01],\n",
       "                 [3.58082970e-01, 1.48387646e-01]]]]]]],\n",
       "\n",
       "\n",
       "\n",
       "\n",
       "\n",
       "\n",
       "           [[[[[[[4.87676570e-04, 4.13073641e-01],\n",
       "                 [9.06188761e-01, 6.11311702e-01]],\n",
       "\n",
       "                [[4.75838285e-02, 9.92950508e-01],\n",
       "                 [2.36114177e-01, 2.12120860e-01]]],\n",
       "\n",
       "\n",
       "               [[[2.06079767e-01, 8.35450946e-01],\n",
       "                 [8.74452489e-01, 5.70647225e-01]],\n",
       "\n",
       "                [[6.15452766e-01, 6.09616869e-01],\n",
       "                 [4.41918094e-01, 6.68330181e-01]]]],\n",
       "\n",
       "\n",
       "\n",
       "              [[[[3.31825959e-01, 2.38746095e-01],\n",
       "                 [7.48138047e-01, 7.77714294e-01]],\n",
       "\n",
       "                [[8.78387928e-01, 2.45565445e-02],\n",
       "                 [6.20005111e-01, 4.74971548e-02]]],\n",
       "\n",
       "\n",
       "               [[[1.08114518e-01, 2.40005845e-01],\n",
       "                 [2.52490599e-01, 6.21957109e-01]],\n",
       "\n",
       "                [[9.12379549e-01, 2.51291920e-01],\n",
       "                 [4.28070958e-01, 4.91086349e-01]]]]],\n",
       "\n",
       "\n",
       "\n",
       "\n",
       "             [[[[[9.51881260e-01, 2.90783169e-01],\n",
       "                 [7.70341758e-01, 8.30223983e-01]],\n",
       "\n",
       "                [[6.37021647e-01, 8.80044250e-02],\n",
       "                 [7.81873329e-01, 9.84687749e-01]]],\n",
       "\n",
       "\n",
       "               [[[4.62466675e-01, 6.09634381e-01],\n",
       "                 [9.09593352e-01, 3.88741383e-01]],\n",
       "\n",
       "                [[4.70791223e-01, 9.93604232e-01],\n",
       "                 [3.15945463e-02, 3.08153454e-01]]]],\n",
       "\n",
       "\n",
       "\n",
       "              [[[[5.41425822e-02, 3.33520890e-01],\n",
       "                 [7.92268620e-02, 6.03904075e-02]],\n",
       "\n",
       "                [[9.26722721e-01, 4.71644836e-01],\n",
       "                 [7.91374969e-01, 3.37423347e-02]]],\n",
       "\n",
       "\n",
       "               [[[9.03757352e-01, 3.85911230e-01],\n",
       "                 [9.41338012e-01, 8.65327226e-01]],\n",
       "\n",
       "                [[7.00985243e-01, 2.51524409e-01],\n",
       "                 [9.55093796e-01, 2.21160841e-01]]]]]],\n",
       "\n",
       "\n",
       "\n",
       "\n",
       "\n",
       "            [[[[[[1.66613082e-01, 3.47112107e-01],\n",
       "                 [3.26676629e-01, 1.90292290e-01]],\n",
       "\n",
       "                [[3.71912051e-01, 6.71812617e-01],\n",
       "                 [7.37312720e-01, 5.21292761e-01]]],\n",
       "\n",
       "\n",
       "               [[[3.29211992e-01, 7.53036364e-02],\n",
       "                 [4.02584166e-01, 8.14944695e-01]],\n",
       "\n",
       "                [[3.24797768e-01, 2.43268434e-01],\n",
       "                 [6.95397078e-01, 8.98947588e-01]]]],\n",
       "\n",
       "\n",
       "\n",
       "              [[[[5.81864839e-01, 8.42248790e-01],\n",
       "                 [6.61454848e-01, 8.36184361e-02]],\n",
       "\n",
       "                [[5.31102658e-01, 6.35586286e-01],\n",
       "                 [8.07199697e-01, 6.81896817e-01]]],\n",
       "\n",
       "\n",
       "               [[[8.62000984e-01, 1.03964777e-01],\n",
       "                 [2.62969443e-01, 4.18087966e-01]],\n",
       "\n",
       "                [[4.10879198e-01, 9.52636341e-01],\n",
       "                 [2.83550061e-01, 6.89746571e-01]]]]],\n",
       "\n",
       "\n",
       "\n",
       "\n",
       "             [[[[[9.60661176e-02, 3.27193500e-01],\n",
       "                 [6.03161004e-01, 3.80480400e-01]],\n",
       "\n",
       "                [[3.95241465e-01, 9.60399757e-01],\n",
       "                 [3.98656168e-01, 1.47511386e-01]]],\n",
       "\n",
       "\n",
       "               [[[1.54525180e-01, 4.99243977e-01],\n",
       "                 [1.81810227e-01, 9.43411623e-01]],\n",
       "\n",
       "                [[8.30044868e-01, 3.10690376e-01],\n",
       "                 [6.03284387e-01, 6.91553324e-01]]]],\n",
       "\n",
       "\n",
       "\n",
       "              [[[[8.09236768e-01, 3.82482964e-01],\n",
       "                 [4.63233378e-01, 6.94093050e-01]],\n",
       "\n",
       "                [[6.30046090e-01, 5.70399511e-01],\n",
       "                 [7.30890139e-01, 5.31144971e-01]]],\n",
       "\n",
       "\n",
       "               [[[4.13782828e-01, 7.73385308e-01],\n",
       "                 [6.71894256e-01, 7.54651947e-01]],\n",
       "\n",
       "                [[3.12927805e-01, 3.32427286e-01],\n",
       "                 [4.38463581e-01, 2.10942472e-01]]]]]]]],\n",
       "\n",
       "\n",
       "\n",
       "\n",
       "\n",
       "\n",
       "\n",
       "          [[[[[[[[9.03399609e-01, 3.72880706e-01],\n",
       "                 [2.94220958e-01, 5.26730265e-01]],\n",
       "\n",
       "                [[4.68076529e-01, 5.17333516e-01],\n",
       "                 [7.97710024e-01, 6.02983300e-01]]],\n",
       "\n",
       "\n",
       "               [[[1.24865612e-01, 3.69941635e-01],\n",
       "                 [8.96235967e-01, 6.86061695e-01]],\n",
       "\n",
       "                [[8.43253772e-01, 7.65949880e-01],\n",
       "                 [8.65953474e-01, 8.88738425e-01]]]],\n",
       "\n",
       "\n",
       "\n",
       "              [[[[7.14647616e-01, 1.14255251e-01],\n",
       "                 [3.67685864e-01, 7.53964120e-01]],\n",
       "\n",
       "                [[1.54843785e-01, 4.51426613e-01],\n",
       "                 [3.37136243e-01, 6.59291276e-02]]],\n",
       "\n",
       "\n",
       "               [[[4.59975007e-01, 2.50922733e-01],\n",
       "                 [9.83848610e-01, 4.96578990e-01]],\n",
       "\n",
       "                [[6.42220624e-01, 9.14596315e-01],\n",
       "                 [7.65777715e-01, 9.41194984e-01]]]]],\n",
       "\n",
       "\n",
       "\n",
       "\n",
       "             [[[[[1.52801597e-01, 6.48330780e-01],\n",
       "                 [8.94241780e-01, 7.15142433e-01]],\n",
       "\n",
       "                [[6.22775246e-01, 1.90527961e-01],\n",
       "                 [9.23510426e-01, 1.39516916e-03]]],\n",
       "\n",
       "\n",
       "               [[[3.17007068e-01, 3.23884549e-01],\n",
       "                 [6.93397026e-01, 5.19019648e-01]],\n",
       "\n",
       "                [[7.49662169e-01, 9.28451978e-01],\n",
       "                 [5.25954728e-01, 9.32301580e-01]]]],\n",
       "\n",
       "\n",
       "\n",
       "              [[[[8.25236344e-01, 4.33675776e-01],\n",
       "                 [2.21055440e-02, 8.85013813e-01]],\n",
       "\n",
       "                [[5.01201993e-01, 1.72822615e-01],\n",
       "                 [4.11412745e-01, 7.12990236e-01]]],\n",
       "\n",
       "\n",
       "               [[[8.32242559e-01, 3.29140590e-01],\n",
       "                 [8.91737420e-01, 4.91513529e-01]],\n",
       "\n",
       "                [[7.85622302e-01, 1.97091839e-01],\n",
       "                 [7.43458428e-01, 1.38161059e-01]]]]]],\n",
       "\n",
       "\n",
       "\n",
       "\n",
       "\n",
       "            [[[[[[5.78500284e-01, 3.50299257e-01],\n",
       "                 [7.08501745e-01, 4.29373236e-01]],\n",
       "\n",
       "                [[7.50699730e-01, 9.34029188e-01],\n",
       "                 [2.88851143e-01, 2.85495631e-01]]],\n",
       "\n",
       "\n",
       "               [[[9.51551363e-02, 8.57907409e-01],\n",
       "                 [2.59643341e-01, 5.43674052e-01]],\n",
       "\n",
       "                [[2.78940933e-01, 9.64411123e-01],\n",
       "                 [1.20456396e-02, 3.61682285e-01]]]],\n",
       "\n",
       "\n",
       "\n",
       "              [[[[9.86866374e-01, 9.15434248e-01],\n",
       "                 [4.05847828e-01, 5.83878572e-01]],\n",
       "\n",
       "                [[8.00163153e-01, 4.68693702e-01],\n",
       "                 [2.85187791e-01, 9.95701047e-01]]],\n",
       "\n",
       "\n",
       "               [[[3.96899731e-01, 9.17862781e-01],\n",
       "                 [2.12827094e-01, 7.42737597e-01]],\n",
       "\n",
       "                [[7.46966902e-01, 5.88893793e-01],\n",
       "                 [7.77060171e-01, 1.68141095e-01]]]]],\n",
       "\n",
       "\n",
       "\n",
       "\n",
       "             [[[[[6.50206222e-01, 9.62981800e-01],\n",
       "                 [2.09729584e-01, 2.61322519e-01]],\n",
       "\n",
       "                [[2.62567272e-01, 4.24340470e-02],\n",
       "                 [1.92026362e-01, 2.97995332e-01]]],\n",
       "\n",
       "\n",
       "               [[[8.91085834e-01, 6.37255685e-01],\n",
       "                 [9.23435417e-04, 4.45713623e-01]],\n",
       "\n",
       "                [[9.45971510e-01, 3.91232581e-01],\n",
       "                 [3.27776680e-01, 2.78314134e-01]]]],\n",
       "\n",
       "\n",
       "\n",
       "              [[[[5.11578227e-01, 9.07214509e-01],\n",
       "                 [1.48203817e-01, 7.32517927e-01]],\n",
       "\n",
       "                [[4.53345576e-01, 4.17068639e-02],\n",
       "                 [5.92150999e-01, 9.79572780e-01]]],\n",
       "\n",
       "\n",
       "               [[[7.42940834e-01, 4.37457700e-01],\n",
       "                 [6.14879031e-01, 9.44642024e-01]],\n",
       "\n",
       "                [[9.53517396e-01, 8.56982050e-02],\n",
       "                 [5.33297440e-01, 1.35702853e-01]]]]]]],\n",
       "\n",
       "\n",
       "\n",
       "\n",
       "\n",
       "\n",
       "           [[[[[[[7.88080818e-01, 7.05457603e-01],\n",
       "                 [7.52348476e-01, 3.58555206e-01]],\n",
       "\n",
       "                [[4.66726802e-01, 7.60673203e-01],\n",
       "                 [5.74820157e-01, 8.95118132e-01]]],\n",
       "\n",
       "\n",
       "               [[[8.05816309e-01, 1.40582228e-01],\n",
       "                 [3.85984203e-01, 6.45038337e-01]],\n",
       "\n",
       "                [[9.94568917e-01, 9.49756604e-01],\n",
       "                 [9.38992787e-01, 4.64577161e-01]]]],\n",
       "\n",
       "\n",
       "\n",
       "              [[[[7.68840607e-01, 1.61869137e-01],\n",
       "                 [7.05586748e-01, 5.98746164e-01]],\n",
       "\n",
       "                [[9.31635748e-01, 6.68820794e-01],\n",
       "                 [9.18278545e-01, 8.62664798e-01]]],\n",
       "\n",
       "\n",
       "               [[[3.82583355e-04, 9.17710692e-02],\n",
       "                 [4.25995035e-01, 7.51312230e-01]],\n",
       "\n",
       "                [[6.65193272e-02, 4.23243922e-01],\n",
       "                 [6.29753757e-01, 2.15079298e-01]]]]],\n",
       "\n",
       "\n",
       "\n",
       "\n",
       "             [[[[[1.05688859e-01, 9.51397318e-01],\n",
       "                 [1.39910587e-01, 8.81706383e-01]],\n",
       "\n",
       "                [[8.84945870e-01, 6.46983126e-01],\n",
       "                 [9.69355702e-01, 2.73580410e-01]]],\n",
       "\n",
       "\n",
       "               [[[5.77365510e-01, 6.44505187e-01],\n",
       "                 [2.23752452e-01, 5.30536083e-01]],\n",
       "\n",
       "                [[3.22836225e-01, 8.25412731e-01],\n",
       "                 [8.99532544e-01, 6.70557576e-01]]]],\n",
       "\n",
       "\n",
       "\n",
       "              [[[[7.61950333e-01, 5.53027948e-01],\n",
       "                 [3.21745215e-01, 4.43809265e-01]],\n",
       "\n",
       "                [[5.37499442e-01, 1.21935757e-01],\n",
       "                 [5.44844912e-01, 8.95576103e-01]]],\n",
       "\n",
       "\n",
       "               [[[1.64766239e-01, 2.28932027e-01],\n",
       "                 [5.40848989e-02, 8.50037852e-01]],\n",
       "\n",
       "                [[1.35284624e-01, 6.04144833e-01],\n",
       "                 [8.93158846e-02, 9.36053192e-01]]]]]],\n",
       "\n",
       "\n",
       "\n",
       "\n",
       "\n",
       "            [[[[[[8.95020179e-01, 2.37936358e-02],\n",
       "                 [3.55833772e-01, 7.66298755e-01]],\n",
       "\n",
       "                [[4.86316358e-01, 9.71319818e-01],\n",
       "                 [1.06100844e-01, 8.51085561e-01]]],\n",
       "\n",
       "\n",
       "               [[[6.73329994e-01, 8.66179484e-01],\n",
       "                 [6.98974727e-02, 3.70776736e-01]],\n",
       "\n",
       "                [[3.03480960e-01, 3.36582809e-01],\n",
       "                 [1.45265081e-01, 1.58684920e-01]]]],\n",
       "\n",
       "\n",
       "\n",
       "              [[[[7.92910936e-01, 6.28302826e-01],\n",
       "                 [7.58833515e-01, 3.56412345e-01]],\n",
       "\n",
       "                [[1.72410637e-02, 1.18476715e-01],\n",
       "                 [1.17847335e-01, 2.73579820e-02]]],\n",
       "\n",
       "\n",
       "               [[[5.35236537e-01, 3.09197466e-01],\n",
       "                 [3.86961863e-01, 6.73056286e-01]],\n",
       "\n",
       "                [[4.61759942e-01, 2.27934344e-02],\n",
       "                 [6.01130111e-01, 4.76333551e-01]]]]],\n",
       "\n",
       "\n",
       "\n",
       "\n",
       "             [[[[[2.45326500e-01, 2.44792630e-01],\n",
       "                 [7.31413666e-01, 1.47303883e-01]],\n",
       "\n",
       "                [[3.99076889e-01, 9.37220353e-01],\n",
       "                 [3.10521339e-01, 3.26049136e-01]]],\n",
       "\n",
       "\n",
       "               [[[7.65534029e-01, 5.96679546e-01],\n",
       "                 [2.44896016e-01, 7.25607947e-01]],\n",
       "\n",
       "                [[3.58669850e-01, 8.69527127e-01],\n",
       "                 [7.46170906e-01, 2.99316668e-01]]]],\n",
       "\n",
       "\n",
       "\n",
       "              [[[[8.90576342e-02, 1.03726288e-01],\n",
       "                 [8.98753755e-01, 8.43872226e-01]],\n",
       "\n",
       "                [[6.10444245e-01, 4.01845053e-01],\n",
       "                 [4.88034102e-01, 5.27185223e-01]]],\n",
       "\n",
       "\n",
       "               [[[9.75721783e-01, 4.29662893e-01],\n",
       "                 [4.37626064e-01, 8.31675123e-01]],\n",
       "\n",
       "                [[8.27576041e-01, 8.10040347e-01],\n",
       "                 [2.63622200e-01, 3.30112161e-01]]]]]]]]]],\n",
       "\n",
       "\n",
       "\n",
       "\n",
       "\n",
       "\n",
       "\n",
       "\n",
       "\n",
       "        [[[[[[[[[[5.84464260e-01, 6.04272741e-01],\n",
       "                 [7.22328815e-01, 3.51305035e-01]],\n",
       "\n",
       "                [[3.26044780e-01, 9.81935837e-02],\n",
       "                 [6.05742052e-01, 9.22682584e-01]]],\n",
       "\n",
       "\n",
       "               [[[7.69522726e-01, 1.08280507e-01],\n",
       "                 [2.18660988e-01, 5.65964767e-01]],\n",
       "\n",
       "                [[8.47756534e-01, 8.97300894e-01],\n",
       "                 [2.46242459e-01, 9.37642639e-01]]]],\n",
       "\n",
       "\n",
       "\n",
       "              [[[[8.56133813e-01, 2.79296904e-01],\n",
       "                 [6.65539850e-01, 5.75743576e-01]],\n",
       "\n",
       "                [[4.55380630e-01, 2.24939585e-01],\n",
       "                 [1.32380017e-01, 2.37567100e-01]]],\n",
       "\n",
       "\n",
       "               [[[9.06838437e-01, 4.60744718e-01],\n",
       "                 [9.77368489e-01, 8.93464094e-01]],\n",
       "\n",
       "                [[4.25332065e-01, 9.11070301e-01],\n",
       "                 [4.65100187e-01, 9.79217726e-01]]]]],\n",
       "\n",
       "\n",
       "\n",
       "\n",
       "             [[[[[1.01734689e-01, 3.79032338e-01],\n",
       "                 [8.07293112e-02, 7.73094565e-01]],\n",
       "\n",
       "                [[4.48580151e-01, 1.38716428e-01],\n",
       "                 [2.53238762e-02, 2.64554321e-01]]],\n",
       "\n",
       "\n",
       "               [[[4.22213195e-01, 8.40236630e-01],\n",
       "                 [5.33387940e-01, 3.32244322e-01]],\n",
       "\n",
       "                [[8.25928427e-01, 3.68968018e-02],\n",
       "                 [9.27786567e-01, 2.52254754e-01]]]],\n",
       "\n",
       "\n",
       "\n",
       "              [[[[3.82422854e-01, 9.48502097e-01],\n",
       "                 [6.00901694e-01, 8.31252852e-01]],\n",
       "\n",
       "                [[4.85711497e-01, 2.63332719e-01],\n",
       "                 [9.04728763e-01, 2.80382229e-01]]],\n",
       "\n",
       "\n",
       "               [[[2.85044751e-02, 2.50599257e-01],\n",
       "                 [6.76531337e-01, 8.86178877e-02]],\n",
       "\n",
       "                [[2.24917911e-01, 2.51398566e-01],\n",
       "                 [4.55191679e-01, 6.06540508e-01]]]]]],\n",
       "\n",
       "\n",
       "\n",
       "\n",
       "\n",
       "            [[[[[[7.75697772e-02, 2.82209620e-01],\n",
       "                 [2.59782352e-01, 2.70894921e-01]],\n",
       "\n",
       "                [[3.07028659e-02, 2.83548740e-01],\n",
       "                 [7.86315464e-02, 4.59656783e-01]]],\n",
       "\n",
       "\n",
       "               [[[1.88620059e-01, 6.35937942e-01],\n",
       "                 [5.66046945e-01, 1.13010952e-02]],\n",
       "\n",
       "                [[9.75882608e-01, 7.84149189e-01],\n",
       "                 [2.34406408e-01, 4.95500240e-01]]]],\n",
       "\n",
       "\n",
       "\n",
       "              [[[[1.17395242e-01, 4.75881249e-01],\n",
       "                 [4.82061345e-01, 1.27181323e-01]],\n",
       "\n",
       "                [[5.54053534e-01, 9.95448737e-01],\n",
       "                 [6.19067708e-01, 5.91564376e-01]]],\n",
       "\n",
       "\n",
       "               [[[6.29349913e-01, 3.36325529e-01],\n",
       "                 [2.60435862e-01, 8.41281625e-01]],\n",
       "\n",
       "                [[7.14750970e-01, 1.88395213e-01],\n",
       "                 [6.04670669e-01, 3.94626519e-02]]]]],\n",
       "\n",
       "\n",
       "\n",
       "\n",
       "             [[[[[8.26833019e-01, 6.04234156e-01],\n",
       "                 [2.87783402e-01, 5.12522883e-01]],\n",
       "\n",
       "                [[7.50017253e-01, 4.14480209e-01],\n",
       "                 [7.42277495e-01, 1.54774108e-02]]],\n",
       "\n",
       "\n",
       "               [[[9.33693049e-01, 7.34678224e-01],\n",
       "                 [4.13882544e-01, 4.46545981e-01]],\n",
       "\n",
       "                [[8.81181830e-01, 8.13718294e-01],\n",
       "                 [5.73471335e-01, 6.87317643e-01]]]],\n",
       "\n",
       "\n",
       "\n",
       "              [[[[9.24032145e-01, 1.46506611e-01],\n",
       "                 [3.26195487e-01, 1.63399802e-02]],\n",
       "\n",
       "                [[7.47087070e-01, 6.42217613e-03],\n",
       "                 [9.86241536e-01, 3.07121594e-01]]],\n",
       "\n",
       "\n",
       "               [[[9.19972675e-01, 7.39516296e-01],\n",
       "                 [5.13053622e-01, 2.58140867e-01]],\n",
       "\n",
       "                [[4.06861840e-01, 1.86364881e-02],\n",
       "                 [8.09748486e-01, 4.55372789e-01]]]]]]],\n",
       "\n",
       "\n",
       "\n",
       "\n",
       "\n",
       "\n",
       "           [[[[[[[3.70159865e-01, 6.02878904e-01],\n",
       "                 [2.05846157e-01, 6.60648521e-02]],\n",
       "\n",
       "                [[8.71231830e-01, 7.56382627e-01],\n",
       "                 [2.18401408e-01, 1.46872258e-01]]],\n",
       "\n",
       "\n",
       "               [[[3.50024537e-01, 2.39542595e-01],\n",
       "                 [7.60718168e-01, 9.19478457e-01]],\n",
       "\n",
       "                [[5.74513470e-01, 9.57590024e-01],\n",
       "                 [2.67972426e-01, 6.08925100e-01]]]],\n",
       "\n",
       "\n",
       "\n",
       "              [[[[3.45479198e-01, 4.31115035e-01],\n",
       "                 [8.71579184e-01, 2.41193610e-01]],\n",
       "\n",
       "                [[1.44814585e-01, 9.17921220e-02],\n",
       "                 [7.41326674e-01, 3.93548659e-01]]],\n",
       "\n",
       "\n",
       "               [[[4.74594588e-01, 6.39026529e-01],\n",
       "                 [4.37017366e-01, 4.63008719e-01]],\n",
       "\n",
       "                [[6.96390803e-01, 8.24269499e-01],\n",
       "                 [6.96661383e-01, 2.23318463e-01]]]]],\n",
       "\n",
       "\n",
       "\n",
       "\n",
       "             [[[[[4.61315382e-02, 1.94002280e-01],\n",
       "                 [6.76713715e-01, 9.82718693e-02]],\n",
       "\n",
       "                [[1.97438865e-01, 9.83671104e-02],\n",
       "                 [5.87939002e-01, 9.42017773e-01]]],\n",
       "\n",
       "\n",
       "               [[[4.97967187e-01, 5.64987066e-01],\n",
       "                 [7.76205629e-01, 7.49933267e-01]],\n",
       "\n",
       "                [[4.06494882e-01, 1.01678990e-01],\n",
       "                 [1.05921150e-01, 7.71372097e-01]]]],\n",
       "\n",
       "\n",
       "\n",
       "              [[[[1.82219019e-01, 7.04469732e-01],\n",
       "                 [7.79509109e-01, 2.40948662e-01]],\n",
       "\n",
       "                [[9.23544980e-01, 4.69834668e-01],\n",
       "                 [2.62066180e-01, 5.15214881e-01]]],\n",
       "\n",
       "\n",
       "               [[[6.74535697e-01, 3.38300860e-01],\n",
       "                 [7.41888451e-03, 8.79177450e-01]],\n",
       "\n",
       "                [[6.82999842e-02, 7.65352407e-01],\n",
       "                 [5.03300294e-01, 3.48828529e-01]]]]]],\n",
       "\n",
       "\n",
       "\n",
       "\n",
       "\n",
       "            [[[[[[6.10373773e-02, 7.37966315e-01],\n",
       "                 [4.73710214e-01, 9.38861303e-01]],\n",
       "\n",
       "                [[3.83142155e-02, 8.45639114e-01],\n",
       "                 [8.61531048e-01, 7.44229277e-01]]],\n",
       "\n",
       "\n",
       "               [[[4.87561908e-01, 5.81099742e-01],\n",
       "                 [2.01756771e-01, 9.37048638e-01]],\n",
       "\n",
       "                [[6.10797259e-01, 5.69803357e-01],\n",
       "                 [3.31440122e-01, 8.52013059e-01]]]],\n",
       "\n",
       "\n",
       "\n",
       "              [[[[8.11405690e-01, 4.01738507e-01],\n",
       "                 [3.62493289e-01, 8.78687094e-01]],\n",
       "\n",
       "                [[9.10271526e-01, 1.41329901e-01],\n",
       "                 [5.86023377e-01, 2.79020158e-02]]],\n",
       "\n",
       "\n",
       "               [[[9.59201287e-01, 9.34586564e-02],\n",
       "                 [6.82518624e-01, 4.47041865e-02]],\n",
       "\n",
       "                [[1.03788387e-01, 2.45018834e-01],\n",
       "                 [1.75393865e-02, 8.35407666e-01]]]]],\n",
       "\n",
       "\n",
       "\n",
       "\n",
       "             [[[[[4.56790164e-01, 9.17657488e-01],\n",
       "                 [8.35716704e-02, 5.20247188e-01]],\n",
       "\n",
       "                [[7.00198357e-01, 4.21972487e-01],\n",
       "                 [7.72510682e-01, 7.68643030e-01]]],\n",
       "\n",
       "\n",
       "               [[[1.63644975e-01, 2.31219171e-01],\n",
       "                 [2.11653811e-01, 6.21770741e-01]],\n",
       "\n",
       "                [[5.08199381e-01, 8.27531312e-01],\n",
       "                 [2.68804480e-01, 5.37600971e-01]]]],\n",
       "\n",
       "\n",
       "\n",
       "              [[[[7.92283390e-01, 5.26537684e-01],\n",
       "                 [3.89679176e-01, 2.82416162e-01]],\n",
       "\n",
       "                [[1.98002480e-01, 6.33925763e-01],\n",
       "                 [1.85088853e-01, 8.21378605e-01]]],\n",
       "\n",
       "\n",
       "               [[[7.88055987e-01, 9.41014720e-01],\n",
       "                 [8.69100632e-01, 7.01494073e-01]],\n",
       "\n",
       "                [[5.87005396e-02, 9.05665051e-01],\n",
       "                 [2.98814503e-01, 3.67679484e-01]]]]]]]],\n",
       "\n",
       "\n",
       "\n",
       "\n",
       "\n",
       "\n",
       "\n",
       "          [[[[[[[[8.45457841e-01, 6.53382814e-01],\n",
       "                 [1.15431188e-01, 3.70365350e-01]],\n",
       "\n",
       "                [[9.38219672e-01, 8.19358667e-01],\n",
       "                 [5.14795563e-01, 2.44277528e-01]]],\n",
       "\n",
       "\n",
       "               [[[4.21014795e-01, 1.63714363e-01],\n",
       "                 [8.88054974e-01, 2.40822130e-01]],\n",
       "\n",
       "                [[2.91048159e-01, 8.83393159e-01],\n",
       "                 [3.73638652e-01, 6.24034926e-02]]]],\n",
       "\n",
       "\n",
       "\n",
       "              [[[[7.13506552e-01, 9.45128015e-01],\n",
       "                 [3.35391015e-01, 4.12451361e-02]],\n",
       "\n",
       "                [[5.65418398e-01, 1.54005395e-01],\n",
       "                 [7.45663644e-02, 2.72946495e-01]]],\n",
       "\n",
       "\n",
       "               [[[6.26133355e-01, 9.86317408e-01],\n",
       "                 [9.09258006e-01, 2.97157168e-02]],\n",
       "\n",
       "                [[6.91262950e-01, 5.64159434e-01],\n",
       "                 [2.06728894e-01, 6.72269311e-01]]]]],\n",
       "\n",
       "\n",
       "\n",
       "\n",
       "             [[[[[7.36556611e-01, 5.91462155e-01],\n",
       "                 [2.00956498e-01, 2.05796919e-02]],\n",
       "\n",
       "                [[8.68665798e-01, 5.46289883e-02],\n",
       "                 [4.64601381e-01, 2.20532191e-01]]],\n",
       "\n",
       "\n",
       "               [[[2.46146131e-01, 5.12822500e-02],\n",
       "                 [6.42596820e-01, 3.86543859e-01]],\n",
       "\n",
       "                [[8.52961953e-01, 5.76791714e-03],\n",
       "                 [5.21818831e-01, 7.02917678e-01]]]],\n",
       "\n",
       "\n",
       "\n",
       "              [[[[6.99384318e-01, 8.08334338e-01],\n",
       "                 [2.19870530e-01, 8.19585278e-01]],\n",
       "\n",
       "                [[8.75901106e-01, 1.29602527e-01],\n",
       "                 [5.66133194e-01, 4.24141040e-01]]],\n",
       "\n",
       "\n",
       "               [[[4.16360450e-01, 9.48079019e-01],\n",
       "                 [9.85474995e-01, 3.46986385e-02]],\n",
       "\n",
       "                [[8.00140183e-01, 1.41022252e-01],\n",
       "                 [4.30985929e-01, 8.46919873e-01]]]]]],\n",
       "\n",
       "\n",
       "\n",
       "\n",
       "\n",
       "            [[[[[[9.71205080e-01, 1.96854914e-01],\n",
       "                 [1.06399377e-01, 2.91265527e-01]],\n",
       "\n",
       "                [[2.20197649e-01, 3.94352890e-01],\n",
       "                 [9.62483826e-01, 6.04869793e-01]]],\n",
       "\n",
       "\n",
       "               [[[8.35617293e-01, 5.51396024e-01],\n",
       "                 [2.56957112e-01, 7.32694591e-01]],\n",
       "\n",
       "                [[5.07269791e-01, 6.94886103e-02],\n",
       "                 [2.22165697e-01, 7.28573937e-01]]]],\n",
       "\n",
       "\n",
       "\n",
       "              [[[[2.20885745e-02, 8.79481936e-01],\n",
       "                 [6.55572608e-01, 6.44587106e-01]],\n",
       "\n",
       "                [[8.88586145e-01, 8.94392479e-01],\n",
       "                 [2.34347664e-02, 5.60496335e-01]]],\n",
       "\n",
       "\n",
       "               [[[8.81249333e-01, 7.93515804e-01],\n",
       "                 [8.13787684e-01, 3.35243237e-01]],\n",
       "\n",
       "                [[8.78123197e-01, 7.17336977e-02],\n",
       "                 [5.88755411e-02, 2.35924169e-01]]]]],\n",
       "\n",
       "\n",
       "\n",
       "\n",
       "             [[[[[4.15058933e-01, 1.09836698e-01],\n",
       "                 [6.40707053e-01, 3.92721763e-01]],\n",
       "\n",
       "                [[7.45443906e-01, 6.53451131e-01],\n",
       "                 [6.65985340e-01, 9.35899757e-01]]],\n",
       "\n",
       "\n",
       "               [[[5.57127583e-01, 6.15334819e-01],\n",
       "                 [8.18729012e-01, 3.82071594e-01]],\n",
       "\n",
       "                [[7.89534349e-01, 1.48495660e-01],\n",
       "                 [5.69310001e-02, 3.93611668e-01]]]],\n",
       "\n",
       "\n",
       "\n",
       "              [[[[9.57046907e-01, 3.87597175e-01],\n",
       "                 [7.39821600e-01, 8.63415657e-01]],\n",
       "\n",
       "                [[3.84894871e-01, 8.94762655e-01],\n",
       "                 [7.85994452e-01, 6.87839060e-01]]],\n",
       "\n",
       "\n",
       "               [[[7.22699119e-01, 7.02371599e-01],\n",
       "                 [8.44597231e-01, 8.65503988e-01]],\n",
       "\n",
       "                [[5.75994627e-01, 9.73364120e-01],\n",
       "                 [3.67312887e-01, 9.25941357e-01]]]]]]],\n",
       "\n",
       "\n",
       "\n",
       "\n",
       "\n",
       "\n",
       "           [[[[[[[5.24153869e-01, 9.03606961e-01],\n",
       "                 [6.71774976e-02, 2.76054083e-01]],\n",
       "\n",
       "                [[4.95151535e-01, 2.31213121e-01],\n",
       "                 [8.71178371e-01, 4.75182048e-02]]],\n",
       "\n",
       "\n",
       "               [[[9.89455757e-01, 1.53643272e-01],\n",
       "                 [3.43135909e-01, 5.04880534e-01]],\n",
       "\n",
       "                [[5.69168127e-01, 1.38469935e-01],\n",
       "                 [2.46121049e-01, 5.63434529e-01]]]],\n",
       "\n",
       "\n",
       "\n",
       "              [[[[9.82366425e-01, 7.52293239e-01],\n",
       "                 [3.40525969e-01, 3.09790528e-01]],\n",
       "\n",
       "                [[9.52846136e-01, 7.65437744e-01],\n",
       "                 [4.03084023e-01, 9.84896741e-01]]],\n",
       "\n",
       "\n",
       "               [[[3.42146646e-02, 6.10254903e-01],\n",
       "                 [7.29977302e-01, 1.99872843e-01]],\n",
       "\n",
       "                [[9.93245766e-03, 9.51899243e-02],\n",
       "                 [2.26927818e-01, 4.34588058e-01]]]]],\n",
       "\n",
       "\n",
       "\n",
       "\n",
       "             [[[[[1.89755762e-02, 1.19274896e-01],\n",
       "                 [7.76514563e-01, 1.58870905e-01]],\n",
       "\n",
       "                [[2.65714956e-01, 2.87877489e-01],\n",
       "                 [4.57102176e-01, 4.13701352e-01]]],\n",
       "\n",
       "\n",
       "               [[[8.41406257e-01, 9.02463931e-01],\n",
       "                 [3.22358924e-01, 4.23296568e-01]],\n",
       "\n",
       "                [[7.89754492e-01, 1.10936293e-01],\n",
       "                 [4.26550942e-01, 7.69596173e-01]]]],\n",
       "\n",
       "\n",
       "\n",
       "              [[[[8.97417086e-02, 8.21387369e-01],\n",
       "                 [2.95008247e-01, 4.23695435e-01]],\n",
       "\n",
       "                [[9.86317638e-01, 5.82450488e-01],\n",
       "                 [7.82415624e-01, 8.96782405e-01]]],\n",
       "\n",
       "\n",
       "               [[[6.05902854e-01, 1.91542194e-01],\n",
       "                 [2.49193957e-02, 1.25117588e-01]],\n",
       "\n",
       "                [[8.85046697e-01, 3.51867212e-01],\n",
       "                 [9.73615261e-01, 8.78392879e-01]]]]]],\n",
       "\n",
       "\n",
       "\n",
       "\n",
       "\n",
       "            [[[[[[7.17221959e-01, 2.31332423e-01],\n",
       "                 [9.76185753e-01, 4.66216428e-01]],\n",
       "\n",
       "                [[7.47933729e-01, 5.89886884e-01],\n",
       "                 [6.36146398e-01, 7.44871938e-01]]],\n",
       "\n",
       "\n",
       "               [[[6.45038973e-01, 7.96530550e-01],\n",
       "                 [5.99336166e-01, 9.10439768e-01]],\n",
       "\n",
       "                [[9.56702549e-01, 7.76889833e-01],\n",
       "                 [5.54569895e-01, 8.42311074e-01]]]],\n",
       "\n",
       "\n",
       "\n",
       "              [[[[4.56600419e-01, 7.53934864e-02],\n",
       "                 [4.50536458e-01, 2.61833389e-01]],\n",
       "\n",
       "                [[9.67854430e-01, 2.34995420e-01],\n",
       "                 [4.74829322e-01, 2.69699919e-01]]],\n",
       "\n",
       "\n",
       "               [[[7.59070606e-01, 4.55979308e-01],\n",
       "                 [6.09405533e-01, 1.14832301e-01]],\n",
       "\n",
       "                [[5.81367374e-01, 1.46133814e-01],\n",
       "                 [4.49510194e-01, 5.33397621e-01]]]]],\n",
       "\n",
       "\n",
       "\n",
       "\n",
       "             [[[[[9.71551988e-01, 3.31335289e-01],\n",
       "                 [8.85366214e-01, 8.98676841e-01]],\n",
       "\n",
       "                [[4.13821744e-01, 7.38945384e-01],\n",
       "                 [3.35785316e-01, 6.99118657e-01]]],\n",
       "\n",
       "\n",
       "               [[[1.75011799e-01, 4.68470304e-01],\n",
       "                 [4.61039740e-01, 1.32061710e-01]],\n",
       "\n",
       "                [[4.46234951e-01, 5.83459227e-01],\n",
       "                 [6.89089106e-02, 7.66592554e-01]]]],\n",
       "\n",
       "\n",
       "\n",
       "              [[[[1.95152573e-01, 7.43813594e-01],\n",
       "                 [9.10021494e-02, 2.53407120e-02]],\n",
       "\n",
       "                [[7.84689156e-01, 1.30656726e-01],\n",
       "                 [3.86728036e-01, 7.78078385e-01]]],\n",
       "\n",
       "\n",
       "               [[[6.55556141e-01, 8.34062387e-01],\n",
       "                 [6.42092687e-01, 9.08333111e-01]],\n",
       "\n",
       "                [[9.18653396e-01, 8.54779897e-01],\n",
       "                 [2.11068707e-02, 5.46977588e-01]]]]]]]]],\n",
       "\n",
       "\n",
       "\n",
       "\n",
       "\n",
       "\n",
       "\n",
       "\n",
       "         [[[[[[[[[1.25853041e-01, 3.53531114e-02],\n",
       "                 [2.30392026e-01, 1.22001248e-01]],\n",
       "\n",
       "                [[2.92488328e-01, 9.97849738e-01],\n",
       "                 [5.41865411e-01, 8.14867467e-01]]],\n",
       "\n",
       "\n",
       "               [[[8.13602576e-01, 4.53689677e-01],\n",
       "                 [6.80118783e-01, 6.68206254e-01]],\n",
       "\n",
       "                [[9.29978099e-01, 5.28596032e-02],\n",
       "                 [6.69237330e-01, 8.50092811e-01]]]],\n",
       "\n",
       "\n",
       "\n",
       "              [[[[1.82985461e-01, 3.98045904e-01],\n",
       "                 [5.34954778e-01, 9.01751788e-01]],\n",
       "\n",
       "                [[3.11384665e-01, 4.38564943e-01],\n",
       "                 [8.82115529e-01, 6.63131769e-01]]],\n",
       "\n",
       "\n",
       "               [[[4.65307696e-02, 2.02463129e-01],\n",
       "                 [6.85839428e-01, 1.78680654e-01]],\n",
       "\n",
       "                [[4.97183670e-01, 8.60132418e-01],\n",
       "                 [2.70244523e-01, 6.48048119e-01]]]]],\n",
       "\n",
       "\n",
       "\n",
       "\n",
       "             [[[[[2.06486246e-01, 4.79255037e-01],\n",
       "                 [5.42360853e-01, 7.60109603e-01]],\n",
       "\n",
       "                [[3.89855543e-01, 9.73079496e-01],\n",
       "                 [1.96059491e-01, 9.25310268e-01]]],\n",
       "\n",
       "\n",
       "               [[[3.32256866e-01, 8.37304522e-02],\n",
       "                 [9.63499829e-01, 9.37253649e-01]],\n",
       "\n",
       "                [[1.58445977e-01, 9.92554171e-01],\n",
       "                 [1.63797000e-02, 2.46574592e-01]]]],\n",
       "\n",
       "\n",
       "\n",
       "              [[[[1.33826624e-02, 5.41290717e-01],\n",
       "                 [3.86630654e-01, 8.39155727e-01]],\n",
       "\n",
       "                [[5.39180261e-01, 3.55685426e-01],\n",
       "                 [3.72328540e-01, 2.47063210e-01]]],\n",
       "\n",
       "\n",
       "               [[[8.81829173e-01, 8.58547442e-01],\n",
       "                 [6.62981997e-01, 6.13879078e-01]],\n",
       "\n",
       "                [[6.16223217e-01, 5.49207952e-01],\n",
       "                 [4.10632232e-01, 7.57425601e-01]]]]]],\n",
       "\n",
       "\n",
       "\n",
       "\n",
       "\n",
       "            [[[[[[7.48917138e-01, 2.85440263e-01],\n",
       "                 [7.65449930e-01, 1.57942867e-01]],\n",
       "\n",
       "                [[8.47948837e-01, 1.02867264e-01],\n",
       "                 [1.91503280e-02, 1.80989850e-01]]],\n",
       "\n",
       "\n",
       "               [[[3.08494923e-01, 8.99821066e-01],\n",
       "                 [6.89917082e-01, 1.13372077e-01]],\n",
       "\n",
       "                [[7.23231882e-01, 3.83223331e-01],\n",
       "                 [7.64097964e-01, 9.08886977e-01]]]],\n",
       "\n",
       "\n",
       "\n",
       "              [[[[2.80573764e-01, 4.02254079e-02],\n",
       "                 [1.71066707e-01, 7.89642546e-02]],\n",
       "\n",
       "                [[2.86894092e-01, 1.43486294e-01],\n",
       "                 [2.83718465e-01, 4.01502754e-01]]],\n",
       "\n",
       "\n",
       "               [[[2.58056341e-01, 7.18532856e-01],\n",
       "                 [8.01744862e-01, 3.04848415e-01]],\n",
       "\n",
       "                [[6.55382042e-02, 4.55332449e-01],\n",
       "                 [3.28617122e-01, 1.49376413e-01]]]]],\n",
       "\n",
       "\n",
       "\n",
       "\n",
       "             [[[[[7.25778969e-02, 3.32246095e-01],\n",
       "                 [4.48510636e-01, 2.05700499e-01]],\n",
       "\n",
       "                [[7.02732176e-01, 4.37471592e-01],\n",
       "                 [7.82625104e-02, 2.35294247e-01]]],\n",
       "\n",
       "\n",
       "               [[[7.53410206e-01, 5.37092061e-01],\n",
       "                 [8.28570615e-01, 8.96747584e-01]],\n",
       "\n",
       "                [[7.10807735e-01, 6.36055039e-01],\n",
       "                 [1.04056840e-01, 5.14141699e-01]]]],\n",
       "\n",
       "\n",
       "\n",
       "              [[[[2.05503479e-01, 3.16981836e-01],\n",
       "                 [6.47299369e-01, 5.20220573e-01]],\n",
       "\n",
       "                [[3.05292398e-01, 2.26929180e-01],\n",
       "                 [1.35864347e-01, 3.55408594e-01]]],\n",
       "\n",
       "\n",
       "               [[[3.05355785e-01, 5.17702781e-01],\n",
       "                 [6.89776307e-01, 4.17022427e-01]],\n",
       "\n",
       "                [[2.46329094e-01, 8.57556832e-02],\n",
       "                 [2.45655351e-01, 4.04710971e-02]]]]]]],\n",
       "\n",
       "\n",
       "\n",
       "\n",
       "\n",
       "\n",
       "           [[[[[[[2.28828864e-01, 3.60982374e-01],\n",
       "                 [8.56101461e-01, 2.66771407e-01]],\n",
       "\n",
       "                [[6.95420039e-01, 2.58620818e-01],\n",
       "                 [1.66208795e-02, 7.00772101e-02]]],\n",
       "\n",
       "\n",
       "               [[[7.63992290e-01, 1.87798294e-01],\n",
       "                 [8.43310538e-01, 9.62746052e-01]],\n",
       "\n",
       "                [[7.69368252e-01, 9.99688601e-01],\n",
       "                 [4.95715849e-01, 7.70676119e-02]]]],\n",
       "\n",
       "\n",
       "\n",
       "              [[[[4.66966426e-02, 1.62415108e-01],\n",
       "                 [5.17188822e-01, 3.85964800e-01]],\n",
       "\n",
       "                [[9.77122844e-02, 4.09184020e-01],\n",
       "                 [1.41698975e-01, 5.31868192e-01]]],\n",
       "\n",
       "\n",
       "               [[[4.79227124e-01, 4.27258688e-01],\n",
       "                 [7.62049570e-01, 7.03749897e-01]],\n",
       "\n",
       "                [[3.70414335e-01, 3.75385780e-01],\n",
       "                 [8.40513693e-01, 9.56099990e-01]]]]],\n",
       "\n",
       "\n",
       "\n",
       "\n",
       "             [[[[[7.78602901e-01, 3.29820032e-02],\n",
       "                 [3.98316494e-01, 8.51101405e-02]],\n",
       "\n",
       "                [[5.97141747e-01, 3.39643318e-02],\n",
       "                 [8.27034681e-01, 2.13557477e-01]]],\n",
       "\n",
       "\n",
       "               [[[8.92114025e-01, 3.80055959e-01],\n",
       "                 [7.17081215e-02, 5.30759235e-01]],\n",
       "\n",
       "                [[7.30114989e-01, 7.09099922e-01],\n",
       "                 [7.48353844e-01, 3.94231917e-01]]]],\n",
       "\n",
       "\n",
       "\n",
       "              [[[[6.05909863e-01, 4.62958849e-01],\n",
       "                 [4.38221569e-01, 5.22051075e-01]],\n",
       "\n",
       "                [[2.73576694e-01, 1.16387982e-01],\n",
       "                 [5.63891958e-01, 3.99771896e-01]]],\n",
       "\n",
       "\n",
       "               [[[6.71352432e-02, 4.84485480e-01],\n",
       "                 [3.24427424e-01, 6.62855981e-01]],\n",
       "\n",
       "                [[5.71680589e-02, 3.07055381e-01],\n",
       "                 [3.24415439e-01, 4.19952373e-01]]]]]],\n",
       "\n",
       "\n",
       "\n",
       "\n",
       "\n",
       "            [[[[[[6.60330621e-01, 9.71064616e-01],\n",
       "                 [7.12955608e-01, 2.97319151e-01]],\n",
       "\n",
       "                [[6.35469916e-01, 8.80585626e-01],\n",
       "                 [7.07122983e-01, 7.00180150e-01]]],\n",
       "\n",
       "\n",
       "               [[[7.00454830e-01, 8.97260007e-01],\n",
       "                 [7.17539264e-01, 4.73602050e-01]],\n",
       "\n",
       "                [[2.81173899e-01, 3.18368765e-01],\n",
       "                 [9.74456014e-01, 8.82305581e-01]]]],\n",
       "\n",
       "\n",
       "\n",
       "              [[[[8.88639221e-01, 2.17991207e-01],\n",
       "                 [8.11554728e-01, 7.00955789e-02]],\n",
       "\n",
       "                [[5.65937625e-01, 7.79885931e-02],\n",
       "                 [8.39353075e-01, 2.60970447e-01]]],\n",
       "\n",
       "\n",
       "               [[[3.99448492e-01, 3.17333731e-01],\n",
       "                 [8.99495567e-02, 6.91132025e-01]],\n",
       "\n",
       "                [[2.65644267e-01, 9.36027222e-01],\n",
       "                 [6.64039951e-01, 8.66101286e-01]]]]],\n",
       "\n",
       "\n",
       "\n",
       "\n",
       "             [[[[[9.74132640e-01, 4.70087120e-01],\n",
       "                 [7.22215202e-01, 6.71261365e-01]],\n",
       "\n",
       "                [[7.96984963e-01, 6.63680502e-02],\n",
       "                 [3.48600035e-01, 3.27740281e-01]]],\n",
       "\n",
       "\n",
       "               [[[4.45590976e-01, 6.00841154e-01],\n",
       "                 [4.37072264e-01, 1.01007830e-02]],\n",
       "\n",
       "                [[1.55461744e-01, 6.75254778e-01],\n",
       "                 [1.74269006e-01, 2.02272332e-01]]]],\n",
       "\n",
       "\n",
       "\n",
       "              [[[[1.90776440e-01, 3.31017253e-01],\n",
       "                 [4.54718959e-01, 7.77959608e-02]],\n",
       "\n",
       "                [[7.17035795e-01, 1.10435465e-01],\n",
       "                 [7.03159074e-01, 2.29929944e-01]]],\n",
       "\n",
       "\n",
       "               [[[1.59766172e-01, 3.55216128e-01],\n",
       "                 [2.90993768e-01, 9.25832058e-01]],\n",
       "\n",
       "                [[5.99904209e-01, 3.50053918e-01],\n",
       "                 [4.22335950e-01, 1.56790190e-01]]]]]]]],\n",
       "\n",
       "\n",
       "\n",
       "\n",
       "\n",
       "\n",
       "\n",
       "          [[[[[[[[7.57268463e-01, 7.24380222e-01],\n",
       "                 [5.31376225e-01, 7.20615612e-01]],\n",
       "\n",
       "                [[3.88237598e-01, 2.49214097e-01],\n",
       "                 [1.18073121e-01, 4.17195600e-01]]],\n",
       "\n",
       "\n",
       "               [[[8.29036512e-01, 3.69036277e-01],\n",
       "                 [2.24096688e-01, 4.82531988e-01]],\n",
       "\n",
       "                [[3.61249174e-01, 2.89216792e-01],\n",
       "                 [8.95044012e-01, 5.86766073e-01]]]],\n",
       "\n",
       "\n",
       "\n",
       "              [[[[4.86053036e-01, 6.10177758e-01],\n",
       "                 [4.05381678e-01, 7.82848111e-01]],\n",
       "\n",
       "                [[1.55880424e-01, 5.72102045e-01],\n",
       "                 [1.57169934e-01, 7.59300794e-01]]],\n",
       "\n",
       "\n",
       "               [[[1.22124510e-01, 6.86382881e-01],\n",
       "                 [3.85565140e-01, 3.65022970e-01]],\n",
       "\n",
       "                [[1.03631268e-01, 9.18279461e-01],\n",
       "                 [6.16254805e-01, 2.98706822e-01]]]]],\n",
       "\n",
       "\n",
       "\n",
       "\n",
       "             [[[[[8.71636426e-02, 7.22821184e-02],\n",
       "                 [6.16269452e-01, 1.23228327e-01]],\n",
       "\n",
       "                [[8.46709075e-01, 2.50359115e-01],\n",
       "                 [5.77920863e-01, 6.39026024e-01]]],\n",
       "\n",
       "\n",
       "               [[[8.87341337e-01, 3.85838142e-01],\n",
       "                 [2.47531476e-02, 1.14174611e-01]],\n",
       "\n",
       "                [[3.11058083e-01, 6.57870715e-01],\n",
       "                 [5.48151523e-02, 5.10120327e-01]]]],\n",
       "\n",
       "\n",
       "\n",
       "              [[[[1.06916649e-01, 8.83463900e-01],\n",
       "                 [5.40159130e-02, 5.40187322e-01]],\n",
       "\n",
       "                [[3.60958667e-01, 3.66292938e-01],\n",
       "                 [3.02665428e-01, 4.71317390e-01]]],\n",
       "\n",
       "\n",
       "               [[[8.71795850e-01, 9.60646052e-01],\n",
       "                 [9.67241204e-01, 8.62168232e-01]],\n",
       "\n",
       "                [[7.22746368e-01, 5.04962330e-01],\n",
       "                 [6.56464290e-01, 6.09301339e-01]]]]]],\n",
       "\n",
       "\n",
       "\n",
       "\n",
       "\n",
       "            [[[[[[4.82774037e-02, 3.11943804e-01],\n",
       "                 [3.77193340e-01, 6.11182730e-01]],\n",
       "\n",
       "                [[3.20748738e-01, 5.53398477e-01],\n",
       "                 [9.81049008e-02, 8.72677019e-01]]],\n",
       "\n",
       "\n",
       "               [[[8.78436009e-01, 3.73621818e-01],\n",
       "                 [5.66032112e-01, 3.73032695e-02]],\n",
       "\n",
       "                [[3.71239069e-01, 6.98097882e-02],\n",
       "                 [9.62755617e-01, 3.01594130e-01]]]],\n",
       "\n",
       "\n",
       "\n",
       "              [[[[8.73899473e-01, 6.88776113e-01],\n",
       "                 [1.57857813e-01, 9.66434550e-01]],\n",
       "\n",
       "                [[6.11049747e-01, 6.93152086e-01],\n",
       "                 [5.93480591e-01, 9.72121935e-01]]],\n",
       "\n",
       "\n",
       "               [[[6.15820497e-01, 3.70746347e-01],\n",
       "                 [5.38060444e-03, 4.08851929e-01]],\n",
       "\n",
       "                [[7.70082812e-01, 5.95865343e-01],\n",
       "                 [7.54315851e-01, 6.39058796e-01]]]]],\n",
       "\n",
       "\n",
       "\n",
       "\n",
       "             [[[[[4.19487414e-01, 5.78838157e-01],\n",
       "                 [8.51400493e-01, 9.10718928e-01]],\n",
       "\n",
       "                [[3.29275313e-01, 8.86148162e-02],\n",
       "                 [1.44723510e-01, 5.60475724e-01]]],\n",
       "\n",
       "\n",
       "               [[[9.45504561e-01, 7.07607087e-01],\n",
       "                 [7.55126492e-01, 2.95009006e-01]],\n",
       "\n",
       "                [[9.99508043e-01, 5.46221024e-01],\n",
       "                 [2.96270931e-02, 2.65615331e-01]]]],\n",
       "\n",
       "\n",
       "\n",
       "              [[[[6.82462181e-01, 2.04952900e-01],\n",
       "                 [8.00412986e-01, 9.13753458e-01]],\n",
       "\n",
       "                [[1.88119792e-01, 8.94146294e-01],\n",
       "                 [9.39059045e-02, 8.49464298e-01]]],\n",
       "\n",
       "\n",
       "               [[[5.85543205e-01, 6.94259401e-01],\n",
       "                 [5.91751971e-03, 1.56293949e-01]],\n",
       "\n",
       "                [[1.85779595e-02, 4.23536942e-01],\n",
       "                 [9.12460844e-01, 9.49399164e-02]]]]]]],\n",
       "\n",
       "\n",
       "\n",
       "\n",
       "\n",
       "\n",
       "           [[[[[[[4.97428456e-01, 5.93538747e-02],\n",
       "                 [3.44552788e-01, 2.58299561e-01]],\n",
       "\n",
       "                [[6.51233963e-01, 1.84582405e-02],\n",
       "                 [9.94099387e-01, 8.32929268e-01]]],\n",
       "\n",
       "\n",
       "               [[[6.75298041e-01, 1.76573447e-01],\n",
       "                 [4.56552830e-01, 6.47304502e-01]],\n",
       "\n",
       "                [[5.83165932e-01, 8.66971537e-01],\n",
       "                 [1.44680939e-01, 5.66932170e-01]]]],\n",
       "\n",
       "\n",
       "\n",
       "              [[[[6.20849639e-01, 3.24169727e-01],\n",
       "                 [5.55129709e-01, 5.44766874e-01]],\n",
       "\n",
       "                [[1.96034406e-03, 1.95684094e-01],\n",
       "                 [2.04374655e-01, 5.97281186e-01]]],\n",
       "\n",
       "\n",
       "               [[[7.89852827e-02, 5.15742908e-01],\n",
       "                 [2.42997022e-01, 7.58026466e-01]],\n",
       "\n",
       "                [[5.44053790e-01, 9.55630271e-01],\n",
       "                 [3.16365573e-01, 6.12687848e-01]]]]],\n",
       "\n",
       "\n",
       "\n",
       "\n",
       "             [[[[[7.96698181e-01, 8.97725536e-01],\n",
       "                 [4.59857529e-01, 3.22938745e-01]],\n",
       "\n",
       "                [[1.52663834e-01, 2.60321657e-01],\n",
       "                 [9.43514226e-02, 2.78094514e-01]]],\n",
       "\n",
       "\n",
       "               [[[5.30720932e-01, 2.33622565e-01],\n",
       "                 [3.76830023e-01, 4.08845043e-01]],\n",
       "\n",
       "                [[4.22778744e-01, 8.75110606e-01],\n",
       "                 [1.72682507e-04, 2.97847044e-01]]]],\n",
       "\n",
       "\n",
       "\n",
       "              [[[[5.48067969e-01, 7.07531343e-01],\n",
       "                 [1.74913960e-03, 4.54651001e-01]],\n",
       "\n",
       "                [[2.61502811e-01, 8.80694977e-02],\n",
       "                 [8.73714932e-01, 4.42545224e-01]]],\n",
       "\n",
       "\n",
       "               [[[4.93180940e-01, 1.50738954e-01],\n",
       "                 [7.81153743e-02, 5.67080366e-01]],\n",
       "\n",
       "                [[2.36465951e-01, 8.28971645e-01],\n",
       "                 [4.12690723e-01, 7.21954391e-01]]]]]],\n",
       "\n",
       "\n",
       "\n",
       "\n",
       "\n",
       "            [[[[[[5.29615026e-01, 1.36006536e-01],\n",
       "                 [7.67058803e-01, 8.92316712e-01]],\n",
       "\n",
       "                [[1.10519418e-01, 8.47202005e-01],\n",
       "                 [3.34214990e-01, 9.46827831e-01]]],\n",
       "\n",
       "\n",
       "               [[[6.19223098e-01, 1.04305615e-01],\n",
       "                 [1.00505621e-01, 6.67244630e-01]],\n",
       "\n",
       "                [[1.38210729e-01, 8.09709141e-01],\n",
       "                 [8.43291134e-01, 8.22188392e-01]]]],\n",
       "\n",
       "\n",
       "\n",
       "              [[[[2.60326186e-02, 2.62590513e-01],\n",
       "                 [3.78114879e-02, 6.97366713e-01]],\n",
       "\n",
       "                [[1.89685771e-01, 4.69564965e-03],\n",
       "                 [5.10732046e-01, 5.37042318e-01]]],\n",
       "\n",
       "\n",
       "               [[[7.54710211e-01, 9.51504448e-02],\n",
       "                 [6.09944756e-01, 3.57651377e-01]],\n",
       "\n",
       "                [[1.51920675e-01, 5.05934669e-01],\n",
       "                 [8.35642350e-01, 2.80559378e-01]]]]],\n",
       "\n",
       "\n",
       "\n",
       "\n",
       "             [[[[[5.25332241e-01, 8.84615167e-01],\n",
       "                 [7.17680432e-01, 8.54420728e-01]],\n",
       "\n",
       "                [[6.86463865e-02, 2.27703708e-01],\n",
       "                 [3.53911539e-02, 8.21187116e-01]]],\n",
       "\n",
       "\n",
       "               [[[1.75252437e-01, 1.19972154e-01],\n",
       "                 [8.82294003e-01, 3.73319333e-02]],\n",
       "\n",
       "                [[6.45431706e-01, 3.29248464e-01],\n",
       "                 [8.30258622e-01, 5.97649416e-01]]]],\n",
       "\n",
       "\n",
       "\n",
       "              [[[[7.68680634e-01, 7.75473758e-01],\n",
       "                 [1.50186604e-01, 7.37736746e-01]],\n",
       "\n",
       "                [[5.86328722e-01, 1.02320904e-01],\n",
       "                 [5.84960042e-01, 9.02638501e-01]]],\n",
       "\n",
       "\n",
       "               [[[5.73242236e-01, 3.92656351e-01],\n",
       "                 [5.92848593e-01, 1.21186257e-01]],\n",
       "\n",
       "                [[2.92206590e-01, 5.05072944e-01],\n",
       "                 [4.52379773e-01, 7.28008101e-01]]]]]]]]]]],\n",
       "\n",
       "\n",
       "\n",
       "\n",
       "\n",
       "\n",
       "\n",
       "\n",
       "\n",
       "\n",
       "       [[[[[[[[[[[2.88512351e-01, 5.28190539e-01],\n",
       "                 [3.46015984e-01, 1.24786035e-01]],\n",
       "\n",
       "                [[5.01195106e-01, 8.00627458e-01],\n",
       "                 [3.76086778e-01, 1.82843880e-01]]],\n",
       "\n",
       "\n",
       "               [[[2.51314732e-01, 5.92504864e-01],\n",
       "                 [2.96175194e-01, 1.00544326e-01]],\n",
       "\n",
       "                [[9.65868036e-01, 8.87931664e-01],\n",
       "                 [9.60849114e-01, 3.69834278e-01]]]],\n",
       "\n",
       "\n",
       "\n",
       "              [[[[5.22823513e-01, 7.38351563e-01],\n",
       "                 [3.86323979e-01, 7.53608530e-01]],\n",
       "\n",
       "                [[3.17567539e-01, 3.43258992e-01],\n",
       "                 [7.53528078e-01, 9.39925448e-01]]],\n",
       "\n",
       "\n",
       "               [[[7.12602533e-01, 9.30603426e-01],\n",
       "                 [7.45959464e-01, 2.64540365e-01]],\n",
       "\n",
       "                [[1.87722627e-01, 6.91604781e-01],\n",
       "                 [8.41863508e-01, 4.97254958e-01]]]]],\n",
       "\n",
       "\n",
       "\n",
       "\n",
       "             [[[[[6.45526334e-01, 1.56128176e-01],\n",
       "                 [9.89345039e-01, 7.86277948e-01]],\n",
       "\n",
       "                [[3.97492109e-01, 3.46472745e-01],\n",
       "                 [6.97530528e-01, 5.92398525e-02]]],\n",
       "\n",
       "\n",
       "               [[[6.37430323e-01, 9.46916021e-01],\n",
       "                 [7.94279631e-01, 6.18852958e-01]],\n",
       "\n",
       "                [[7.32059332e-02, 5.06260189e-01],\n",
       "                 [3.52339020e-01, 2.93894768e-01]]]],\n",
       "\n",
       "\n",
       "\n",
       "              [[[[1.02893609e-01, 8.67475798e-01],\n",
       "                 [7.95631745e-01, 8.33745616e-01]],\n",
       "\n",
       "                [[3.93030834e-01, 4.30942692e-01],\n",
       "                 [6.88276373e-01, 3.82372142e-01]]],\n",
       "\n",
       "\n",
       "               [[[8.48670171e-01, 1.50557775e-01],\n",
       "                 [9.88960961e-01, 3.50979351e-01]],\n",
       "\n",
       "                [[2.24826017e-01, 7.68709925e-01],\n",
       "                 [4.27322170e-01, 1.13882435e-01]]]]]],\n",
       "\n",
       "\n",
       "\n",
       "\n",
       "\n",
       "            [[[[[[1.38436241e-03, 9.44089794e-01],\n",
       "                 [3.58148182e-01, 9.81230066e-01]],\n",
       "\n",
       "                [[3.24690154e-01, 9.03176271e-02],\n",
       "                 [9.41234211e-01, 7.70612308e-01]]],\n",
       "\n",
       "\n",
       "               [[[6.53660869e-01, 5.30560604e-02],\n",
       "                 [5.01138936e-01, 5.24487242e-01]],\n",
       "\n",
       "                [[9.61195139e-01, 1.64620943e-01],\n",
       "                 [1.00696931e-01, 2.53342030e-01]]]],\n",
       "\n",
       "\n",
       "\n",
       "              [[[[9.51892011e-01, 9.02412716e-01],\n",
       "                 [8.45013320e-01, 1.15412072e-01]],\n",
       "\n",
       "                [[3.72442389e-01, 7.44640820e-01],\n",
       "                 [1.27980530e-01, 1.92176216e-01]]],\n",
       "\n",
       "\n",
       "               [[[7.78094561e-01, 9.60711368e-02],\n",
       "                 [9.95209314e-01, 2.74303675e-01]],\n",
       "\n",
       "                [[1.81723597e-01, 2.16324769e-01],\n",
       "                 [7.21303795e-01, 4.19162548e-01]]]]],\n",
       "\n",
       "\n",
       "\n",
       "\n",
       "             [[[[[3.41381701e-01, 1.25592757e-01],\n",
       "                 [7.97072302e-01, 4.82824412e-01]],\n",
       "\n",
       "                [[8.87536269e-01, 3.82670041e-01],\n",
       "                 [7.65092534e-01, 6.94384696e-01]]],\n",
       "\n",
       "\n",
       "               [[[4.02662885e-01, 7.98520527e-01],\n",
       "                 [2.38698708e-01, 2.90978768e-01]],\n",
       "\n",
       "                [[2.95232545e-01, 7.66339942e-01],\n",
       "                 [3.62088970e-02, 1.59874370e-01]]]],\n",
       "\n",
       "\n",
       "\n",
       "              [[[[9.71652909e-01, 3.79314133e-01],\n",
       "                 [9.03547411e-01, 8.17417864e-02]],\n",
       "\n",
       "                [[7.00767227e-01, 5.47825458e-01],\n",
       "                 [9.35922573e-01, 7.79885942e-01]]],\n",
       "\n",
       "\n",
       "               [[[8.85001397e-01, 2.60462623e-01],\n",
       "                 [4.05379839e-01, 1.25173758e-01]],\n",
       "\n",
       "                [[4.54149105e-01, 3.44812081e-01],\n",
       "                 [4.80725269e-01, 8.04988976e-01]]]]]]],\n",
       "\n",
       "\n",
       "\n",
       "\n",
       "\n",
       "\n",
       "           [[[[[[[5.20506015e-01, 8.81786438e-01],\n",
       "                 [9.21406019e-01, 2.29315816e-01]],\n",
       "\n",
       "                [[3.25405337e-01, 3.76036742e-01],\n",
       "                 [9.22975594e-01, 8.89413478e-01]]],\n",
       "\n",
       "\n",
       "               [[[6.81768644e-01, 3.65209723e-01],\n",
       "                 [4.12512626e-01, 1.89069926e-01]],\n",
       "\n",
       "                [[4.98627075e-01, 3.60009286e-01],\n",
       "                 [3.86406431e-01, 9.56956526e-01]]]],\n",
       "\n",
       "\n",
       "\n",
       "              [[[[8.17370639e-01, 2.05660895e-02],\n",
       "                 [9.97835910e-01, 8.96042414e-03]],\n",
       "\n",
       "                [[6.65229270e-01, 5.86524668e-01],\n",
       "                 [3.60467438e-01, 9.82121049e-02]]],\n",
       "\n",
       "\n",
       "               [[[6.59565890e-01, 9.64560444e-01],\n",
       "                 [8.38710151e-01, 4.15903788e-01]],\n",
       "\n",
       "                [[5.02943220e-01, 3.12123960e-02],\n",
       "                 [4.92728813e-01, 3.56502842e-01]]]]],\n",
       "\n",
       "\n",
       "\n",
       "\n",
       "             [[[[[2.37015677e-01, 3.59661752e-01],\n",
       "                 [5.06718227e-02, 1.26942560e-01]],\n",
       "\n",
       "                [[5.75147656e-01, 2.94582331e-01],\n",
       "                 [4.47648392e-01, 3.13635525e-01]]],\n",
       "\n",
       "\n",
       "               [[[9.49952563e-01, 7.97870564e-01],\n",
       "                 [5.30365323e-01, 1.06036189e-01]],\n",
       "\n",
       "                [[4.32612125e-01, 2.59753694e-01],\n",
       "                 [7.45474977e-01, 5.45103472e-01]]]],\n",
       "\n",
       "\n",
       "\n",
       "              [[[[5.95885762e-01, 6.98265919e-01],\n",
       "                 [2.24558804e-01, 8.53906835e-01]],\n",
       "\n",
       "                [[3.26017154e-01, 6.64764178e-01],\n",
       "                 [4.47074497e-01, 1.97915347e-01]]],\n",
       "\n",
       "\n",
       "               [[[6.22961268e-01, 6.42777889e-01],\n",
       "                 [6.97962872e-01, 6.48576253e-01]],\n",
       "\n",
       "                [[7.16195242e-01, 4.17699599e-01],\n",
       "                 [6.81518758e-01, 8.23394799e-01]]]]]],\n",
       "\n",
       "\n",
       "\n",
       "\n",
       "\n",
       "            [[[[[[3.44503161e-01, 9.82013288e-01],\n",
       "                 [6.87472545e-02, 8.04870833e-01]],\n",
       "\n",
       "                [[8.10975961e-01, 5.28264213e-01],\n",
       "                 [9.09838920e-01, 1.67052610e-01]]],\n",
       "\n",
       "\n",
       "               [[[1.56993359e-01, 8.75314357e-01],\n",
       "                 [4.58366794e-01, 7.60302065e-01]],\n",
       "\n",
       "                [[1.13331517e-01, 1.04562942e-01],\n",
       "                 [4.55173475e-01, 9.54452823e-01]]]],\n",
       "\n",
       "\n",
       "\n",
       "              [[[[4.31533342e-01, 5.13929610e-02],\n",
       "                 [3.98812574e-01, 3.97238303e-01]],\n",
       "\n",
       "                [[3.16235453e-01, 2.19855390e-01],\n",
       "                 [1.31284862e-01, 4.80667354e-01]]],\n",
       "\n",
       "\n",
       "               [[[7.26827869e-01, 5.89636828e-01],\n",
       "                 [4.81311324e-01, 1.11579713e-02]],\n",
       "\n",
       "                [[3.99895851e-01, 5.40860154e-02],\n",
       "                 [1.89226298e-01, 5.58590956e-01]]]]],\n",
       "\n",
       "\n",
       "\n",
       "\n",
       "             [[[[[4.28214850e-01, 1.76501531e-01],\n",
       "                 [8.60205195e-01, 4.99383048e-01]],\n",
       "\n",
       "                [[8.67605802e-01, 4.16626138e-01],\n",
       "                 [3.37428445e-01, 7.64247201e-01]]],\n",
       "\n",
       "\n",
       "               [[[9.91556476e-01, 2.67072964e-01],\n",
       "                 [7.71035899e-01, 7.00726824e-01]],\n",
       "\n",
       "                [[1.45215290e-01, 8.02449364e-01],\n",
       "                 [1.02806625e-02, 3.45407933e-01]]]],\n",
       "\n",
       "\n",
       "\n",
       "              [[[[5.24095561e-01, 3.98274666e-01],\n",
       "                 [2.89766689e-01, 2.30394609e-02]],\n",
       "\n",
       "                [[1.35236617e-01, 4.77862196e-01],\n",
       "                 [6.88015556e-01, 2.98723282e-01]]],\n",
       "\n",
       "\n",
       "               [[[8.52880463e-01, 2.49791885e-01],\n",
       "                 [9.31034500e-01, 8.45974444e-01]],\n",
       "\n",
       "                [[7.78788232e-01, 2.21280613e-01],\n",
       "                 [7.99990267e-02, 3.83018825e-01]]]]]]]],\n",
       "\n",
       "\n",
       "\n",
       "\n",
       "\n",
       "\n",
       "\n",
       "          [[[[[[[[7.58152522e-01, 5.25144569e-01],\n",
       "                 [4.03364799e-02, 8.84315903e-02]],\n",
       "\n",
       "                [[5.88968904e-01, 4.62993851e-01],\n",
       "                 [6.15370934e-01, 4.78541870e-01]]],\n",
       "\n",
       "\n",
       "               [[[2.43164151e-01, 4.89918352e-01],\n",
       "                 [8.88210384e-01, 3.59776194e-01]],\n",
       "\n",
       "                [[3.33364694e-02, 5.83505430e-01],\n",
       "                 [3.98143716e-01, 8.30449681e-01]]]],\n",
       "\n",
       "\n",
       "\n",
       "              [[[[7.23223424e-01, 2.95962389e-01],\n",
       "                 [6.15539286e-01, 9.70561461e-02]],\n",
       "\n",
       "                [[9.62010787e-01, 1.24089470e-01],\n",
       "                 [8.64661052e-01, 4.25176258e-01]]],\n",
       "\n",
       "\n",
       "               [[[4.51119887e-01, 5.17455832e-01],\n",
       "                 [1.97407499e-01, 7.47804035e-01]],\n",
       "\n",
       "                [[4.13762816e-01, 2.34744038e-01],\n",
       "                 [2.11864578e-01, 4.63731548e-01]]]]],\n",
       "\n",
       "\n",
       "\n",
       "\n",
       "             [[[[[3.64887864e-01, 9.63111966e-01],\n",
       "                 [1.22175796e-01, 1.40003173e-01]],\n",
       "\n",
       "                [[9.16754141e-01, 1.29661650e-01],\n",
       "                 [1.27865874e-01, 1.01079210e-01]]],\n",
       "\n",
       "\n",
       "               [[[3.52002623e-01, 7.89246403e-01],\n",
       "                 [5.63246159e-01, 2.92123467e-01]],\n",
       "\n",
       "                [[6.81007323e-01, 6.87404888e-01],\n",
       "                 [9.49138398e-01, 2.83651177e-01]]]],\n",
       "\n",
       "\n",
       "\n",
       "              [[[[9.99348946e-01, 2.34799665e-01],\n",
       "                 [8.46912030e-01, 5.11565649e-01]],\n",
       "\n",
       "                [[2.18840640e-01, 4.33221959e-01],\n",
       "                 [7.79846216e-01, 1.56253336e-01]]],\n",
       "\n",
       "\n",
       "               [[[7.75031446e-01, 2.97150173e-02],\n",
       "                 [9.81218963e-01, 2.72934632e-01]],\n",
       "\n",
       "                [[6.69043659e-02, 1.71273085e-01],\n",
       "                 [1.45579866e-01, 3.93573966e-01]]]]]],\n",
       "\n",
       "\n",
       "\n",
       "\n",
       "\n",
       "            [[[[[[1.39028207e-01, 5.12096732e-01],\n",
       "                 [5.18125342e-02, 7.98633129e-01]],\n",
       "\n",
       "                [[8.51534604e-01, 4.50507662e-01],\n",
       "                 [5.70329694e-01, 7.83634351e-01]]],\n",
       "\n",
       "\n",
       "               [[[6.29127122e-02, 9.79163564e-01],\n",
       "                 [4.56314774e-01, 1.76981193e-01]],\n",
       "\n",
       "                [[3.34119883e-01, 2.50300245e-01],\n",
       "                 [5.55601083e-01, 5.63458806e-01]]]],\n",
       "\n",
       "\n",
       "\n",
       "              [[[[8.16275674e-01, 7.42498283e-01],\n",
       "                 [7.78489051e-02, 6.78676509e-01]],\n",
       "\n",
       "                [[4.58842555e-01, 7.20165816e-01],\n",
       "                 [8.32202119e-02, 6.25944839e-01]]],\n",
       "\n",
       "\n",
       "               [[[5.09368546e-01, 2.25098337e-01],\n",
       "                 [8.96453979e-03, 6.04171338e-01]],\n",
       "\n",
       "                [[8.26576535e-01, 9.50464536e-01],\n",
       "                 [1.80704630e-01, 3.11607196e-01]]]]],\n",
       "\n",
       "\n",
       "\n",
       "\n",
       "             [[[[[3.64309814e-01, 2.30106595e-01],\n",
       "                 [4.71599285e-01, 3.08509822e-01]],\n",
       "\n",
       "                [[2.74680579e-01, 3.14501107e-01],\n",
       "                 [4.61827609e-01, 7.36410270e-01]]],\n",
       "\n",
       "\n",
       "               [[[2.72166695e-01, 3.86999926e-01],\n",
       "                 [2.11622344e-01, 1.43867974e-01]],\n",
       "\n",
       "                [[6.53885230e-01, 3.16268044e-01],\n",
       "                 [4.48500182e-01, 6.56015855e-01]]]],\n",
       "\n",
       "\n",
       "\n",
       "              [[[[7.38231902e-01, 7.20075981e-01],\n",
       "                 [6.72143351e-01, 7.73988493e-01]],\n",
       "\n",
       "                [[4.75194778e-01, 6.38850855e-01],\n",
       "                 [4.95359544e-01, 4.39441211e-01]]],\n",
       "\n",
       "\n",
       "               [[[6.09720311e-01, 9.59513827e-01],\n",
       "                 [8.19001703e-01, 6.02302336e-01]],\n",
       "\n",
       "                [[5.07407404e-01, 7.75960657e-01],\n",
       "                 [9.94976217e-01, 4.95632095e-01]]]]]]],\n",
       "\n",
       "\n",
       "\n",
       "\n",
       "\n",
       "\n",
       "           [[[[[[[6.16380167e-01, 9.93897989e-01],\n",
       "                 [4.09358101e-01, 9.02974965e-01]],\n",
       "\n",
       "                [[2.77539717e-01, 7.21392634e-01],\n",
       "                 [4.21430840e-01, 2.29185410e-01]]],\n",
       "\n",
       "\n",
       "               [[[9.75932898e-01, 9.13951316e-01],\n",
       "                 [5.36981803e-02, 9.90343672e-01]],\n",
       "\n",
       "                [[5.67930866e-01, 1.41118194e-01],\n",
       "                 [6.25344114e-01, 7.83684720e-01]]]],\n",
       "\n",
       "\n",
       "\n",
       "              [[[[9.68185747e-01, 9.51369200e-02],\n",
       "                 [3.10233658e-01, 7.99813657e-01]],\n",
       "\n",
       "                [[4.87758776e-01, 1.68739603e-01],\n",
       "                 [3.10711846e-01, 2.75572187e-01]]],\n",
       "\n",
       "\n",
       "               [[[6.35271877e-03, 5.51369680e-01],\n",
       "                 [1.58533492e-01, 2.75529790e-02]],\n",
       "\n",
       "                [[9.68605457e-01, 3.15632117e-01],\n",
       "                 [1.65472391e-01, 3.70289481e-01]]]]],\n",
       "\n",
       "\n",
       "\n",
       "\n",
       "             [[[[[7.79981024e-01, 7.55449946e-01],\n",
       "                 [9.41119513e-01, 6.29055405e-01]],\n",
       "\n",
       "                [[3.61881494e-01, 9.61873837e-01],\n",
       "                 [2.22426492e-01, 8.40858506e-02]]],\n",
       "\n",
       "\n",
       "               [[[4.90093991e-01, 7.33910356e-02],\n",
       "                 [6.59200004e-01, 5.45066346e-01]],\n",
       "\n",
       "                [[3.38633019e-01, 4.52161733e-02],\n",
       "                 [6.60151166e-01, 9.54075939e-01]]]],\n",
       "\n",
       "\n",
       "\n",
       "              [[[[5.93238791e-01, 2.17617595e-01],\n",
       "                 [1.27882293e-01, 9.26088486e-01]],\n",
       "\n",
       "                [[3.46427885e-01, 2.81399919e-01],\n",
       "                 [5.15932100e-01, 4.74084579e-01]]],\n",
       "\n",
       "\n",
       "               [[[6.69959727e-01, 2.15274604e-01],\n",
       "                 [3.37752169e-01, 3.82529219e-01]],\n",
       "\n",
       "                [[2.94632661e-01, 2.61617955e-01],\n",
       "                 [3.56470379e-01, 5.65804776e-01]]]]]],\n",
       "\n",
       "\n",
       "\n",
       "\n",
       "\n",
       "            [[[[[[4.02160084e-01, 8.94207890e-01],\n",
       "                 [1.98661562e-01, 8.82392045e-01]],\n",
       "\n",
       "                [[7.86627519e-02, 3.62706000e-01],\n",
       "                 [4.09853605e-01, 4.66798588e-01]]],\n",
       "\n",
       "\n",
       "               [[[5.16592985e-01, 7.86604149e-01],\n",
       "                 [5.92194274e-01, 5.22666703e-01]],\n",
       "\n",
       "                [[2.55158550e-01, 2.69100964e-01],\n",
       "                 [7.09756016e-01, 7.59258839e-01]]]],\n",
       "\n",
       "\n",
       "\n",
       "              [[[[6.18285460e-01, 9.34531435e-02],\n",
       "                 [5.34831933e-02, 6.42679344e-01]],\n",
       "\n",
       "                [[5.46533875e-01, 8.93283767e-01],\n",
       "                 [6.64418282e-01, 1.37434778e-01]]],\n",
       "\n",
       "\n",
       "               [[[4.81453499e-01, 6.33990007e-01],\n",
       "                 [1.82407959e-01, 3.48550083e-02]],\n",
       "\n",
       "                [[4.18351244e-01, 7.81600405e-02],\n",
       "                 [9.76380088e-01, 7.58817024e-01]]]]],\n",
       "\n",
       "\n",
       "\n",
       "\n",
       "             [[[[[4.39642745e-01, 2.81154550e-01],\n",
       "                 [7.43671876e-01, 8.55250534e-01]],\n",
       "\n",
       "                [[1.05054688e-01, 1.81922206e-01],\n",
       "                 [1.89040964e-01, 8.22012075e-01]]],\n",
       "\n",
       "\n",
       "               [[[7.26651221e-01, 6.02273366e-01],\n",
       "                 [8.11157815e-02, 1.39064743e-01]],\n",
       "\n",
       "                [[5.30415288e-01, 8.49130105e-01],\n",
       "                 [2.86501330e-01, 4.51186138e-01]]]],\n",
       "\n",
       "\n",
       "\n",
       "              [[[[9.20382993e-01, 8.23432916e-01],\n",
       "                 [8.89578839e-01, 9.66441735e-01]],\n",
       "\n",
       "                [[9.93667256e-01, 9.16247365e-01],\n",
       "                 [4.42608290e-01, 8.69358890e-01]]],\n",
       "\n",
       "\n",
       "               [[[2.55450406e-01, 8.88426633e-02],\n",
       "                 [2.23219251e-01, 6.49256051e-01]],\n",
       "\n",
       "                [[7.72935327e-01, 4.20165190e-01],\n",
       "                 [8.32742098e-01, 1.98167223e-01]]]]]]]]],\n",
       "\n",
       "\n",
       "\n",
       "\n",
       "\n",
       "\n",
       "\n",
       "\n",
       "         [[[[[[[[[2.01663977e-01, 7.07387664e-01],\n",
       "                 [8.69652404e-01, 3.84590948e-01]],\n",
       "\n",
       "                [[5.68303515e-01, 6.07681037e-01],\n",
       "                 [5.19179867e-02, 5.29803710e-02]]],\n",
       "\n",
       "\n",
       "               [[[7.53663905e-01, 1.58146383e-01],\n",
       "                 [5.93993939e-01, 6.28004605e-01]],\n",
       "\n",
       "                [[2.62877611e-01, 2.62016345e-01],\n",
       "                 [9.88962895e-01, 7.56541988e-01]]]],\n",
       "\n",
       "\n",
       "\n",
       "              [[[[4.67169182e-01, 8.61285825e-01],\n",
       "                 [4.36475288e-01, 1.53118715e-01]],\n",
       "\n",
       "                [[3.59795360e-01, 7.33031987e-01],\n",
       "                 [6.65706294e-01, 8.59523910e-01]]],\n",
       "\n",
       "\n",
       "               [[[4.94995443e-01, 2.87796473e-01],\n",
       "                 [8.81836900e-01, 6.64077609e-01]],\n",
       "\n",
       "                [[7.57920563e-01, 7.91327036e-01],\n",
       "                 [9.42646781e-01, 9.72588621e-01]]]]],\n",
       "\n",
       "\n",
       "\n",
       "\n",
       "             [[[[[6.14849896e-01, 8.83002920e-01],\n",
       "                 [1.42335389e-01, 8.55087346e-01]],\n",
       "\n",
       "                [[4.28421497e-01, 4.89375800e-01],\n",
       "                 [2.92042974e-03, 3.66235524e-01]]],\n",
       "\n",
       "\n",
       "               [[[2.83792903e-02, 1.99436779e-01],\n",
       "                 [4.03745522e-02, 3.58247642e-01]],\n",
       "\n",
       "                [[2.23378485e-01, 4.38126585e-02],\n",
       "                 [9.19850228e-01, 5.90831050e-01]]]],\n",
       "\n",
       "\n",
       "\n",
       "              [[[[4.60067360e-01, 4.82803755e-01],\n",
       "                 [1.31988676e-01, 4.56967349e-01]],\n",
       "\n",
       "                [[3.80518993e-01, 4.09167246e-01],\n",
       "                 [4.80972493e-01, 2.61103666e-01]]],\n",
       "\n",
       "\n",
       "               [[[3.03041406e-01, 8.48063414e-01],\n",
       "                 [2.41178916e-01, 4.19180475e-01]],\n",
       "\n",
       "                [[9.30201399e-01, 1.02984610e-01],\n",
       "                 [9.74789276e-01, 2.13834780e-01]]]]]],\n",
       "\n",
       "\n",
       "\n",
       "\n",
       "\n",
       "            [[[[[[6.27872509e-02, 3.94015995e-01],\n",
       "                 [7.87374802e-01, 7.03193976e-01]],\n",
       "\n",
       "                [[5.78374477e-01, 5.19208300e-01],\n",
       "                 [5.07464269e-01, 2.27245684e-01]]],\n",
       "\n",
       "\n",
       "               [[[1.81614297e-01, 7.98835613e-01],\n",
       "                 [3.37301232e-01, 8.11234026e-01]],\n",
       "\n",
       "                [[3.73087691e-02, 2.43133939e-01],\n",
       "                 [7.14721954e-01, 4.42416218e-01]]]],\n",
       "\n",
       "\n",
       "\n",
       "              [[[[8.01250859e-01, 2.73976831e-01],\n",
       "                 [7.43875731e-01, 6.64530492e-01]],\n",
       "\n",
       "                [[2.61672024e-01, 3.77650279e-01],\n",
       "                 [7.70161077e-01, 3.70427025e-01]]],\n",
       "\n",
       "\n",
       "               [[[9.87159722e-01, 4.64107223e-01],\n",
       "                 [6.92724348e-01, 5.88202692e-01]],\n",
       "\n",
       "                [[7.55024445e-01, 9.16305225e-01],\n",
       "                 [6.12777849e-01, 1.61085085e-01]]]]],\n",
       "\n",
       "\n",
       "\n",
       "\n",
       "             [[[[[9.50880046e-01, 5.22319269e-01],\n",
       "                 [4.51377625e-01, 4.65402743e-02]],\n",
       "\n",
       "                [[9.99484048e-01, 5.35727093e-01],\n",
       "                 [1.94319384e-01, 3.71513375e-01]]],\n",
       "\n",
       "\n",
       "               [[[6.21902169e-01, 5.72749196e-01],\n",
       "                 [2.49072360e-01, 9.19261836e-01]],\n",
       "\n",
       "                [[7.24490114e-01, 4.50620864e-02],\n",
       "                 [3.14506341e-01, 2.83641715e-01]]]],\n",
       "\n",
       "\n",
       "\n",
       "              [[[[4.61575627e-01, 9.89795537e-01],\n",
       "                 [3.49469479e-01, 9.30501095e-02]],\n",
       "\n",
       "                [[5.38447848e-01, 2.96805461e-01],\n",
       "                 [9.87768221e-01, 3.73369164e-01]]],\n",
       "\n",
       "\n",
       "               [[[7.40026881e-01, 2.49109192e-01],\n",
       "                 [5.45232672e-01, 9.81535108e-01]],\n",
       "\n",
       "                [[5.02613077e-01, 6.29522863e-02],\n",
       "                 [7.42604603e-01, 7.58216836e-01]]]]]]],\n",
       "\n",
       "\n",
       "\n",
       "\n",
       "\n",
       "\n",
       "           [[[[[[[9.72321456e-02, 9.59839444e-01],\n",
       "                 [4.89973051e-01, 9.42918115e-01]],\n",
       "\n",
       "                [[1.14707665e-01, 9.63382284e-01],\n",
       "                 [6.46762489e-01, 8.01687925e-01]]],\n",
       "\n",
       "\n",
       "               [[[4.95570331e-01, 7.68056125e-01],\n",
       "                 [7.61924071e-01, 8.04791491e-01]],\n",
       "\n",
       "                [[5.87256617e-01, 5.91110982e-01],\n",
       "                 [1.32935069e-01, 7.88063658e-02]]]],\n",
       "\n",
       "\n",
       "\n",
       "              [[[[2.27639375e-01, 4.64702651e-02],\n",
       "                 [4.11206196e-01, 8.31153818e-01]],\n",
       "\n",
       "                [[8.39251204e-01, 7.01412609e-01],\n",
       "                 [9.58094048e-01, 3.27374555e-01]]],\n",
       "\n",
       "\n",
       "               [[[1.13671670e-01, 4.52402394e-01],\n",
       "                 [9.67787009e-01, 2.26100467e-01]],\n",
       "\n",
       "                [[8.22526120e-01, 3.64763028e-01],\n",
       "                 [3.21384712e-01, 3.20095921e-01]]]]],\n",
       "\n",
       "\n",
       "\n",
       "\n",
       "             [[[[[5.48926644e-01, 3.63426791e-01],\n",
       "                 [9.81510940e-01, 2.64837197e-01]],\n",
       "\n",
       "                [[1.21611349e-01, 8.85783261e-01],\n",
       "                 [2.51263398e-01, 4.03460253e-01]]],\n",
       "\n",
       "\n",
       "               [[[6.58852836e-01, 5.55437725e-02],\n",
       "                 [8.17609297e-01, 6.62569232e-01]],\n",
       "\n",
       "                [[5.41823896e-01, 7.34370207e-01],\n",
       "                 [9.61970903e-01, 7.20299974e-01]]]],\n",
       "\n",
       "\n",
       "\n",
       "              [[[[7.63089842e-01, 2.56706454e-01],\n",
       "                 [8.32644322e-01, 3.49803642e-01]],\n",
       "\n",
       "                [[5.36024854e-01, 2.85897266e-02],\n",
       "                 [9.06540396e-01, 7.13380859e-01]]],\n",
       "\n",
       "\n",
       "               [[[9.45990578e-01, 5.91033786e-01],\n",
       "                 [8.95628537e-01, 5.15461107e-02]],\n",
       "\n",
       "                [[7.52240119e-01, 2.03289508e-01],\n",
       "                 [8.72183895e-01, 4.28918744e-01]]]]]],\n",
       "\n",
       "\n",
       "\n",
       "\n",
       "\n",
       "            [[[[[[5.42675787e-01, 9.40984549e-02],\n",
       "                 [1.21389304e-01, 1.64893198e-01]],\n",
       "\n",
       "                [[4.13071990e-01, 1.33525352e-01],\n",
       "                 [8.69037655e-02, 2.61013322e-01]]],\n",
       "\n",
       "\n",
       "               [[[3.93153481e-01, 9.62869402e-01],\n",
       "                 [9.11473789e-01, 4.73586994e-01]],\n",
       "\n",
       "                [[4.50342992e-01, 4.22399006e-01],\n",
       "                 [2.04295241e-01, 4.81713830e-01]]]],\n",
       "\n",
       "\n",
       "\n",
       "              [[[[5.40551416e-02, 6.22805020e-01],\n",
       "                 [3.59465427e-01, 5.68303455e-01]],\n",
       "\n",
       "                [[8.46921028e-01, 1.77868935e-01],\n",
       "                 [2.40876783e-01, 1.57507922e-01]]],\n",
       "\n",
       "\n",
       "               [[[4.96748384e-01, 3.31052515e-01],\n",
       "                 [8.90517802e-01, 3.36981985e-01]],\n",
       "\n",
       "                [[3.34789463e-01, 6.37087187e-01],\n",
       "                 [5.38910805e-01, 6.20373705e-01]]]]],\n",
       "\n",
       "\n",
       "\n",
       "\n",
       "             [[[[[9.54233635e-01, 8.43055142e-01],\n",
       "                 [5.09673703e-01, 3.19744225e-01]],\n",
       "\n",
       "                [[7.72249161e-01, 7.90801869e-01],\n",
       "                 [3.61823939e-01, 8.40999662e-01]]],\n",
       "\n",
       "\n",
       "               [[[6.09212071e-01, 1.85001458e-01],\n",
       "                 [6.88265826e-01, 1.37786125e-01]],\n",
       "\n",
       "                [[6.51155499e-02, 1.02432073e-01],\n",
       "                 [8.69594895e-01, 8.61208299e-01]]]],\n",
       "\n",
       "\n",
       "\n",
       "              [[[[3.55952080e-01, 1.68274331e-01],\n",
       "                 [9.69249145e-01, 4.53541105e-01]],\n",
       "\n",
       "                [[7.45324387e-01, 5.17004312e-01],\n",
       "                 [9.44031557e-01, 9.00831887e-01]]],\n",
       "\n",
       "\n",
       "               [[[8.82004392e-02, 4.47793046e-01],\n",
       "                 [8.94561147e-01, 5.31324708e-01]],\n",
       "\n",
       "                [[1.51672230e-01, 9.03296962e-01],\n",
       "                 [1.50093186e-01, 4.29613353e-01]]]]]]]],\n",
       "\n",
       "\n",
       "\n",
       "\n",
       "\n",
       "\n",
       "\n",
       "          [[[[[[[[5.21051055e-01, 4.39005441e-01],\n",
       "                 [6.34902652e-02, 1.10796796e-01]],\n",
       "\n",
       "                [[9.53365317e-01, 3.79366428e-01],\n",
       "                 [3.79855143e-01, 7.57454474e-02]]],\n",
       "\n",
       "\n",
       "               [[[8.25302752e-01, 9.76781950e-01],\n",
       "                 [7.16451531e-01, 7.44016177e-01]],\n",
       "\n",
       "                [[8.10418753e-01, 8.03409493e-02],\n",
       "                 [5.49099325e-01, 6.38411617e-01]]]],\n",
       "\n",
       "\n",
       "\n",
       "              [[[[2.02845451e-01, 7.97233361e-01],\n",
       "                 [8.84269200e-01, 8.16916279e-01]],\n",
       "\n",
       "                [[5.38472183e-01, 9.79494866e-01],\n",
       "                 [3.55614964e-01, 5.27797889e-01]]],\n",
       "\n",
       "\n",
       "               [[[7.05727419e-01, 8.62437723e-01],\n",
       "                 [5.92239790e-01, 9.03733247e-01]],\n",
       "\n",
       "                [[5.37462629e-01, 4.86857953e-01],\n",
       "                 [7.13283149e-01, 3.39229157e-01]]]]],\n",
       "\n",
       "\n",
       "\n",
       "\n",
       "             [[[[[9.66097114e-01, 7.92772762e-02],\n",
       "                 [4.96209470e-01, 2.01449542e-01]],\n",
       "\n",
       "                [[5.34956016e-01, 9.91367097e-02],\n",
       "                 [1.16715158e-01, 1.49405164e-01]]],\n",
       "\n",
       "\n",
       "               [[[7.64417644e-01, 7.22893052e-01],\n",
       "                 [4.51230539e-01, 1.07061885e-01]],\n",
       "\n",
       "                [[6.49596179e-01, 2.47517522e-01],\n",
       "                 [4.40864430e-01, 7.73298800e-01]]]],\n",
       "\n",
       "\n",
       "\n",
       "              [[[[8.35348505e-01, 6.15956212e-01],\n",
       "                 [6.52840807e-01, 6.14621810e-01]],\n",
       "\n",
       "                [[6.87713277e-01, 7.40019000e-01],\n",
       "                 [1.11968630e-01, 3.61272115e-01]]],\n",
       "\n",
       "\n",
       "               [[[4.30846763e-02, 6.06139539e-01],\n",
       "                 [4.44016899e-01, 7.69538395e-01]],\n",
       "\n",
       "                [[7.72640087e-01, 3.35576097e-01],\n",
       "                 [1.40732520e-01, 2.58545237e-01]]]]]],\n",
       "\n",
       "\n",
       "\n",
       "\n",
       "\n",
       "            [[[[[[9.39178131e-01, 7.37360459e-01],\n",
       "                 [1.44516759e-01, 3.04563406e-01]],\n",
       "\n",
       "                [[2.85401257e-01, 9.02201385e-01],\n",
       "                 [9.69489201e-01, 4.81586785e-01]]],\n",
       "\n",
       "\n",
       "               [[[7.05900634e-01, 3.43258770e-03],\n",
       "                 [9.54607378e-01, 3.12238821e-01]],\n",
       "\n",
       "                [[1.48776723e-01, 8.90363457e-01],\n",
       "                 [4.31590751e-01, 5.40701759e-01]]]],\n",
       "\n",
       "\n",
       "\n",
       "              [[[[8.13663980e-01, 6.93867891e-01],\n",
       "                 [8.33480520e-01, 2.40604582e-01]],\n",
       "\n",
       "                [[7.87538693e-01, 9.15818966e-01],\n",
       "                 [1.84220744e-01, 2.36357084e-01]]],\n",
       "\n",
       "\n",
       "               [[[5.95080958e-01, 5.23475867e-01],\n",
       "                 [3.87822097e-02, 8.04974331e-02]],\n",
       "\n",
       "                [[1.91799549e-01, 3.11359856e-01],\n",
       "                 [3.25537293e-01, 5.09991550e-01]]]]],\n",
       "\n",
       "\n",
       "\n",
       "\n",
       "             [[[[[5.12749331e-01, 4.84289538e-01],\n",
       "                 [1.44930911e-01, 6.09728656e-01]],\n",
       "\n",
       "                [[4.04307206e-01, 8.89245276e-01],\n",
       "                 [3.24943504e-01, 4.59222970e-01]]],\n",
       "\n",
       "\n",
       "               [[[7.66028372e-01, 9.96364568e-01],\n",
       "                 [5.18780132e-01, 4.09424543e-01]],\n",
       "\n",
       "                [[9.36600460e-03, 5.16655551e-01],\n",
       "                 [9.22262791e-01, 1.06656619e-01]]]],\n",
       "\n",
       "\n",
       "\n",
       "              [[[[8.29813996e-02, 4.77387984e-01],\n",
       "                 [7.32204702e-01, 4.73685546e-01]],\n",
       "\n",
       "                [[3.36022943e-01, 5.57729424e-01],\n",
       "                 [5.29655543e-01, 9.87693048e-03]]],\n",
       "\n",
       "\n",
       "               [[[5.56279200e-01, 7.02980319e-01],\n",
       "                 [3.81555330e-01, 8.11364510e-01]],\n",
       "\n",
       "                [[5.77623916e-01, 8.89157579e-01],\n",
       "                 [3.03747657e-01, 1.09267169e-01]]]]]]],\n",
       "\n",
       "\n",
       "\n",
       "\n",
       "\n",
       "\n",
       "           [[[[[[[6.99080737e-01, 2.57327794e-01],\n",
       "                 [5.19421726e-01, 8.20357682e-01]],\n",
       "\n",
       "                [[7.63120754e-01, 7.39914271e-01],\n",
       "                 [8.28512616e-01, 8.24721731e-01]]],\n",
       "\n",
       "\n",
       "               [[[8.36084139e-01, 4.35502595e-01],\n",
       "                 [6.50204526e-01, 2.07106935e-01]],\n",
       "\n",
       "                [[1.36039984e-01, 1.67188292e-01],\n",
       "                 [7.52791188e-01, 4.52378990e-01]]]],\n",
       "\n",
       "\n",
       "\n",
       "              [[[[5.59163469e-01, 6.95316571e-01],\n",
       "                 [7.58272227e-02, 2.79940427e-01]],\n",
       "\n",
       "                [[1.35379504e-01, 1.86598086e-01],\n",
       "                 [8.53642283e-01, 7.55963600e-01]]],\n",
       "\n",
       "\n",
       "               [[[8.37738328e-01, 2.27372516e-01],\n",
       "                 [3.52381971e-01, 7.40962705e-01]],\n",
       "\n",
       "                [[5.83767977e-01, 8.59570599e-01],\n",
       "                 [4.75577722e-01, 8.41915423e-01]]]]],\n",
       "\n",
       "\n",
       "\n",
       "\n",
       "             [[[[[7.10754970e-01, 7.96523759e-01],\n",
       "                 [4.97176584e-01, 1.16062956e-01]],\n",
       "\n",
       "                [[9.51425281e-01, 1.52399053e-01],\n",
       "                 [1.13303208e-01, 8.16428252e-01]]],\n",
       "\n",
       "\n",
       "               [[[7.64837019e-01, 7.78505409e-01],\n",
       "                 [8.04370426e-01, 6.16170914e-01]],\n",
       "\n",
       "                [[3.49605951e-01, 8.96822760e-01],\n",
       "                 [1.34120143e-01, 7.52423750e-01]]]],\n",
       "\n",
       "\n",
       "\n",
       "              [[[[4.90816471e-01, 1.63022411e-03],\n",
       "                 [3.58822888e-01, 7.75606938e-01]],\n",
       "\n",
       "                [[8.68352989e-01, 3.10161568e-01],\n",
       "                 [5.93834496e-01, 7.44359219e-01]]],\n",
       "\n",
       "\n",
       "               [[[7.65143939e-01, 9.48405651e-01],\n",
       "                 [4.75862620e-02, 3.14907392e-01]],\n",
       "\n",
       "                [[7.26148245e-01, 6.26297119e-01],\n",
       "                 [3.74828574e-01, 6.65163915e-01]]]]]],\n",
       "\n",
       "\n",
       "\n",
       "\n",
       "\n",
       "            [[[[[[4.09990291e-01, 5.60538901e-01],\n",
       "                 [8.46396278e-01, 4.19649742e-01]],\n",
       "\n",
       "                [[7.11006962e-01, 3.82609733e-01],\n",
       "                 [2.84563134e-01, 9.57893225e-01]]],\n",
       "\n",
       "\n",
       "               [[[9.81594047e-01, 4.63773267e-01],\n",
       "                 [7.63980386e-02, 4.19331525e-01]],\n",
       "\n",
       "                [[7.18159489e-01, 5.90443224e-01],\n",
       "                 [7.50134573e-01, 7.68715678e-01]]]],\n",
       "\n",
       "\n",
       "\n",
       "              [[[[4.95294745e-01, 2.12647368e-01],\n",
       "                 [6.70310443e-01, 6.60504526e-01]],\n",
       "\n",
       "                [[7.33172395e-01, 9.01029693e-01],\n",
       "                 [6.43294636e-01, 6.87310622e-02]]],\n",
       "\n",
       "\n",
       "               [[[2.65301447e-01, 4.50115234e-01],\n",
       "                 [6.88057198e-01, 8.24442768e-01]],\n",
       "\n",
       "                [[8.87208633e-01, 6.22651531e-01],\n",
       "                 [4.36857628e-01, 4.28001497e-01]]]]],\n",
       "\n",
       "\n",
       "\n",
       "\n",
       "             [[[[[7.54193651e-02, 1.71583936e-01],\n",
       "                 [7.30912007e-01, 1.42558385e-01]],\n",
       "\n",
       "                [[8.62495390e-01, 6.32692490e-01],\n",
       "                 [4.43220729e-01, 2.45042949e-01]]],\n",
       "\n",
       "\n",
       "               [[[7.51171168e-03, 1.47895142e-01],\n",
       "                 [6.52002769e-03, 5.34473783e-01]],\n",
       "\n",
       "                [[6.25270529e-01, 7.69995892e-01],\n",
       "                 [1.51660924e-01, 9.17732857e-01]]]],\n",
       "\n",
       "\n",
       "\n",
       "              [[[[9.12449753e-01, 4.43260616e-01],\n",
       "                 [9.53342773e-02, 2.17792970e-01]],\n",
       "\n",
       "                [[3.04383576e-01, 9.70120822e-01],\n",
       "                 [1.48729861e-01, 1.97190324e-01]]],\n",
       "\n",
       "\n",
       "               [[[6.37886247e-01, 4.91424640e-01],\n",
       "                 [6.09177536e-01, 4.89525405e-03]],\n",
       "\n",
       "                [[3.16702236e-03, 8.49088964e-01],\n",
       "                 [2.96509422e-01, 2.79178674e-01]]]]]]]]]],\n",
       "\n",
       "\n",
       "\n",
       "\n",
       "\n",
       "\n",
       "\n",
       "\n",
       "\n",
       "        [[[[[[[[[[2.18183338e-01, 8.95975998e-01],\n",
       "                 [3.59562879e-01, 3.21845887e-01]],\n",
       "\n",
       "                [[6.57884098e-01, 4.64755324e-01],\n",
       "                 [5.07098062e-01, 3.19549680e-01]]],\n",
       "\n",
       "\n",
       "               [[[2.50471781e-01, 8.89393539e-01],\n",
       "                 [4.33171706e-01, 8.58756646e-01]],\n",
       "\n",
       "                [[9.43722003e-01, 6.48357048e-01],\n",
       "                 [6.29711825e-01, 6.66268798e-01]]]],\n",
       "\n",
       "\n",
       "\n",
       "              [[[[4.39949801e-01, 3.55735537e-01],\n",
       "                 [2.58028385e-01, 3.97312701e-01]],\n",
       "\n",
       "                [[1.86300291e-01, 7.97877891e-01],\n",
       "                 [5.33118161e-01, 2.86356530e-01]]],\n",
       "\n",
       "\n",
       "               [[[8.64405409e-02, 5.08510636e-01],\n",
       "                 [5.19050280e-01, 8.37431500e-02]],\n",
       "\n",
       "                [[5.05663696e-01, 2.81039152e-01],\n",
       "                 [2.08835975e-01, 1.96919845e-01]]]]],\n",
       "\n",
       "\n",
       "\n",
       "\n",
       "             [[[[[3.24017574e-02, 2.24650930e-01],\n",
       "                 [6.49539480e-01, 2.38103844e-01]],\n",
       "\n",
       "                [[3.32442925e-01, 9.21984304e-01],\n",
       "                 [2.23743114e-01, 9.15636590e-01]]],\n",
       "\n",
       "\n",
       "               [[[5.25145554e-01, 1.28512375e-01],\n",
       "                 [4.29993090e-01, 8.78820505e-01]],\n",
       "\n",
       "                [[6.04654276e-02, 7.51530354e-01],\n",
       "                 [9.23063631e-01, 7.51628541e-01]]]],\n",
       "\n",
       "\n",
       "\n",
       "              [[[[4.16656713e-01, 9.23000766e-01],\n",
       "                 [3.01082743e-01, 5.14317024e-01]],\n",
       "\n",
       "                [[8.96050669e-01, 7.18489602e-01],\n",
       "                 [9.97756746e-01, 2.47044679e-01]]],\n",
       "\n",
       "\n",
       "               [[[1.28163280e-01, 3.07133282e-01],\n",
       "                 [6.92974181e-02, 6.37289791e-01]],\n",
       "\n",
       "                [[4.88046468e-01, 4.13025897e-02],\n",
       "                 [6.51979901e-02, 6.26457430e-01]]]]]],\n",
       "\n",
       "\n",
       "\n",
       "\n",
       "\n",
       "            [[[[[[8.50903913e-01, 4.70793891e-01],\n",
       "                 [8.78703804e-01, 9.28034802e-01]],\n",
       "\n",
       "                [[5.57815757e-01, 2.92303230e-01],\n",
       "                 [7.42329215e-01, 7.19302975e-01]]],\n",
       "\n",
       "\n",
       "               [[[1.79312028e-02, 9.20426978e-01],\n",
       "                 [2.08159354e-01, 2.53975855e-01]],\n",
       "\n",
       "                [[9.65948828e-01, 4.00310460e-01],\n",
       "                 [3.48125278e-01, 8.57988736e-01]]]],\n",
       "\n",
       "\n",
       "\n",
       "              [[[[4.17913178e-01, 9.21122083e-01],\n",
       "                 [2.24664981e-01, 2.79731720e-01]],\n",
       "\n",
       "                [[6.05657944e-01, 9.81177439e-01],\n",
       "                 [5.71679434e-01, 9.94863077e-01]]],\n",
       "\n",
       "\n",
       "               [[[8.34865278e-01, 8.46870632e-01],\n",
       "                 [8.07254844e-01, 1.79435160e-01]],\n",
       "\n",
       "                [[8.00807147e-01, 7.95802105e-01],\n",
       "                 [6.84161263e-01, 1.73313729e-01]]]]],\n",
       "\n",
       "\n",
       "\n",
       "\n",
       "             [[[[[2.71827385e-01, 8.07073233e-01],\n",
       "                 [1.23654238e-01, 8.88860034e-02]],\n",
       "\n",
       "                [[3.54526248e-01, 3.21865326e-01],\n",
       "                 [8.07962419e-01, 2.02054273e-01]]],\n",
       "\n",
       "\n",
       "               [[[9.94183833e-01, 9.47457111e-01],\n",
       "                 [2.28147709e-01, 1.18628043e-01]],\n",
       "\n",
       "                [[3.89434119e-01, 6.59331439e-01],\n",
       "                 [5.27176157e-01, 6.58121224e-01]]]],\n",
       "\n",
       "\n",
       "\n",
       "              [[[[2.18499459e-01, 8.05774844e-01],\n",
       "                 [9.65154041e-01, 4.25913554e-01]],\n",
       "\n",
       "                [[6.27006279e-01, 3.62758492e-01],\n",
       "                 [1.74181267e-01, 3.65711038e-02]]],\n",
       "\n",
       "\n",
       "               [[[6.68248473e-01, 3.78735827e-01],\n",
       "                 [4.25492165e-01, 6.98526705e-01]],\n",
       "\n",
       "                [[4.86243758e-01, 8.57664439e-01],\n",
       "                 [5.43202009e-02, 4.89745796e-01]]]]]]],\n",
       "\n",
       "\n",
       "\n",
       "\n",
       "\n",
       "\n",
       "           [[[[[[[3.09641020e-01, 9.57263987e-02],\n",
       "                 [9.49610446e-01, 3.75286281e-01]],\n",
       "\n",
       "                [[8.55465678e-02, 1.23792571e-01],\n",
       "                 [2.89542983e-01, 7.17992193e-01]]],\n",
       "\n",
       "\n",
       "               [[[2.19514803e-01, 1.37862710e-01],\n",
       "                 [8.68257413e-02, 5.30422781e-02]],\n",
       "\n",
       "                [[8.44625911e-01, 4.22158923e-01],\n",
       "                 [9.92690727e-02, 1.65819220e-01]]]],\n",
       "\n",
       "\n",
       "\n",
       "              [[[[1.17426123e-02, 1.72122272e-01],\n",
       "                 [3.20677236e-01, 1.47009045e-01]],\n",
       "\n",
       "                [[3.65881227e-01, 3.81475406e-01],\n",
       "                 [8.96509097e-01, 9.19017981e-01]]],\n",
       "\n",
       "\n",
       "               [[[9.68002377e-01, 6.42881448e-01],\n",
       "                 [4.25414120e-01, 9.96132252e-02]],\n",
       "\n",
       "                [[6.02846544e-01, 2.98302282e-01],\n",
       "                 [3.18610771e-01, 4.46943202e-01]]]]],\n",
       "\n",
       "\n",
       "\n",
       "\n",
       "             [[[[[8.39024415e-01, 3.90091806e-01],\n",
       "                 [5.45762952e-01, 8.69333784e-03]],\n",
       "\n",
       "                [[2.87343237e-01, 8.72896773e-01],\n",
       "                 [5.63757323e-01, 5.72956350e-01]]],\n",
       "\n",
       "\n",
       "               [[[2.10251173e-01, 6.09530727e-01],\n",
       "                 [8.67964312e-01, 4.30007163e-01]],\n",
       "\n",
       "                [[3.47405193e-01, 1.98519795e-01],\n",
       "                 [2.76171432e-01, 2.94998855e-01]]]],\n",
       "\n",
       "\n",
       "\n",
       "              [[[[5.45559440e-01, 2.08511070e-01],\n",
       "                 [7.20274159e-01, 4.26053571e-02]],\n",
       "\n",
       "                [[2.81831978e-01, 9.54157662e-01],\n",
       "                 [2.77287963e-01, 3.49228610e-01]]],\n",
       "\n",
       "\n",
       "               [[[7.63299144e-02, 4.92520523e-01],\n",
       "                 [4.31943201e-02, 8.69028479e-01]],\n",
       "\n",
       "                [[8.37072108e-02, 8.40585151e-01],\n",
       "                 [2.19262132e-01, 1.26493152e-01]]]]]],\n",
       "\n",
       "\n",
       "\n",
       "\n",
       "\n",
       "            [[[[[[5.77022816e-01, 2.37896553e-01],\n",
       "                 [6.07925957e-01, 3.52814324e-01]],\n",
       "\n",
       "                [[5.89396216e-01, 6.96037938e-01],\n",
       "                 [6.95198534e-01, 9.04410135e-01]]],\n",
       "\n",
       "\n",
       "               [[[4.92042492e-01, 2.01411367e-01],\n",
       "                 [8.23293430e-01, 2.35233435e-01]],\n",
       "\n",
       "                [[8.61810699e-01, 6.60544136e-01],\n",
       "                 [3.73211448e-01, 1.94990406e-01]]]],\n",
       "\n",
       "\n",
       "\n",
       "              [[[[6.15418336e-01, 7.68786304e-01],\n",
       "                 [6.38196180e-01, 9.68640947e-01]],\n",
       "\n",
       "                [[6.00721555e-01, 4.13450325e-01],\n",
       "                 [9.55575833e-01, 2.95592606e-01]]],\n",
       "\n",
       "\n",
       "               [[[8.52316132e-01, 2.47950863e-01],\n",
       "                 [5.93107614e-03, 9.23047984e-01]],\n",
       "\n",
       "                [[5.98726313e-01, 4.68386539e-01],\n",
       "                 [5.83570391e-01, 7.10229064e-01]]]]],\n",
       "\n",
       "\n",
       "\n",
       "\n",
       "             [[[[[1.50228233e-01, 6.92212221e-01],\n",
       "                 [3.86109648e-01, 2.23826803e-01]],\n",
       "\n",
       "                [[9.43644215e-01, 6.41115314e-01],\n",
       "                 [3.67452980e-01, 1.80586566e-01]]],\n",
       "\n",
       "\n",
       "               [[[4.83259191e-01, 3.48343173e-01],\n",
       "                 [5.37835463e-01, 5.55829343e-01]],\n",
       "\n",
       "                [[7.91275000e-01, 1.40323786e-01],\n",
       "                 [3.89797740e-01, 9.75708617e-03]]]],\n",
       "\n",
       "\n",
       "\n",
       "              [[[[3.62741301e-01, 2.96247188e-01],\n",
       "                 [9.06808403e-01, 2.21039043e-01]],\n",
       "\n",
       "                [[7.61562647e-01, 8.15904591e-01],\n",
       "                 [5.44139139e-01, 1.50665769e-01]]],\n",
       "\n",
       "\n",
       "               [[[4.86839505e-01, 5.94701962e-01],\n",
       "                 [7.33942936e-01, 1.64465160e-01]],\n",
       "\n",
       "                [[3.50467470e-01, 3.56973354e-01],\n",
       "                 [9.98110554e-01, 4.09545891e-01]]]]]]]],\n",
       "\n",
       "\n",
       "\n",
       "\n",
       "\n",
       "\n",
       "\n",
       "          [[[[[[[[2.85281414e-01, 1.16103502e-01],\n",
       "                 [3.94581188e-01, 7.10712103e-02]],\n",
       "\n",
       "                [[9.35371146e-01, 8.97361905e-01],\n",
       "                 [4.55692167e-01, 3.05402148e-01]]],\n",
       "\n",
       "\n",
       "               [[[3.74849866e-01, 2.16991495e-01],\n",
       "                 [6.78559752e-01, 6.62920953e-01]],\n",
       "\n",
       "                [[9.37436989e-01, 3.65045248e-02],\n",
       "                 [2.45147330e-01, 7.69700349e-01]]]],\n",
       "\n",
       "\n",
       "\n",
       "              [[[[2.90952081e-01, 4.02978470e-01],\n",
       "                 [5.90014183e-01, 9.62676278e-02]],\n",
       "\n",
       "                [[9.77507382e-01, 7.77844335e-01],\n",
       "                 [5.93644421e-01, 6.33057879e-02]]],\n",
       "\n",
       "\n",
       "               [[[7.49094333e-02, 5.66788397e-01],\n",
       "                 [3.02814700e-01, 1.19453112e-01]],\n",
       "\n",
       "                [[8.53471155e-01, 4.29393453e-02],\n",
       "                 [9.19025698e-01, 3.12445165e-01]]]]],\n",
       "\n",
       "\n",
       "\n",
       "\n",
       "             [[[[[7.55996923e-01, 1.58222387e-01],\n",
       "                 [5.14602350e-01, 6.45124590e-01]],\n",
       "\n",
       "                [[1.19737376e-01, 6.13634788e-01],\n",
       "                 [7.46222602e-01, 7.67113654e-01]]],\n",
       "\n",
       "\n",
       "               [[[3.73341200e-01, 7.51658701e-01],\n",
       "                 [7.82782692e-01, 2.08331926e-02]],\n",
       "\n",
       "                [[2.57386464e-01, 1.90039336e-01],\n",
       "                 [7.78214290e-01, 4.89196071e-01]]]],\n",
       "\n",
       "\n",
       "\n",
       "              [[[[8.77355948e-02, 3.22935456e-01],\n",
       "                 [4.28048725e-01, 5.01422386e-01]],\n",
       "\n",
       "                [[9.73428198e-01, 5.75473790e-01],\n",
       "                 [1.39126189e-01, 8.58354478e-01]]],\n",
       "\n",
       "\n",
       "               [[[6.35879729e-01, 8.45204900e-02],\n",
       "                 [9.50858666e-02, 9.95396801e-01]],\n",
       "\n",
       "                [[1.16504055e-01, 3.69999527e-01],\n",
       "                 [9.12017773e-01, 3.87083823e-01]]]]]],\n",
       "\n",
       "\n",
       "\n",
       "\n",
       "\n",
       "            [[[[[[3.68492771e-01, 9.68663649e-01],\n",
       "                 [9.77038974e-01, 6.89753650e-01]],\n",
       "\n",
       "                [[7.17546779e-01, 5.47121867e-01],\n",
       "                 [7.85787363e-01, 4.93606786e-01]]],\n",
       "\n",
       "\n",
       "               [[[5.16567481e-02, 9.11621232e-01],\n",
       "                 [6.66228480e-01, 7.97461440e-01]],\n",
       "\n",
       "                [[6.03589624e-01, 5.68356345e-01],\n",
       "                 [6.63046595e-01, 5.59245031e-02]]]],\n",
       "\n",
       "\n",
       "\n",
       "              [[[[1.44822487e-01, 3.24212210e-01],\n",
       "                 [7.07611419e-01, 1.57037349e-01]],\n",
       "\n",
       "                [[4.49978164e-01, 6.47866726e-01],\n",
       "                 [4.20143198e-01, 9.58041286e-01]]],\n",
       "\n",
       "\n",
       "               [[[4.57487433e-01, 6.10494312e-01],\n",
       "                 [5.32308862e-01, 7.21444858e-01]],\n",
       "\n",
       "                [[8.27397444e-01, 1.79694076e-01],\n",
       "                 [4.73862081e-01, 6.49524090e-01]]]]],\n",
       "\n",
       "\n",
       "\n",
       "\n",
       "             [[[[[7.01328138e-01, 7.78869398e-01],\n",
       "                 [3.90593144e-01, 7.03635417e-01]],\n",
       "\n",
       "                [[8.25533191e-01, 3.19539680e-01],\n",
       "                 [2.88046380e-01, 2.95365181e-02]]],\n",
       "\n",
       "\n",
       "               [[[8.90018673e-01, 7.08875989e-01],\n",
       "                 [9.55809892e-01, 4.97126306e-01]],\n",
       "\n",
       "                [[4.98648242e-01, 1.33333436e-02],\n",
       "                 [4.87413858e-01, 9.14402636e-01]]]],\n",
       "\n",
       "\n",
       "\n",
       "              [[[[6.37089392e-01, 4.74827999e-01],\n",
       "                 [8.29675335e-01, 9.89479112e-01]],\n",
       "\n",
       "                [[4.99182665e-01, 8.41885625e-02],\n",
       "                 [2.75100211e-01, 7.33639186e-01]]],\n",
       "\n",
       "\n",
       "               [[[8.53157588e-02, 2.35064361e-01],\n",
       "                 [8.45462716e-01, 9.02049437e-01]],\n",
       "\n",
       "                [[3.41629743e-01, 1.42468943e-01],\n",
       "                 [7.38533387e-01, 7.10373559e-01]]]]]]],\n",
       "\n",
       "\n",
       "\n",
       "\n",
       "\n",
       "\n",
       "           [[[[[[[9.47462250e-01, 3.69090215e-01],\n",
       "                 [1.86803637e-01, 5.42396926e-01]],\n",
       "\n",
       "                [[1.08838576e-01, 7.10513157e-01],\n",
       "                 [2.76197204e-01, 2.27911703e-01]]],\n",
       "\n",
       "\n",
       "               [[[4.48485831e-01, 9.09841945e-01],\n",
       "                 [7.55726153e-01, 1.98548544e-01]],\n",
       "\n",
       "                [[8.60782783e-01, 7.34585760e-01],\n",
       "                 [3.94645828e-01, 6.85523123e-01]]]],\n",
       "\n",
       "\n",
       "\n",
       "              [[[[4.69784558e-01, 6.02011204e-01],\n",
       "                 [8.45039076e-01, 3.28922352e-01]],\n",
       "\n",
       "                [[1.00420343e-01, 4.73331698e-01],\n",
       "                 [6.83056832e-01, 9.18467749e-01]]],\n",
       "\n",
       "\n",
       "               [[[8.86205369e-01, 4.07023845e-01],\n",
       "                 [3.72643522e-01, 6.47834854e-02]],\n",
       "\n",
       "                [[5.63445465e-01, 5.80257287e-02],\n",
       "                 [4.70645622e-01, 5.45362810e-01]]]]],\n",
       "\n",
       "\n",
       "\n",
       "\n",
       "             [[[[[3.33384411e-01, 3.01231086e-01],\n",
       "                 [9.81897293e-01, 5.94109327e-02]],\n",
       "\n",
       "                [[3.09023558e-01, 4.49922823e-02],\n",
       "                 [7.15478997e-01, 1.03342274e-01]]],\n",
       "\n",
       "\n",
       "               [[[5.56551237e-01, 4.29495560e-01],\n",
       "                 [1.21440924e-01, 3.38132587e-01]],\n",
       "\n",
       "                [[1.39072790e-02, 9.31465473e-02],\n",
       "                 [9.25238078e-01, 1.49284010e-01]]]],\n",
       "\n",
       "\n",
       "\n",
       "              [[[[3.64324745e-01, 8.30421456e-02],\n",
       "                 [1.49471745e-01, 8.67279934e-01]],\n",
       "\n",
       "                [[3.26655649e-01, 9.71897210e-01],\n",
       "                 [9.31607993e-01, 9.28657735e-01]]],\n",
       "\n",
       "\n",
       "               [[[9.54782586e-01, 1.67506763e-01],\n",
       "                 [4.66710205e-01, 4.02828964e-01]],\n",
       "\n",
       "                [[8.51237789e-01, 2.87671213e-01],\n",
       "                 [9.20578929e-01, 5.21972275e-01]]]]]],\n",
       "\n",
       "\n",
       "\n",
       "\n",
       "\n",
       "            [[[[[[3.76314368e-01, 4.91048448e-01],\n",
       "                 [7.12033106e-01, 9.60924502e-01]],\n",
       "\n",
       "                [[1.30449570e-01, 1.45191323e-01],\n",
       "                 [3.72830291e-01, 7.68352242e-01]]],\n",
       "\n",
       "\n",
       "               [[[9.59627091e-01, 2.17923762e-01],\n",
       "                 [2.70712790e-01, 3.81766449e-01]],\n",
       "\n",
       "                [[1.35223560e-01, 4.06752740e-02],\n",
       "                 [2.34551389e-01, 8.52437090e-01]]]],\n",
       "\n",
       "\n",
       "\n",
       "              [[[[7.06855252e-01, 5.48026802e-01],\n",
       "                 [3.59915377e-01, 3.39746825e-01]],\n",
       "\n",
       "                [[7.53873612e-01, 6.20789257e-01],\n",
       "                 [4.74653586e-01, 2.90758596e-01]]],\n",
       "\n",
       "\n",
       "               [[[6.51954014e-01, 9.37342538e-02],\n",
       "                 [3.91831019e-01, 7.79572487e-01]],\n",
       "\n",
       "                [[1.58050453e-01, 6.57599632e-01],\n",
       "                 [4.24202318e-01, 2.78387578e-01]]]]],\n",
       "\n",
       "\n",
       "\n",
       "\n",
       "             [[[[[4.80809437e-01, 2.38547083e-01],\n",
       "                 [1.57953270e-01, 1.29658332e-01]],\n",
       "\n",
       "                [[8.31397883e-02, 2.96148566e-01],\n",
       "                 [7.53414811e-01, 2.25563598e-01]]],\n",
       "\n",
       "\n",
       "               [[[1.52912256e-01, 2.02996937e-01],\n",
       "                 [3.55071747e-01, 2.20499536e-01]],\n",
       "\n",
       "                [[6.61812093e-01, 8.02532565e-01],\n",
       "                 [9.79298611e-01, 5.76608810e-01]]]],\n",
       "\n",
       "\n",
       "\n",
       "              [[[[2.38603326e-01, 1.44840397e-01],\n",
       "                 [5.34575757e-01, 6.76029682e-02]],\n",
       "\n",
       "                [[5.92767773e-01, 3.80090337e-01],\n",
       "                 [5.14128091e-01, 7.74522055e-01]]],\n",
       "\n",
       "\n",
       "               [[[7.28127079e-01, 4.81404854e-01],\n",
       "                 [3.94194543e-01, 7.39769586e-01]],\n",
       "\n",
       "                [[8.78451667e-01, 3.76349533e-01],\n",
       "                 [4.08423561e-01, 4.84198843e-01]]]]]]]]],\n",
       "\n",
       "\n",
       "\n",
       "\n",
       "\n",
       "\n",
       "\n",
       "\n",
       "         [[[[[[[[[8.08200392e-01, 2.98545402e-01],\n",
       "                 [7.63733337e-01, 2.67920327e-01]],\n",
       "\n",
       "                [[8.23456135e-01, 7.65986895e-01],\n",
       "                 [8.87386776e-01, 7.91194316e-01]]],\n",
       "\n",
       "\n",
       "               [[[5.06243386e-01, 1.76462680e-01],\n",
       "                 [5.84860525e-01, 3.75040289e-01]],\n",
       "\n",
       "                [[9.31890285e-01, 6.21565951e-01],\n",
       "                 [8.93841686e-01, 9.93662498e-01]]]],\n",
       "\n",
       "\n",
       "\n",
       "              [[[[4.29149712e-01, 8.05917768e-01],\n",
       "                 [9.50825367e-01, 4.16308193e-01]],\n",
       "\n",
       "                [[8.39097505e-02, 8.53949188e-01],\n",
       "                 [7.44703640e-01, 3.74941831e-01]]],\n",
       "\n",
       "\n",
       "               [[[1.00917971e-02, 8.44352433e-01],\n",
       "                 [9.51336363e-01, 2.76867787e-01]],\n",
       "\n",
       "                [[8.78273879e-01, 1.66156285e-01],\n",
       "                 [1.89569082e-01, 5.03891475e-01]]]]],\n",
       "\n",
       "\n",
       "\n",
       "\n",
       "             [[[[[4.55728684e-01, 3.25911335e-01],\n",
       "                 [5.65915748e-01, 1.28952128e-01]],\n",
       "\n",
       "                [[7.62617541e-01, 3.12671219e-01],\n",
       "                 [4.86668783e-01, 2.68441164e-02]]],\n",
       "\n",
       "\n",
       "               [[[7.90650126e-01, 9.88060164e-02],\n",
       "                 [3.99114946e-01, 9.13111222e-01]],\n",
       "\n",
       "                [[6.34899614e-02, 8.24125001e-01],\n",
       "                 [9.44369263e-01, 4.72044766e-01]]]],\n",
       "\n",
       "\n",
       "\n",
       "              [[[[7.66491839e-01, 1.23372108e-01],\n",
       "                 [5.57837080e-01, 6.67820948e-01]],\n",
       "\n",
       "                [[5.04605764e-01, 6.60492804e-01],\n",
       "                 [1.29877063e-01, 7.17430223e-01]]],\n",
       "\n",
       "\n",
       "               [[[2.20096806e-01, 9.03805632e-01],\n",
       "                 [6.83261723e-01, 1.76039073e-01]],\n",
       "\n",
       "                [[2.79211185e-01, 7.96001608e-01],\n",
       "                 [2.22642030e-01, 9.36346451e-01]]]]]],\n",
       "\n",
       "\n",
       "\n",
       "\n",
       "\n",
       "            [[[[[[6.39264673e-01, 1.37802781e-01],\n",
       "                 [6.80813809e-01, 6.61112161e-03]],\n",
       "\n",
       "                [[7.33502323e-01, 8.16120145e-01],\n",
       "                 [5.05075840e-01, 6.05188123e-01]]],\n",
       "\n",
       "\n",
       "               [[[2.66006361e-01, 5.66995275e-02],\n",
       "                 [5.57467147e-01, 7.72179489e-01]],\n",
       "\n",
       "                [[4.70282730e-02, 2.06861529e-01],\n",
       "                 [9.19378926e-01, 5.99146734e-01]]]],\n",
       "\n",
       "\n",
       "\n",
       "              [[[[1.64787089e-02, 8.07061139e-01],\n",
       "                 [5.00311168e-01, 7.02622585e-01]],\n",
       "\n",
       "                [[2.60761524e-01, 7.92009448e-01],\n",
       "                 [8.62638123e-01, 3.71207482e-01]]],\n",
       "\n",
       "\n",
       "               [[[9.78691407e-01, 2.92941971e-01],\n",
       "                 [8.59448470e-01, 5.24415630e-01]],\n",
       "\n",
       "                [[8.06878775e-01, 5.37803006e-01],\n",
       "                 [3.57008859e-01, 7.15457393e-01]]]]],\n",
       "\n",
       "\n",
       "\n",
       "\n",
       "             [[[[[4.08141713e-01, 2.45911205e-01],\n",
       "                 [6.20499117e-01, 2.39697000e-01]],\n",
       "\n",
       "                [[4.51477060e-01, 3.06255421e-01],\n",
       "                 [9.09313276e-01, 7.15357744e-02]]],\n",
       "\n",
       "\n",
       "               [[[4.13731556e-01, 5.98865018e-01],\n",
       "                 [4.57162521e-01, 3.88379311e-01]],\n",
       "\n",
       "                [[3.40666951e-01, 8.31940180e-01],\n",
       "                 [2.59613862e-01, 5.67675641e-01]]]],\n",
       "\n",
       "\n",
       "\n",
       "              [[[[8.84384126e-01, 7.75027946e-01],\n",
       "                 [2.58961889e-01, 4.04001217e-01]],\n",
       "\n",
       "                [[8.97436403e-01, 2.30297201e-01],\n",
       "                 [2.53723148e-01, 9.18861352e-01]]],\n",
       "\n",
       "\n",
       "               [[[6.21524107e-01, 5.06821265e-01],\n",
       "                 [9.06280017e-01, 6.04834949e-01]],\n",
       "\n",
       "                [[6.25288939e-01, 4.20214678e-01],\n",
       "                 [6.98298707e-01, 6.02840694e-01]]]]]]],\n",
       "\n",
       "\n",
       "\n",
       "\n",
       "\n",
       "\n",
       "           [[[[[[[2.05173881e-01, 2.25851324e-01],\n",
       "                 [8.57634200e-01, 4.41936415e-01]],\n",
       "\n",
       "                [[6.66313788e-02, 5.18661815e-01],\n",
       "                 [6.84444743e-01, 3.80387513e-01]]],\n",
       "\n",
       "\n",
       "               [[[1.21333705e-01, 6.76246553e-01],\n",
       "                 [4.48760651e-01, 5.40304874e-01]],\n",
       "\n",
       "                [[7.98217890e-01, 7.17772437e-01],\n",
       "                 [5.92742842e-01, 9.03824247e-01]]]],\n",
       "\n",
       "\n",
       "\n",
       "              [[[[1.76198117e-01, 1.85625025e-01],\n",
       "                 [3.90848694e-01, 1.49717217e-01]],\n",
       "\n",
       "                [[4.05133912e-01, 4.62872190e-01],\n",
       "                 [6.62400027e-01, 5.90742760e-01]]],\n",
       "\n",
       "\n",
       "               [[[9.40091328e-01, 4.85414996e-01],\n",
       "                 [1.25250391e-01, 4.62505161e-01]],\n",
       "\n",
       "                [[6.54184244e-01, 7.39178607e-01],\n",
       "                 [3.92603441e-02, 2.41944433e-01]]]]],\n",
       "\n",
       "\n",
       "\n",
       "\n",
       "             [[[[[4.21347117e-01, 8.90998167e-01],\n",
       "                 [1.23543401e-01, 3.27763576e-01]],\n",
       "\n",
       "                [[3.34314365e-01, 5.54297639e-01],\n",
       "                 [4.89739163e-01, 8.95939136e-01]]],\n",
       "\n",
       "\n",
       "               [[[7.93444401e-01, 4.15520321e-01],\n",
       "                 [8.92238347e-01, 7.48057993e-01]],\n",
       "\n",
       "                [[8.59215929e-01, 3.05172142e-01],\n",
       "                 [2.06559890e-01, 6.72516586e-01]]]],\n",
       "\n",
       "\n",
       "\n",
       "              [[[[7.59776370e-01, 7.82091091e-01],\n",
       "                 [6.60159787e-01, 6.55257867e-01]],\n",
       "\n",
       "                [[4.46156203e-01, 3.39647012e-02],\n",
       "                 [1.79092285e-01, 8.70766723e-01]]],\n",
       "\n",
       "\n",
       "               [[[1.55351858e-01, 7.38261566e-01],\n",
       "                 [8.22637977e-01, 4.35689120e-01]],\n",
       "\n",
       "                [[2.20040104e-01, 3.79087120e-02],\n",
       "                 [4.07371398e-01, 7.79281761e-01]]]]]],\n",
       "\n",
       "\n",
       "\n",
       "\n",
       "\n",
       "            [[[[[[7.12231214e-01, 2.91526737e-01],\n",
       "                 [7.02851789e-01, 3.33103734e-01]],\n",
       "\n",
       "                [[5.75592716e-01, 8.13307236e-01],\n",
       "                 [1.29510791e-01, 4.90543898e-01]]],\n",
       "\n",
       "\n",
       "               [[[7.12447699e-01, 7.17411932e-02],\n",
       "                 [2.49523888e-01, 7.09966652e-01]],\n",
       "\n",
       "                [[7.12742248e-01, 4.05895117e-01],\n",
       "                 [6.84136001e-01, 5.08761430e-02]]]],\n",
       "\n",
       "\n",
       "\n",
       "              [[[[4.52276553e-01, 4.86312944e-01],\n",
       "                 [8.32934566e-01, 8.10332570e-01]],\n",
       "\n",
       "                [[5.21284079e-01, 8.85272679e-02],\n",
       "                 [3.42871866e-02, 6.50959194e-01]]],\n",
       "\n",
       "\n",
       "               [[[4.90267471e-01, 4.24754878e-01],\n",
       "                 [7.81498255e-01, 8.24346939e-01]],\n",
       "\n",
       "                [[3.51634138e-01, 1.52006971e-01],\n",
       "                 [1.89503225e-01, 2.05058931e-01]]]]],\n",
       "\n",
       "\n",
       "\n",
       "\n",
       "             [[[[[7.09309351e-01, 6.75286186e-01],\n",
       "                 [7.35895657e-01, 4.18419254e-01]],\n",
       "\n",
       "                [[8.85196156e-01, 6.35686193e-01],\n",
       "                 [6.62673632e-01, 7.27101875e-01]]],\n",
       "\n",
       "\n",
       "               [[[7.31256086e-01, 7.00601203e-01],\n",
       "                 [6.84491642e-02, 3.01213903e-01]],\n",
       "\n",
       "                [[8.33868908e-01, 1.97024832e-01],\n",
       "                 [7.51826338e-01, 7.38165345e-01]]]],\n",
       "\n",
       "\n",
       "\n",
       "              [[[[5.94185947e-01, 8.75186905e-01],\n",
       "                 [3.46564550e-01, 3.07606029e-01]],\n",
       "\n",
       "                [[7.68730337e-01, 7.07437456e-03],\n",
       "                 [9.70422363e-01, 9.65937884e-01]]],\n",
       "\n",
       "\n",
       "               [[[9.88609444e-02, 7.70907878e-01],\n",
       "                 [6.15701524e-01, 2.76823345e-01]],\n",
       "\n",
       "                [[9.58214383e-01, 2.33376311e-01],\n",
       "                 [5.99680223e-01, 2.75250877e-01]]]]]]]],\n",
       "\n",
       "\n",
       "\n",
       "\n",
       "\n",
       "\n",
       "\n",
       "          [[[[[[[[9.94042288e-01, 9.17252671e-01],\n",
       "                 [4.81261808e-01, 3.84920120e-01]],\n",
       "\n",
       "                [[6.44337876e-02, 9.37316470e-01],\n",
       "                 [4.77668045e-01, 9.52345269e-01]]],\n",
       "\n",
       "\n",
       "               [[[7.34538936e-01, 6.59668614e-01],\n",
       "                 [9.00812481e-01, 2.38318953e-01]],\n",
       "\n",
       "                [[9.70869050e-01, 5.29851075e-01],\n",
       "                 [3.38933950e-01, 5.23964649e-01]]]],\n",
       "\n",
       "\n",
       "\n",
       "              [[[[1.37766687e-01, 1.08331098e-01],\n",
       "                 [4.90083013e-01, 7.52907920e-01]],\n",
       "\n",
       "                [[2.78899010e-02, 5.20383937e-01],\n",
       "                 [5.47776558e-01, 7.82414091e-01]]],\n",
       "\n",
       "\n",
       "               [[[3.04160900e-01, 8.07747355e-01],\n",
       "                 [4.63147365e-01, 1.27062700e-01]],\n",
       "\n",
       "                [[6.72775807e-01, 4.66091683e-01],\n",
       "                 [1.05914515e-01, 9.80666839e-01]]]]],\n",
       "\n",
       "\n",
       "\n",
       "\n",
       "             [[[[[3.92270579e-01, 6.48328017e-01],\n",
       "                 [6.76103862e-01, 2.12942530e-01]],\n",
       "\n",
       "                [[3.47242624e-01, 8.50797647e-01],\n",
       "                 [3.89999520e-01, 5.32769826e-01]]],\n",
       "\n",
       "\n",
       "               [[[5.80514840e-01, 7.27535293e-01],\n",
       "                 [1.33713381e-01, 3.34382454e-01]],\n",
       "\n",
       "                [[7.25102911e-01, 3.04823421e-01],\n",
       "                 [8.90009370e-01, 2.35487588e-01]]]],\n",
       "\n",
       "\n",
       "\n",
       "              [[[[4.81420166e-01, 8.92282602e-01],\n",
       "                 [5.87332034e-01, 4.79288323e-02]],\n",
       "\n",
       "                [[3.27626884e-01, 1.21913096e-01],\n",
       "                 [2.63412090e-01, 5.99170684e-01]]],\n",
       "\n",
       "\n",
       "               [[[3.11899926e-01, 7.50123930e-01],\n",
       "                 [1.50438420e-01, 2.49634841e-01]],\n",
       "\n",
       "                [[6.30174313e-01, 2.22848117e-01],\n",
       "                 [7.77323805e-01, 2.98045319e-01]]]]]],\n",
       "\n",
       "\n",
       "\n",
       "\n",
       "\n",
       "            [[[[[[4.67767475e-01, 3.38128156e-01],\n",
       "                 [2.23292252e-01, 4.12107400e-01]],\n",
       "\n",
       "                [[2.45341757e-01, 7.16617452e-01],\n",
       "                 [4.53661741e-01, 3.27447679e-01]]],\n",
       "\n",
       "\n",
       "               [[[7.23873923e-02, 1.22658197e-01],\n",
       "                 [3.93830720e-02, 5.55891823e-01]],\n",
       "\n",
       "                [[7.43414383e-01, 4.43565334e-01],\n",
       "                 [7.89141809e-02, 9.21369480e-01]]]],\n",
       "\n",
       "\n",
       "\n",
       "              [[[[7.16334661e-01, 3.94756557e-01],\n",
       "                 [3.34090873e-01, 2.92568007e-01]],\n",
       "\n",
       "                [[4.81106713e-01, 1.70377120e-01],\n",
       "                 [8.71297091e-01, 7.68163737e-02]]],\n",
       "\n",
       "\n",
       "               [[[1.28036731e-01, 8.73280049e-01],\n",
       "                 [3.79938317e-01, 2.72478440e-01]],\n",
       "\n",
       "                [[7.57955428e-01, 8.87853041e-01],\n",
       "                 [7.90526571e-01, 9.53220268e-03]]]]],\n",
       "\n",
       "\n",
       "\n",
       "\n",
       "             [[[[[3.09537105e-01, 5.95704446e-01],\n",
       "                 [7.66105905e-01, 7.86427202e-01]],\n",
       "\n",
       "                [[5.69511960e-01, 5.62241441e-01],\n",
       "                 [5.92233455e-01, 3.45708912e-01]]],\n",
       "\n",
       "\n",
       "               [[[4.54672406e-01, 3.12928792e-01],\n",
       "                 [5.26279416e-01, 2.33112056e-01]],\n",
       "\n",
       "                [[6.43173755e-01, 7.32528714e-01],\n",
       "                 [5.96302216e-01, 7.74975486e-01]]]],\n",
       "\n",
       "\n",
       "\n",
       "              [[[[8.97427123e-01, 1.50079561e-01],\n",
       "                 [3.39455830e-01, 9.39568123e-02]],\n",
       "\n",
       "                [[3.22332565e-01, 2.70334759e-01],\n",
       "                 [2.09030128e-02, 9.85445381e-01]]],\n",
       "\n",
       "\n",
       "               [[[2.98307441e-01, 3.45313909e-01],\n",
       "                 [4.19411333e-01, 3.13466653e-01]],\n",
       "\n",
       "                [[5.61650516e-01, 6.36832520e-01],\n",
       "                 [4.86159859e-01, 8.73538107e-01]]]]]]],\n",
       "\n",
       "\n",
       "\n",
       "\n",
       "\n",
       "\n",
       "           [[[[[[[9.98728367e-01, 6.16319452e-01],\n",
       "                 [1.95857347e-01, 9.36571767e-01]],\n",
       "\n",
       "                [[1.12540170e-01, 4.32244713e-01],\n",
       "                 [3.42905908e-01, 8.76873446e-01]]],\n",
       "\n",
       "\n",
       "               [[[7.50318834e-01, 3.41691000e-02],\n",
       "                 [6.30692530e-01, 7.75111996e-01]],\n",
       "\n",
       "                [[6.58641054e-01, 5.32328292e-01],\n",
       "                 [6.95120411e-01, 3.59747485e-01]]]],\n",
       "\n",
       "\n",
       "\n",
       "              [[[[5.02319096e-01, 9.47784665e-01],\n",
       "                 [5.70838868e-01, 5.43372472e-01]],\n",
       "\n",
       "                [[9.64062033e-01, 7.36250234e-01],\n",
       "                 [5.83355828e-01, 3.86786449e-02]]],\n",
       "\n",
       "\n",
       "               [[[6.27637987e-01, 9.48967090e-01],\n",
       "                 [7.84257637e-01, 5.40798841e-01]],\n",
       "\n",
       "                [[5.35770175e-01, 7.35868597e-02],\n",
       "                 [8.99041719e-02, 5.65904616e-02]]]]],\n",
       "\n",
       "\n",
       "\n",
       "\n",
       "             [[[[[4.26515463e-01, 4.85634069e-01],\n",
       "                 [4.57018401e-01, 6.36257289e-02]],\n",
       "\n",
       "                [[9.67531093e-01, 1.64100770e-01],\n",
       "                 [9.89157781e-01, 2.87061832e-01]]],\n",
       "\n",
       "\n",
       "               [[[4.00811436e-01, 9.89609428e-01],\n",
       "                 [1.66608061e-01, 1.48469183e-02]],\n",
       "\n",
       "                [[8.23648283e-01, 9.42067842e-01],\n",
       "                 [2.47764615e-01, 7.02951106e-02]]]],\n",
       "\n",
       "\n",
       "\n",
       "              [[[[5.87888091e-01, 8.59731375e-01],\n",
       "                 [8.71966119e-01, 2.55824101e-01]],\n",
       "\n",
       "                [[9.36827332e-01, 8.46893112e-01],\n",
       "                 [7.55285701e-01, 6.83316760e-01]]],\n",
       "\n",
       "\n",
       "               [[[7.44153058e-01, 2.27800882e-01],\n",
       "                 [1.59514781e-01, 3.98716942e-01]],\n",
       "\n",
       "                [[9.88257784e-01, 5.91301746e-01],\n",
       "                 [7.81553764e-01, 5.03982595e-01]]]]]],\n",
       "\n",
       "\n",
       "\n",
       "\n",
       "\n",
       "            [[[[[[3.35625872e-01, 5.82865899e-01],\n",
       "                 [4.51903547e-02, 7.44964350e-01]],\n",
       "\n",
       "                [[8.78749774e-01, 9.93932670e-01],\n",
       "                 [7.75122668e-02, 7.22996410e-02]]],\n",
       "\n",
       "\n",
       "               [[[2.90621205e-01, 5.56373133e-01],\n",
       "                 [7.88333779e-01, 3.72378687e-01]],\n",
       "\n",
       "                [[1.43783377e-01, 7.59656164e-01],\n",
       "                 [1.75484051e-01, 2.20639398e-01]]]],\n",
       "\n",
       "\n",
       "\n",
       "              [[[[7.74234140e-01, 3.84300050e-01],\n",
       "                 [1.88786560e-01, 1.13090122e-01]],\n",
       "\n",
       "                [[3.26893708e-01, 2.22632580e-01],\n",
       "                 [2.03593505e-03, 8.67415275e-02]]],\n",
       "\n",
       "\n",
       "               [[[2.34100761e-01, 1.28580008e-01],\n",
       "                 [9.69940348e-01, 3.73991288e-01]],\n",
       "\n",
       "                [[1.90406601e-01, 9.07275150e-02],\n",
       "                 [2.69755347e-01, 1.63660738e-01]]]]],\n",
       "\n",
       "\n",
       "\n",
       "\n",
       "             [[[[[2.01638236e-01, 1.41866750e-01],\n",
       "                 [3.45157458e-01, 3.30988132e-01]],\n",
       "\n",
       "                [[3.22818695e-01, 5.87145058e-01],\n",
       "                 [9.74307939e-01, 4.23461584e-01]]],\n",
       "\n",
       "\n",
       "               [[[2.17114458e-01, 7.86055475e-02],\n",
       "                 [4.37446853e-03, 6.15249399e-01]],\n",
       "\n",
       "                [[4.18393097e-01, 4.42134818e-01],\n",
       "                 [9.66912810e-01, 8.53495868e-01]]]],\n",
       "\n",
       "\n",
       "\n",
       "              [[[[8.43459507e-01, 3.56588118e-02],\n",
       "                 [6.37324732e-01, 8.83452042e-01]],\n",
       "\n",
       "                [[3.00915380e-01, 8.02116721e-01],\n",
       "                 [2.95702457e-01, 9.68816321e-01]]],\n",
       "\n",
       "\n",
       "               [[[2.03191125e-01, 7.48987120e-01],\n",
       "                 [8.12730712e-01, 1.58011917e-01]],\n",
       "\n",
       "                [[6.00917089e-01, 5.69402224e-01],\n",
       "                 [1.36106531e-03, 2.76216498e-01]]]]]]]]]]]])"
      ]
     },
     "execution_count": 43,
     "metadata": {},
     "output_type": "execute_result"
    }
   ],
   "source": [
    "arr1"
   ]
  },
  {
   "cell_type": "code",
   "execution_count": 45,
   "metadata": {},
   "outputs": [],
   "source": [
    "arr2 = np.random.randint(80,100,size= (2,2,2))"
   ]
  },
  {
   "cell_type": "code",
   "execution_count": 46,
   "metadata": {},
   "outputs": [
    {
     "data": {
      "text/plain": [
       "array([[[93, 87],\n",
       "        [92, 95]],\n",
       "\n",
       "       [[82, 87],\n",
       "        [85, 96]]])"
      ]
     },
     "execution_count": 46,
     "metadata": {},
     "output_type": "execute_result"
    }
   ],
   "source": [
    "arr2"
   ]
  },
  {
   "cell_type": "code",
   "execution_count": 56,
   "metadata": {},
   "outputs": [],
   "source": [
    "arr5 = np.random.randn(5)"
   ]
  },
  {
   "cell_type": "code",
   "execution_count": 57,
   "metadata": {},
   "outputs": [
    {
     "data": {
      "text/plain": [
       "-0.09859535556701382"
      ]
     },
     "execution_count": 57,
     "metadata": {},
     "output_type": "execute_result"
    }
   ],
   "source": [
    "sum(arr5)"
   ]
  },
  {
   "cell_type": "code",
   "execution_count": 62,
   "metadata": {},
   "outputs": [],
   "source": [
    "arr = np.arange(0,60,10)"
   ]
  },
  {
   "cell_type": "code",
   "execution_count": 63,
   "metadata": {},
   "outputs": [
    {
     "data": {
      "text/plain": [
       "array([ 0, 10, 20, 30, 40, 50])"
      ]
     },
     "execution_count": 63,
     "metadata": {},
     "output_type": "execute_result"
    }
   ],
   "source": [
    "arr"
   ]
  },
  {
   "cell_type": "code",
   "execution_count": 64,
   "metadata": {},
   "outputs": [],
   "source": [
    "arr[1]=100"
   ]
  },
  {
   "cell_type": "code",
   "execution_count": 67,
   "metadata": {},
   "outputs": [
    {
     "data": {
      "text/plain": [
       "array([100,  40])"
      ]
     },
     "execution_count": 67,
     "metadata": {},
     "output_type": "execute_result"
    }
   ],
   "source": [
    "arr[[1,4]]"
   ]
  },
  {
   "cell_type": "code",
   "execution_count": 68,
   "metadata": {},
   "outputs": [],
   "source": [
    "arr1 = np.arange(9).reshape(3,3)"
   ]
  },
  {
   "cell_type": "code",
   "execution_count": 69,
   "metadata": {},
   "outputs": [
    {
     "data": {
      "text/plain": [
       "array([[0, 1, 2],\n",
       "       [3, 4, 5],\n",
       "       [6, 7, 8]])"
      ]
     },
     "execution_count": 69,
     "metadata": {},
     "output_type": "execute_result"
    }
   ],
   "source": [
    "arr1"
   ]
  },
  {
   "cell_type": "code",
   "execution_count": 70,
   "metadata": {},
   "outputs": [
    {
     "data": {
      "text/plain": [
       "array([3, 4, 5])"
      ]
     },
     "execution_count": 70,
     "metadata": {},
     "output_type": "execute_result"
    }
   ],
   "source": [
    "arr1[1]"
   ]
  },
  {
   "cell_type": "code",
   "execution_count": 71,
   "metadata": {},
   "outputs": [
    {
     "data": {
      "text/plain": [
       "array([0, 1, 2])"
      ]
     },
     "execution_count": 71,
     "metadata": {},
     "output_type": "execute_result"
    }
   ],
   "source": [
    "arr1[0]"
   ]
  },
  {
   "cell_type": "code",
   "execution_count": 72,
   "metadata": {},
   "outputs": [
    {
     "data": {
      "text/plain": [
       "4"
      ]
     },
     "execution_count": 72,
     "metadata": {},
     "output_type": "execute_result"
    }
   ],
   "source": [
    "arr1[1][1]"
   ]
  },
  {
   "cell_type": "code",
   "execution_count": 73,
   "metadata": {},
   "outputs": [
    {
     "data": {
      "text/plain": [
       "array([[ 0,  1,  2],\n",
       "       [ 3, 30,  5],\n",
       "       [ 6,  7,  8]])"
      ]
     },
     "execution_count": 73,
     "metadata": {},
     "output_type": "execute_result"
    }
   ],
   "source": [
    "arr1[1][1] = 30\n",
    "arr1"
   ]
  },
  {
   "cell_type": "code",
   "execution_count": 75,
   "metadata": {},
   "outputs": [
    {
     "data": {
      "text/plain": [
       "5"
      ]
     },
     "execution_count": 75,
     "metadata": {},
     "output_type": "execute_result"
    }
   ],
   "source": [
    "arr1[1,2]"
   ]
  },
  {
   "cell_type": "code",
   "execution_count": 76,
   "metadata": {},
   "outputs": [
    {
     "data": {
      "text/plain": [
       "2"
      ]
     },
     "execution_count": 76,
     "metadata": {},
     "output_type": "execute_result"
    }
   ],
   "source": [
    "arr1[0,2]"
   ]
  },
  {
   "cell_type": "code",
   "execution_count": 77,
   "metadata": {},
   "outputs": [
    {
     "data": {
      "text/plain": [
       "array([[0, 1, 2],\n",
       "       [6, 7, 8]])"
      ]
     },
     "execution_count": 77,
     "metadata": {},
     "output_type": "execute_result"
    }
   ],
   "source": [
    "arr1[[0,2]]"
   ]
  },
  {
   "cell_type": "code",
   "execution_count": 78,
   "metadata": {},
   "outputs": [
    {
     "data": {
      "text/plain": [
       "2"
      ]
     },
     "execution_count": 78,
     "metadata": {},
     "output_type": "execute_result"
    }
   ],
   "source": [
    "arr1[0,2]"
   ]
  },
  {
   "cell_type": "code",
   "execution_count": 79,
   "metadata": {},
   "outputs": [],
   "source": [
    "arr1[2] = [3,3,3]"
   ]
  },
  {
   "cell_type": "code",
   "execution_count": 80,
   "metadata": {},
   "outputs": [
    {
     "data": {
      "text/plain": [
       "array([[ 0,  1,  2],\n",
       "       [ 3, 30,  5],\n",
       "       [ 3,  3,  3]])"
      ]
     },
     "execution_count": 80,
     "metadata": {},
     "output_type": "execute_result"
    }
   ],
   "source": [
    "arr1"
   ]
  },
  {
   "cell_type": "code",
   "execution_count": 81,
   "metadata": {},
   "outputs": [
    {
     "data": {
      "text/plain": [
       "array([[30,  5],\n",
       "       [ 3,  3]])"
      ]
     },
     "execution_count": 81,
     "metadata": {},
     "output_type": "execute_result"
    }
   ],
   "source": [
    "arr1[1:,1:]"
   ]
  },
  {
   "cell_type": "code",
   "execution_count": 82,
   "metadata": {},
   "outputs": [
    {
     "data": {
      "text/plain": [
       "array([[0, 1, 2],\n",
       "       [3, 1, 2],\n",
       "       [3, 3, 4]])"
      ]
     },
     "execution_count": 82,
     "metadata": {},
     "output_type": "execute_result"
    }
   ],
   "source": [
    "arr1[1:,1:] = np.array([[1,2],[3,4]])\n",
    "arr1"
   ]
  },
  {
   "cell_type": "code",
   "execution_count": 83,
   "metadata": {},
   "outputs": [],
   "source": [
    "arr1 = np.arange(10,100,10)"
   ]
  },
  {
   "cell_type": "code",
   "execution_count": 84,
   "metadata": {},
   "outputs": [
    {
     "data": {
      "text/plain": [
       "array([10, 20, 30, 40, 50, 60, 70, 80, 90])"
      ]
     },
     "execution_count": 84,
     "metadata": {},
     "output_type": "execute_result"
    }
   ],
   "source": [
    "arr1"
   ]
  },
  {
   "cell_type": "code",
   "execution_count": 85,
   "metadata": {},
   "outputs": [
    {
     "data": {
      "text/plain": [
       "array([60, 70, 80, 90])"
      ]
     },
     "execution_count": 85,
     "metadata": {},
     "output_type": "execute_result"
    }
   ],
   "source": [
    "arr1[arr1>50]"
   ]
  },
  {
   "cell_type": "code",
   "execution_count": 86,
   "metadata": {},
   "outputs": [
    {
     "data": {
      "text/plain": [
       "array([20, 50, 80])"
      ]
     },
     "execution_count": 86,
     "metadata": {},
     "output_type": "execute_result"
    }
   ],
   "source": [
    "arr1[arr1%3==2]"
   ]
  },
  {
   "cell_type": "code",
   "execution_count": 87,
   "metadata": {},
   "outputs": [],
   "source": [
    "arr2 = np.arange(10,170,10).reshape(4,4)"
   ]
  },
  {
   "cell_type": "code",
   "execution_count": 88,
   "metadata": {},
   "outputs": [
    {
     "data": {
      "text/plain": [
       "array([[ 10,  20,  30,  40],\n",
       "       [ 50,  60,  70,  80],\n",
       "       [ 90, 100, 110, 120],\n",
       "       [130, 140, 150, 160]])"
      ]
     },
     "execution_count": 88,
     "metadata": {},
     "output_type": "execute_result"
    }
   ],
   "source": [
    "arr2"
   ]
  },
  {
   "cell_type": "code",
   "execution_count": 89,
   "metadata": {},
   "outputs": [
    {
     "data": {
      "text/plain": [
       "array([ 20,  40,  60,  80, 100, 120, 140, 160])"
      ]
     },
     "execution_count": 89,
     "metadata": {},
     "output_type": "execute_result"
    }
   ],
   "source": [
    "arr2[arr2%4==0]"
   ]
  },
  {
   "cell_type": "code",
   "execution_count": 90,
   "metadata": {},
   "outputs": [
    {
     "data": {
      "text/plain": [
       "array([[ 10,  30],\n",
       "       [ 90, 110]])"
      ]
     },
     "execution_count": 90,
     "metadata": {},
     "output_type": "execute_result"
    }
   ],
   "source": [
    "arr2[:-1:2,::2]"
   ]
  },
  {
   "cell_type": "code",
   "execution_count": 91,
   "metadata": {},
   "outputs": [],
   "source": [
    "np.nan\n",
    "\n",
    "arr1 = np.array([1,2,3,np.nan,np.inf])"
   ]
  },
  {
   "cell_type": "code",
   "execution_count": 92,
   "metadata": {},
   "outputs": [
    {
     "data": {
      "text/plain": [
       "array([ 1.,  2.,  3., nan, inf])"
      ]
     },
     "execution_count": 92,
     "metadata": {},
     "output_type": "execute_result"
    }
   ],
   "source": [
    "arr1"
   ]
  },
  {
   "cell_type": "code",
   "execution_count": 93,
   "metadata": {},
   "outputs": [
    {
     "data": {
      "text/plain": [
       "dtype('float64')"
      ]
     },
     "execution_count": 93,
     "metadata": {},
     "output_type": "execute_result"
    }
   ],
   "source": [
    "arr1.dtype"
   ]
  },
  {
   "cell_type": "code",
   "execution_count": 94,
   "metadata": {},
   "outputs": [],
   "source": [
    "arr2 = np.arange(10)"
   ]
  },
  {
   "cell_type": "code",
   "execution_count": 97,
   "metadata": {},
   "outputs": [
    {
     "ename": "SyntaxError",
     "evalue": "invalid syntax (<ipython-input-97-3df6959f3669>, line 1)",
     "output_type": "error",
     "traceback": [
      "\u001b[1;36m  File \u001b[1;32m\"<ipython-input-97-3df6959f3669>\"\u001b[1;36m, line \u001b[1;32m1\u001b[0m\n\u001b[1;33m    arr2[[0:7]]\u001b[0m\n\u001b[1;37m           ^\u001b[0m\n\u001b[1;31mSyntaxError\u001b[0m\u001b[1;31m:\u001b[0m invalid syntax\n"
     ]
    }
   ],
   "source": []
  },
  {
   "cell_type": "code",
   "execution_count": 98,
   "metadata": {},
   "outputs": [],
   "source": [
    "arr_zero = np.zeros(9)"
   ]
  },
  {
   "cell_type": "code",
   "execution_count": 99,
   "metadata": {},
   "outputs": [
    {
     "data": {
      "text/plain": [
       "array([0., 0., 0., 0., 0., 0., 0., 0., 0.])"
      ]
     },
     "execution_count": 99,
     "metadata": {},
     "output_type": "execute_result"
    }
   ],
   "source": [
    "arr_zero"
   ]
  },
  {
   "cell_type": "code",
   "execution_count": 101,
   "metadata": {},
   "outputs": [],
   "source": [
    "arr_one = np.ones((3,3))"
   ]
  },
  {
   "cell_type": "code",
   "execution_count": 102,
   "metadata": {},
   "outputs": [
    {
     "data": {
      "text/plain": [
       "array([[1., 1., 1.],\n",
       "       [1., 1., 1.],\n",
       "       [1., 1., 1.]])"
      ]
     },
     "execution_count": 102,
     "metadata": {},
     "output_type": "execute_result"
    }
   ],
   "source": [
    "arr_one"
   ]
  },
  {
   "cell_type": "code",
   "execution_count": 103,
   "metadata": {},
   "outputs": [],
   "source": [
    "arr_i = np.eye(5)"
   ]
  },
  {
   "cell_type": "code",
   "execution_count": 104,
   "metadata": {},
   "outputs": [
    {
     "data": {
      "text/plain": [
       "array([[1., 0., 0., 0., 0.],\n",
       "       [0., 1., 0., 0., 0.],\n",
       "       [0., 0., 1., 0., 0.],\n",
       "       [0., 0., 0., 1., 0.],\n",
       "       [0., 0., 0., 0., 1.]])"
      ]
     },
     "execution_count": 104,
     "metadata": {},
     "output_type": "execute_result"
    }
   ],
   "source": [
    "arr_i"
   ]
  },
  {
   "cell_type": "code",
   "execution_count": 105,
   "metadata": {},
   "outputs": [
    {
     "data": {
      "text/plain": [
       "array([[1., 0., 0., 0., 0., 0., 0., 0., 0., 0.],\n",
       "       [0., 1., 0., 0., 0., 0., 0., 0., 0., 0.],\n",
       "       [0., 0., 1., 0., 0., 0., 0., 0., 0., 0.],\n",
       "       [0., 0., 0., 1., 0., 0., 0., 0., 0., 0.],\n",
       "       [0., 0., 0., 0., 1., 0., 0., 0., 0., 0.],\n",
       "       [0., 0., 0., 0., 0., 1., 0., 0., 0., 0.],\n",
       "       [0., 0., 0., 0., 0., 0., 1., 0., 0., 0.],\n",
       "       [0., 0., 0., 0., 0., 0., 0., 1., 0., 0.],\n",
       "       [0., 0., 0., 0., 0., 0., 0., 0., 1., 0.],\n",
       "       [0., 0., 0., 0., 0., 0., 0., 0., 0., 1.]])"
      ]
     },
     "execution_count": 105,
     "metadata": {},
     "output_type": "execute_result"
    }
   ],
   "source": [
    "np.identity(10)"
   ]
  },
  {
   "cell_type": "code",
   "execution_count": 106,
   "metadata": {},
   "outputs": [
    {
     "data": {
      "text/plain": [
       "5.0"
      ]
     },
     "execution_count": 106,
     "metadata": {},
     "output_type": "execute_result"
    }
   ],
   "source": [
    "arr_i.sum()"
   ]
  },
  {
   "cell_type": "code",
   "execution_count": 107,
   "metadata": {},
   "outputs": [
    {
     "data": {
      "text/plain": [
       "0.2"
      ]
     },
     "execution_count": 107,
     "metadata": {},
     "output_type": "execute_result"
    }
   ],
   "source": [
    "arr_i.mean()"
   ]
  },
  {
   "cell_type": "code",
   "execution_count": 108,
   "metadata": {},
   "outputs": [
    {
     "data": {
      "text/plain": [
       "0.4"
      ]
     },
     "execution_count": 108,
     "metadata": {},
     "output_type": "execute_result"
    }
   ],
   "source": [
    "arr_i.std()"
   ]
  },
  {
   "cell_type": "code",
   "execution_count": 109,
   "metadata": {},
   "outputs": [
    {
     "data": {
      "text/plain": [
       "0.16000000000000003"
      ]
     },
     "execution_count": 109,
     "metadata": {},
     "output_type": "execute_result"
    }
   ],
   "source": [
    "arr_i.var()"
   ]
  },
  {
   "cell_type": "code",
   "execution_count": 111,
   "metadata": {},
   "outputs": [
    {
     "name": "stdout",
     "output_type": "stream",
     "text": [
      "0.0\n",
      "1.0\n",
      "[1. 1. 1. 1. 1. 1. 2. 2. 2. 2. 2. 2. 3. 3. 3. 3. 3. 3. 4. 4. 4. 4. 4. 4.\n",
      " 5.]\n",
      "[1. 0. 0. 0. 0. 0. 0. 0. 0. 0. 0. 0. 0. 0. 0. 0. 0. 0. 0. 0. 0. 0. 0. 0.\n",
      " 0.]\n"
     ]
    }
   ],
   "source": [
    "print(arr_i.min())\n",
    "print(arr_i.max())\n",
    "print(arr_i.cumsum())\n",
    "print(arr_i.cumprod())"
   ]
  },
  {
   "cell_type": "code",
   "execution_count": 112,
   "metadata": {},
   "outputs": [
    {
     "name": "stdout",
     "output_type": "stream",
     "text": [
      "arr1: array([1., 2., 3., 4., 5., 6.]) \t shape:(6,)\n",
      "arr2: array([10., 20., 30., 40., 50., 60.]) \t shape:(6,)\n"
     ]
    }
   ],
   "source": [
    "arr1 = np.arange(1.0,7)\n",
    "arr2 = np.arange(10.0,70,10)\n",
    "\n",
    "print('arr1: %s \\t shape:%s'%(repr(arr1),arr1.shape))\n",
    "\n",
    "print('arr2: %s \\t shape:%s'%(repr(arr2),arr2.shape))"
   ]
  },
  {
   "cell_type": "code",
   "execution_count": 113,
   "metadata": {},
   "outputs": [
    {
     "data": {
      "text/plain": [
       "array([ 5., 10., 15., 20., 25., 30.])"
      ]
     },
     "execution_count": 113,
     "metadata": {},
     "output_type": "execute_result"
    }
   ],
   "source": [
    "arr1 *5"
   ]
  },
  {
   "cell_type": "code",
   "execution_count": 114,
   "metadata": {},
   "outputs": [
    {
     "data": {
      "text/plain": [
       "array([ -9., -18., -27., -36., -45., -54.])"
      ]
     },
     "execution_count": 114,
     "metadata": {},
     "output_type": "execute_result"
    }
   ],
   "source": [
    "arr1-arr2"
   ]
  },
  {
   "cell_type": "code",
   "execution_count": 115,
   "metadata": {},
   "outputs": [
    {
     "data": {
      "text/plain": [
       "array([ 10.,  40.,  90., 160., 250., 360.])"
      ]
     },
     "execution_count": 115,
     "metadata": {},
     "output_type": "execute_result"
    }
   ],
   "source": [
    "arr1*arr2"
   ]
  },
  {
   "cell_type": "code",
   "execution_count": 116,
   "metadata": {},
   "outputs": [
    {
     "data": {
      "text/plain": [
       "array([0.33333333, 0.66666667, 1.        , 1.33333333, 1.66666667,\n",
       "       2.        ])"
      ]
     },
     "execution_count": 116,
     "metadata": {},
     "output_type": "execute_result"
    }
   ],
   "source": [
    "arr1/3"
   ]
  },
  {
   "cell_type": "code",
   "execution_count": 117,
   "metadata": {},
   "outputs": [
    {
     "data": {
      "text/plain": [
       "array([0.1, 0.1, 0.1, 0.1, 0.1, 0.1])"
      ]
     },
     "execution_count": 117,
     "metadata": {},
     "output_type": "execute_result"
    }
   ],
   "source": [
    "arr1/arr2"
   ]
  },
  {
   "cell_type": "code",
   "execution_count": 118,
   "metadata": {},
   "outputs": [
    {
     "data": {
      "text/plain": [
       "'array([1., 2., 3., 4., 5., 6.])'"
      ]
     },
     "execution_count": 118,
     "metadata": {},
     "output_type": "execute_result"
    }
   ],
   "source": [
    "repr(arr1)"
   ]
  },
  {
   "cell_type": "code",
   "execution_count": 119,
   "metadata": {},
   "outputs": [
    {
     "data": {
      "text/plain": [
       "array([1., 2., 3., 4., 5., 6.])"
      ]
     },
     "execution_count": 119,
     "metadata": {},
     "output_type": "execute_result"
    }
   ],
   "source": [
    "arr1"
   ]
  },
  {
   "cell_type": "code",
   "execution_count": 121,
   "metadata": {},
   "outputs": [
    {
     "ename": "SyntaxError",
     "evalue": "invalid syntax (<ipython-input-121-de93cdfb587a>, line 1)",
     "output_type": "error",
     "traceback": [
      "\u001b[1;36m  File \u001b[1;32m\"<ipython-input-121-de93cdfb587a>\"\u001b[1;36m, line \u001b[1;32m1\u001b[0m\n\u001b[1;33m    arr1***arr2\u001b[0m\n\u001b[1;37m          ^\u001b[0m\n\u001b[1;31mSyntaxError\u001b[0m\u001b[1;31m:\u001b[0m invalid syntax\n"
     ]
    }
   ],
   "source": [
    "arr1**arr2"
   ]
  },
  {
   "cell_type": "code",
   "execution_count": 122,
   "metadata": {},
   "outputs": [
    {
     "data": {
      "text/plain": [
       "array([10.1       ,  5.1       ,  3.43333333,  2.6       ,  2.1       ,\n",
       "        1.76666667])"
      ]
     },
     "execution_count": 122,
     "metadata": {},
     "output_type": "execute_result"
    }
   ],
   "source": [
    "(arr1 + 100) /arr2"
   ]
  },
  {
   "cell_type": "code",
   "execution_count": 123,
   "metadata": {},
   "outputs": [
    {
     "data": {
      "text/plain": [
       "array([10., 20., 30., 40., 50., 60.])"
      ]
     },
     "execution_count": 123,
     "metadata": {},
     "output_type": "execute_result"
    }
   ],
   "source": [
    "arr2"
   ]
  },
  {
   "cell_type": "code",
   "execution_count": 124,
   "metadata": {},
   "outputs": [
    {
     "data": {
      "text/plain": [
       "array([False, False,  True,  True,  True,  True])"
      ]
     },
     "execution_count": 124,
     "metadata": {},
     "output_type": "execute_result"
    }
   ],
   "source": [
    "arr2 > 20"
   ]
  },
  {
   "cell_type": "code",
   "execution_count": 127,
   "metadata": {},
   "outputs": [
    {
     "data": {
      "text/plain": [
       "array([10., 30., 40., 50., 60.])"
      ]
     },
     "execution_count": 127,
     "metadata": {},
     "output_type": "execute_result"
    }
   ],
   "source": [
    "arr2[[True, False,  True,  True,  True,  True]]"
   ]
  },
  {
   "cell_type": "code",
   "execution_count": 133,
   "metadata": {},
   "outputs": [
    {
     "name": "stdout",
     "output_type": "stream",
     "text": [
      "arr1: array([1., 2., 3., 4., 5., 6.]) \t shape:(6,)\n",
      "arr2: array([[10, 20, 30, 40],\n",
      "       [50, 60, 70, 80]]) \t shape:(2, 4)\n"
     ]
    }
   ],
   "source": [
    "\n",
    "arr2 = np.arange(10,90,10).reshape(2,4)\n",
    "\n",
    "print('arr1: %s \\t shape:%s'%(repr(arr1),arr1.shape))\n",
    "\n",
    "print('arr2: %s \\t shape:%s'%(repr(arr2),arr2.shape))"
   ]
  },
  {
   "cell_type": "code",
   "execution_count": 136,
   "metadata": {},
   "outputs": [
    {
     "data": {
      "text/plain": [
       "array([[20, 14],\n",
       "       [56, 41]])"
      ]
     },
     "execution_count": 136,
     "metadata": {},
     "output_type": "execute_result"
    }
   ],
   "source": [
    "A = np.arange(1,7).reshape(2,3)\n",
    "B = np.arange(6,0,-1).reshape(3,2)\n",
    "\n",
    "A,B\n",
    "A.dot(B)"
   ]
  },
  {
   "cell_type": "code",
   "execution_count": 137,
   "metadata": {},
   "outputs": [
    {
     "data": {
      "text/plain": [
       "array([[20, 14],\n",
       "       [56, 41]])"
      ]
     },
     "execution_count": 137,
     "metadata": {},
     "output_type": "execute_result"
    }
   ],
   "source": [
    "A@B"
   ]
  },
  {
   "cell_type": "code",
   "execution_count": 138,
   "metadata": {},
   "outputs": [
    {
     "data": {
      "text/plain": [
       "array([[1, 4],\n",
       "       [2, 5],\n",
       "       [3, 6]])"
      ]
     },
     "execution_count": 138,
     "metadata": {},
     "output_type": "execute_result"
    }
   ],
   "source": [
    "A.T"
   ]
  },
  {
   "cell_type": "code",
   "execution_count": null,
   "metadata": {},
   "outputs": [],
   "source": []
  },
  {
   "cell_type": "code",
   "execution_count": 147,
   "metadata": {},
   "outputs": [
    {
     "name": "stdout",
     "output_type": "stream",
     "text": [
      "[[0 1]\n",
      " [2 3]]\n"
     ]
    },
    {
     "data": {
      "text/plain": [
       "array([[-1.5,  0.5],\n",
       "       [ 1. ,  0. ]])"
      ]
     },
     "execution_count": 147,
     "metadata": {},
     "output_type": "execute_result"
    }
   ],
   "source": [
    "A = np.arange(4).reshape(2,2)\n",
    "print(A)\n",
    "np.linalg.inv(A)\n"
   ]
  },
  {
   "cell_type": "code",
   "execution_count": 148,
   "metadata": {},
   "outputs": [],
   "source": [
    "A = np.arange(1,5).reshape(2,2)\n",
    "B = np.arange(4,0,-1).reshape(2,2)"
   ]
  },
  {
   "cell_type": "code",
   "execution_count": 151,
   "metadata": {},
   "outputs": [],
   "source": [
    "I = np.eye(2)"
   ]
  },
  {
   "cell_type": "code",
   "execution_count": 152,
   "metadata": {},
   "outputs": [
    {
     "data": {
      "text/plain": [
       "array([[1., 2.],\n",
       "       [3., 4.]])"
      ]
     },
     "execution_count": 152,
     "metadata": {},
     "output_type": "execute_result"
    }
   ],
   "source": [
    "A@I"
   ]
  },
  {
   "cell_type": "code",
   "execution_count": 153,
   "metadata": {},
   "outputs": [
    {
     "data": {
      "text/plain": [
       "array([[4., 3.],\n",
       "       [2., 1.]])"
      ]
     },
     "execution_count": 153,
     "metadata": {},
     "output_type": "execute_result"
    }
   ],
   "source": [
    "B@I"
   ]
  },
  {
   "cell_type": "code",
   "execution_count": 155,
   "metadata": {},
   "outputs": [],
   "source": [
    "Ai = np.linalg.inv(A)"
   ]
  },
  {
   "cell_type": "code",
   "execution_count": 157,
   "metadata": {},
   "outputs": [
    {
     "data": {
      "text/plain": [
       "array([[1.00000000e+00, 1.11022302e-16],\n",
       "       [0.00000000e+00, 1.00000000e+00]])"
      ]
     },
     "execution_count": 157,
     "metadata": {},
     "output_type": "execute_result"
    }
   ],
   "source": [
    "A@Ai"
   ]
  },
  {
   "cell_type": "code",
   "execution_count": 158,
   "metadata": {},
   "outputs": [],
   "source": [
    "Bi =np.linalg.inv(B)"
   ]
  },
  {
   "cell_type": "code",
   "execution_count": 159,
   "metadata": {},
   "outputs": [
    {
     "data": {
      "text/plain": [
       "array([[1., 0.],\n",
       "       [0., 1.]])"
      ]
     },
     "execution_count": 159,
     "metadata": {},
     "output_type": "execute_result"
    }
   ],
   "source": [
    "B@Bi"
   ]
  },
  {
   "cell_type": "code",
   "execution_count": null,
   "metadata": {},
   "outputs": [],
   "source": []
  }
 ],
 "metadata": {
  "kernelspec": {
   "display_name": "Python 3",
   "language": "python",
   "name": "python3"
  },
  "language_info": {
   "codemirror_mode": {
    "name": "ipython",
    "version": 3
   },
   "file_extension": ".py",
   "mimetype": "text/x-python",
   "name": "python",
   "nbconvert_exporter": "python",
   "pygments_lexer": "ipython3",
   "version": "3.7.3"
  }
 },
 "nbformat": 4,
 "nbformat_minor": 2
}
