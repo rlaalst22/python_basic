{
 "cells": [
  {
   "cell_type": "code",
   "execution_count": 2,
   "metadata": {},
   "outputs": [],
   "source": [
    "from selenium import webdriver\n",
    "from pprint import pprint\n",
    "from time import sleep\n",
    "import requests\n",
    "from bs4 import BeautifulSoup as bs"
   ]
  },
  {
   "cell_type": "code",
   "execution_count": 3,
   "metadata": {},
   "outputs": [],
   "source": [
    "def find_movie_code(movie_name):\n",
    "    \n",
    "    driver_path = 'C:\\\\Users\\student\\\\Downloads\\\\chromedriver_win32\\\\chromedriver'\n",
    "    driver = webdriver.Chrome(driver_path)\n",
    "    driver.get('https://watcha.com/ko-KR/')\n",
    "\n",
    "    driver.implicitly_wait(10)\n",
    "\n",
    "    movie_search = driver.find_element_by_xpath('//*[@id=\"search_bar_in_home\"]')\n",
    "    movie_search.click()\n",
    "\n",
    "    movie_search.send_keys(movie_name)\n",
    "    movie_search.send_keys(u'\\ue007')\n",
    "\n",
    "    detail_movie = driver.find_element_by_xpath('//*[@id=\"root\"]/div/div[1]/section/section/section[1]/div[2]/div[1]/div/div/div/ul/li[1]/a/div[1]/div/img')\n",
    "    detail_movie.click()\n",
    "    \n",
    "    img_url = driver.find_element_by_xpath('//*[@id=\"root\"]/div/div[1]/section/div/div/div/section/div[1]/div[2]/div/div/div/div/img')\n",
    "    file_name = img_url.get_attribute('src').split('/')[-1]\n",
    "    print(file_name)\n",
    "    # movie_img_url = soup.find('div',class_='css-9tu7v9-Self-LazyLoadingImg').find('img')['src']\n",
    "\n",
    "    # print(soup.find('div',class_='css-9tu7v9-Self-LazyLoadingImg').find(\"img\", class_ = \"e1pon7hn0 css-p4k02n-Image-LazyLoadingImg ewlo9841\"))\n",
    "    code = driver.current_url.split('/')[-1]\n",
    "    # print(movie_img_url)\n",
    "    return code,file_name\n",
    "\n"
   ]
  },
  {
   "cell_type": "code",
   "execution_count": 4,
   "metadata": {},
   "outputs": [
    {
     "name": "stdout",
     "output_type": "stream",
     "text": [
      "영화 제목을 입력하세요  : 설국열차\n",
      "byneandld1jiehlqhfdd.jpg\n"
     ]
    },
    {
     "data": {
      "text/plain": [
       "('mO02n15', 'byneandld1jiehlqhfdd.jpg')"
      ]
     },
     "execution_count": 4,
     "metadata": {},
     "output_type": "execute_result"
    }
   ],
   "source": [
    "movie_name = input('영화 제목을 입력하세요  : ')\n",
    "find_movie_code(movie_name)"
   ]
  },
  {
   "cell_type": "code",
   "execution_count": null,
   "metadata": {
    "scrolled": true
   },
   "outputs": [],
   "source": [
    "\n",
    "\n",
    "coment = driver.find_element_by_xpath('//*[@id=\"root\"]/div/div[1]/section/div/div/div/div/div/div[1]/div[1]/div/div/section[5]/div[1]/div/header/div/div/a')\n",
    "coment.click()\n",
    "current_url = driver.current_url\n"
   ]
  },
  {
   "cell_type": "code",
   "execution_count": null,
   "metadata": {
    "scrolled": false
   },
   "outputs": [],
   "source": [
    "resp = requests.get(driver.current_url)\n",
    "soup = bs(resp.content,'html.parser')\n",
    "review = soup.find('ul',class_=\"css-7i3n5y-VisualUl e1kj2c740\")\n",
    "new_list = []\n",
    "new1_list =[]\n",
    "# print(review.find(\"div\", class_ = \"review.find(\"div\", class_ = \"css-wnwcvo-Comment e1hhfyw00\")\"))\n",
    "for x in review.contents:\n",
    "    if x =='':\n",
    "        continue\n",
    "    new_list.append(x)\n",
    "# print(new_list)\n",
    "print(len(new_list))\n",
    "for rev in new_list:\n",
    "    new_dict = {}\n",
    "#     print(rev.find('a'))\n",
    "#     print(type(rev))\n",
    "#     print(\"\\n\"*5)\n",
    "#     if rev.find('a') == None:\n",
    "# #         print(\"gg\")\n",
    "#         continue\n",
    "#     else:\n",
    "#         new_dict['name'] = rev.find('a')['title']\n",
    "#     if rev.find('div',class_=\"css-v0bib7-Text-handleRenderInner eh0w6030\") == None:\n",
    "#         continue\n",
    "#     else:\n",
    "#         new_dict['review'] = rev.find('div',class_=\"css-v0bib7-Text-handleRenderInner eh0w6030\").text\n",
    "\n",
    "\n",
    "    if rev.find('a') != None:\n",
    "        new_dict['name'] = rev.find('a')['title']\n",
    "    if rev.find('div',class_=\"css-v0bib7-Text-handleRenderInner eh0w6030\") != None:\n",
    "        new_dict['review'] = rev.find('div',class_=\"css-v0bib7-Text-handleRenderInner eh0w6030\").text\n",
    "    elif rev.find('div',class_='css-1l07b40-Text-handleRenderInner eh0w6030') !=None:\n",
    "        new_dict['reviw'] = rev.find('div',class_='css-1l07b40-Text-handleRenderInner eh0w6030').text\n",
    "    if(new_dict != {}):\n",
    "        new1_list.append(new_dict)\n",
    "pprint(new1_list)"
   ]
  },
  {
   "cell_type": "code",
   "execution_count": null,
   "metadata": {},
   "outputs": [],
   "source": [
    "driver.get('https://watcha.com/ko-KR/')\n",
    "search_elem = driver.find_element_by_xpath('//*[@id=\"search_bar_in_home\"]')\n",
    "search_elem.send_keys('기생충')\n",
    "search_elem.send_keys(u'\\ue007')\n",
    "driver.implicitly_wait(10)\n",
    "a_link = driver.find_element_by_xpath('//*[@id=\"root\"]/div/div[1]/section/section/section[1]/div[2]/div[1]/div/div/div/ul/li[1]/a')\n",
    "a_link.click()"
   ]
  },
  {
   "cell_type": "code",
   "execution_count": 9,
   "metadata": {},
   "outputs": [
    {
     "ename": "WebDriverException",
     "evalue": "Message: 'chromedriver' executable needs to be in PATH. Please see https://sites.google.com/a/chromium.org/chromedriver/home\n",
     "output_type": "error",
     "traceback": [
      "\u001b[1;31m---------------------------------------------------------------------------\u001b[0m",
      "\u001b[1;31mFileNotFoundError\u001b[0m                         Traceback (most recent call last)",
      "\u001b[1;32mC:\\ProgramData\\Anaconda3\\lib\\site-packages\\selenium\\webdriver\\common\\service.py\u001b[0m in \u001b[0;36mstart\u001b[1;34m(self)\u001b[0m\n\u001b[0;32m     75\u001b[0m                                             \u001b[0mstderr\u001b[0m\u001b[1;33m=\u001b[0m\u001b[0mself\u001b[0m\u001b[1;33m.\u001b[0m\u001b[0mlog_file\u001b[0m\u001b[1;33m,\u001b[0m\u001b[1;33m\u001b[0m\u001b[1;33m\u001b[0m\u001b[0m\n\u001b[1;32m---> 76\u001b[1;33m                                             stdin=PIPE)\n\u001b[0m\u001b[0;32m     77\u001b[0m         \u001b[1;32mexcept\u001b[0m \u001b[0mTypeError\u001b[0m\u001b[1;33m:\u001b[0m\u001b[1;33m\u001b[0m\u001b[1;33m\u001b[0m\u001b[0m\n",
      "\u001b[1;32mC:\\ProgramData\\Anaconda3\\lib\\subprocess.py\u001b[0m in \u001b[0;36m__init__\u001b[1;34m(self, args, bufsize, executable, stdin, stdout, stderr, preexec_fn, close_fds, shell, cwd, env, universal_newlines, startupinfo, creationflags, restore_signals, start_new_session, pass_fds, encoding, errors, text)\u001b[0m\n\u001b[0;32m    774\u001b[0m                                 \u001b[0merrread\u001b[0m\u001b[1;33m,\u001b[0m \u001b[0merrwrite\u001b[0m\u001b[1;33m,\u001b[0m\u001b[1;33m\u001b[0m\u001b[1;33m\u001b[0m\u001b[0m\n\u001b[1;32m--> 775\u001b[1;33m                                 restore_signals, start_new_session)\n\u001b[0m\u001b[0;32m    776\u001b[0m         \u001b[1;32mexcept\u001b[0m\u001b[1;33m:\u001b[0m\u001b[1;33m\u001b[0m\u001b[1;33m\u001b[0m\u001b[0m\n",
      "\u001b[1;32mC:\\ProgramData\\Anaconda3\\lib\\subprocess.py\u001b[0m in \u001b[0;36m_execute_child\u001b[1;34m(self, args, executable, preexec_fn, close_fds, pass_fds, cwd, env, startupinfo, creationflags, shell, p2cread, p2cwrite, c2pread, c2pwrite, errread, errwrite, unused_restore_signals, unused_start_new_session)\u001b[0m\n\u001b[0;32m   1177\u001b[0m                                          \u001b[0mos\u001b[0m\u001b[1;33m.\u001b[0m\u001b[0mfspath\u001b[0m\u001b[1;33m(\u001b[0m\u001b[0mcwd\u001b[0m\u001b[1;33m)\u001b[0m \u001b[1;32mif\u001b[0m \u001b[0mcwd\u001b[0m \u001b[1;32mis\u001b[0m \u001b[1;32mnot\u001b[0m \u001b[1;32mNone\u001b[0m \u001b[1;32melse\u001b[0m \u001b[1;32mNone\u001b[0m\u001b[1;33m,\u001b[0m\u001b[1;33m\u001b[0m\u001b[1;33m\u001b[0m\u001b[0m\n\u001b[1;32m-> 1178\u001b[1;33m                                          startupinfo)\n\u001b[0m\u001b[0;32m   1179\u001b[0m             \u001b[1;32mfinally\u001b[0m\u001b[1;33m:\u001b[0m\u001b[1;33m\u001b[0m\u001b[1;33m\u001b[0m\u001b[0m\n",
      "\u001b[1;31mFileNotFoundError\u001b[0m: [WinError 2] 지정된 파일을 찾을 수 없습니다",
      "\nDuring handling of the above exception, another exception occurred:\n",
      "\u001b[1;31mWebDriverException\u001b[0m                        Traceback (most recent call last)",
      "\u001b[1;32m<ipython-input-9-4fc8c26e6fc0>\u001b[0m in \u001b[0;36m<module>\u001b[1;34m\u001b[0m\n\u001b[1;32m----> 1\u001b[1;33m \u001b[0mdir\u001b[0m\u001b[1;33m(\u001b[0m\u001b[0mwebdriver\u001b[0m\u001b[1;33m.\u001b[0m\u001b[0mChrome\u001b[0m\u001b[1;33m(\u001b[0m\u001b[1;33m)\u001b[0m\u001b[1;33m)\u001b[0m\u001b[1;33m\u001b[0m\u001b[1;33m\u001b[0m\u001b[0m\n\u001b[0m",
      "\u001b[1;32mC:\\ProgramData\\Anaconda3\\lib\\site-packages\\selenium\\webdriver\\chrome\\webdriver.py\u001b[0m in \u001b[0;36m__init__\u001b[1;34m(self, executable_path, port, options, service_args, desired_capabilities, service_log_path, chrome_options, keep_alive)\u001b[0m\n\u001b[0;32m     71\u001b[0m             \u001b[0mservice_args\u001b[0m\u001b[1;33m=\u001b[0m\u001b[0mservice_args\u001b[0m\u001b[1;33m,\u001b[0m\u001b[1;33m\u001b[0m\u001b[1;33m\u001b[0m\u001b[0m\n\u001b[0;32m     72\u001b[0m             log_path=service_log_path)\n\u001b[1;32m---> 73\u001b[1;33m         \u001b[0mself\u001b[0m\u001b[1;33m.\u001b[0m\u001b[0mservice\u001b[0m\u001b[1;33m.\u001b[0m\u001b[0mstart\u001b[0m\u001b[1;33m(\u001b[0m\u001b[1;33m)\u001b[0m\u001b[1;33m\u001b[0m\u001b[1;33m\u001b[0m\u001b[0m\n\u001b[0m\u001b[0;32m     74\u001b[0m \u001b[1;33m\u001b[0m\u001b[0m\n\u001b[0;32m     75\u001b[0m         \u001b[1;32mtry\u001b[0m\u001b[1;33m:\u001b[0m\u001b[1;33m\u001b[0m\u001b[1;33m\u001b[0m\u001b[0m\n",
      "\u001b[1;32mC:\\ProgramData\\Anaconda3\\lib\\site-packages\\selenium\\webdriver\\common\\service.py\u001b[0m in \u001b[0;36mstart\u001b[1;34m(self)\u001b[0m\n\u001b[0;32m     81\u001b[0m                 raise WebDriverException(\n\u001b[0;32m     82\u001b[0m                     \"'%s' executable needs to be in PATH. %s\" % (\n\u001b[1;32m---> 83\u001b[1;33m                         os.path.basename(self.path), self.start_error_message)\n\u001b[0m\u001b[0;32m     84\u001b[0m                 )\n\u001b[0;32m     85\u001b[0m             \u001b[1;32melif\u001b[0m \u001b[0merr\u001b[0m\u001b[1;33m.\u001b[0m\u001b[0merrno\u001b[0m \u001b[1;33m==\u001b[0m \u001b[0merrno\u001b[0m\u001b[1;33m.\u001b[0m\u001b[0mEACCES\u001b[0m\u001b[1;33m:\u001b[0m\u001b[1;33m\u001b[0m\u001b[1;33m\u001b[0m\u001b[0m\n",
      "\u001b[1;31mWebDriverException\u001b[0m: Message: 'chromedriver' executable needs to be in PATH. Please see https://sites.google.com/a/chromium.org/chromedriver/home\n"
     ]
    }
   ],
   "source": []
  },
  {
   "cell_type": "code",
   "execution_count": null,
   "metadata": {},
   "outputs": [],
   "source": []
  }
 ],
 "metadata": {
  "kernelspec": {
   "display_name": "Python 3",
   "language": "python",
   "name": "python3"
  },
  "language_info": {
   "codemirror_mode": {
    "name": "ipython",
    "version": 3
   },
   "file_extension": ".py",
   "mimetype": "text/x-python",
   "name": "python",
   "nbconvert_exporter": "python",
   "pygments_lexer": "ipython3",
   "version": "3.7.3"
  }
 },
 "nbformat": 4,
 "nbformat_minor": 2
}
