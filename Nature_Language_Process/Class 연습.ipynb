{
 "cells": [
  {
   "cell_type": "code",
   "execution_count": 7,
   "metadata": {},
   "outputs": [],
   "source": [
    "class Dog:\n",
    "    def __init__(self,name,color):\n",
    "        self.hungry = 0\n",
    "        self.name= name\n",
    "        self.color = color\n",
    "    def eat(self):\n",
    "        self.hungry -=10\n",
    "        print('밥먹음',self.hungry)\n",
    "    def walk(self):\n",
    "        self.hungry +=10\n",
    "        print('산착',self.hungry)\n",
    "        \n",
    "        \n",
    "        "
   ]
  },
  {
   "cell_type": "code",
   "execution_count": 399,
   "metadata": {},
   "outputs": [],
   "source": [
    "class Animal:\n",
    "    def __init__(self,name,color):\n",
    "        self.name = name\n",
    "        self.color = color\n",
    "        self.__hungry = 0\n",
    "    \n",
    "    def eat(self):\n",
    "        if self.__hungry <=0:\n",
    "            print('배가 너무 불러요!!')\n",
    "        else:\n",
    "            self.__hungry-=10\n",
    "            print('밥먹음',self.__hungry)\n",
    "    def walk(self):\n",
    "        self.__hungry+=10\n",
    "        print('산책',self.__hungry)\n",
    "\n",
    "    def hunger(self):\n",
    "        print(\"%s 배고픔 : %d\"%(self.name,self.__hungry))\n",
    "        "
   ]
  },
  {
   "cell_type": "code",
   "execution_count": 402,
   "metadata": {},
   "outputs": [],
   "source": [
    "class Dog(Animal):\n",
    "    def __init__(self,name,color):\n",
    "        super().__init__(name,color)\n",
    "    def sounds(self):\n",
    "        print('멍멍')\n",
    "class Cat(Animal):\n",
    "    def __init__(self,name,color):\n",
    "        super().__init__(name,color)\n",
    "    def sounds(self):\n",
    "        print('냐용')"
   ]
  },
  {
   "cell_type": "code",
   "execution_count": 403,
   "metadata": {},
   "outputs": [
    {
     "name": "stdout",
     "output_type": "stream",
     "text": [
      "산책 10\n"
     ]
    }
   ],
   "source": [
    "ch = Dog('choco','black')\n",
    "jjong = Dog('jjong','white')\n",
    "\n",
    "jjong.walk()"
   ]
  },
  {
   "cell_type": "code",
   "execution_count": 323,
   "metadata": {},
   "outputs": [
    {
     "name": "stdout",
     "output_type": "stream",
     "text": [
      "배가 너무 불러요!!\n"
     ]
    }
   ],
   "source": [
    "ch.eat()"
   ]
  },
  {
   "cell_type": "code",
   "execution_count": 408,
   "metadata": {},
   "outputs": [],
   "source": [
    "class Calc:\n",
    "    count = 0\n",
    "    @classmethod\n",
    "    def add(cls,a,b):\n",
    "        print(a+b)\n",
    "        cls.count+=1\n",
    "        print('count = ',cls.count)\n",
    "        print('나누기',cls.s(3,5))\n",
    "        \n",
    "    def s(self,a,b):\n",
    "        return a/b"
   ]
  },
  {
   "cell_type": "code",
   "execution_count": 409,
   "metadata": {},
   "outputs": [
    {
     "name": "stdout",
     "output_type": "stream",
     "text": [
      "6\n",
      "count =  1\n"
     ]
    },
    {
     "ename": "NameError",
     "evalue": "name 'self' is not defined",
     "output_type": "error",
     "traceback": [
      "\u001b[1;31m---------------------------------------------------------------------------\u001b[0m",
      "\u001b[1;31mNameError\u001b[0m                                 Traceback (most recent call last)",
      "\u001b[1;32m<ipython-input-409-6931741bac22>\u001b[0m in \u001b[0;36m<module>\u001b[1;34m\u001b[0m\n\u001b[1;32m----> 1\u001b[1;33m \u001b[0mCalc\u001b[0m\u001b[1;33m.\u001b[0m\u001b[0madd\u001b[0m\u001b[1;33m(\u001b[0m\u001b[1;36m2\u001b[0m\u001b[1;33m,\u001b[0m\u001b[1;36m4\u001b[0m\u001b[1;33m)\u001b[0m\u001b[1;33m\u001b[0m\u001b[1;33m\u001b[0m\u001b[0m\n\u001b[0m",
      "\u001b[1;32m<ipython-input-408-82e394bc958f>\u001b[0m in \u001b[0;36madd\u001b[1;34m(cls, a, b)\u001b[0m\n\u001b[0;32m      6\u001b[0m         \u001b[0mcls\u001b[0m\u001b[1;33m.\u001b[0m\u001b[0mcount\u001b[0m\u001b[1;33m+=\u001b[0m\u001b[1;36m1\u001b[0m\u001b[1;33m\u001b[0m\u001b[1;33m\u001b[0m\u001b[0m\n\u001b[0;32m      7\u001b[0m         \u001b[0mprint\u001b[0m\u001b[1;33m(\u001b[0m\u001b[1;34m'count = '\u001b[0m\u001b[1;33m,\u001b[0m\u001b[0mcls\u001b[0m\u001b[1;33m.\u001b[0m\u001b[0mcount\u001b[0m\u001b[1;33m)\u001b[0m\u001b[1;33m\u001b[0m\u001b[1;33m\u001b[0m\u001b[0m\n\u001b[1;32m----> 8\u001b[1;33m         \u001b[0mprint\u001b[0m\u001b[1;33m(\u001b[0m\u001b[1;34m'나누기'\u001b[0m\u001b[1;33m,\u001b[0m\u001b[0mcls\u001b[0m\u001b[1;33m.\u001b[0m\u001b[0ms\u001b[0m\u001b[1;33m(\u001b[0m\u001b[0mself\u001b[0m\u001b[1;33m,\u001b[0m\u001b[1;36m3\u001b[0m\u001b[1;33m,\u001b[0m\u001b[1;36m5\u001b[0m\u001b[1;33m)\u001b[0m\u001b[1;33m)\u001b[0m\u001b[1;33m\u001b[0m\u001b[1;33m\u001b[0m\u001b[0m\n\u001b[0m\u001b[0;32m      9\u001b[0m \u001b[1;33m\u001b[0m\u001b[0m\n\u001b[0;32m     10\u001b[0m     \u001b[1;32mdef\u001b[0m \u001b[0ms\u001b[0m\u001b[1;33m(\u001b[0m\u001b[0mself\u001b[0m\u001b[1;33m,\u001b[0m\u001b[0ma\u001b[0m\u001b[1;33m,\u001b[0m\u001b[0mb\u001b[0m\u001b[1;33m)\u001b[0m\u001b[1;33m:\u001b[0m\u001b[1;33m\u001b[0m\u001b[1;33m\u001b[0m\u001b[0m\n",
      "\u001b[1;31mNameError\u001b[0m: name 'self' is not defined"
     ]
    }
   ],
   "source": [
    "Calc.add(2,4)"
   ]
  },
  {
   "cell_type": "code",
   "execution_count": 386,
   "metadata": {},
   "outputs": [],
   "source": [
    "class Car:\n",
    "    car_count = 0\n",
    "    def __init__(self,name,cc,year):\n",
    "        self.__name = name\n",
    "        self.__cc = cc\n",
    "        self.__year = year\n",
    "    def change_name(self,name):\n",
    "        self.__name = name\n",
    "        return 'ok'\n",
    "    def id_cc(self):\n",
    "        if self.__cc<=1000:\n",
    "            print('소형')\n",
    "            return '소형'\n",
    "        elif self.__cc>1000 and self.__cc <=2000:\n",
    "            print('중형')\n",
    "            return '중형'\n",
    "        elif self.__cc>2000:\n",
    "            print('대형')\n",
    "            return '대형'\n",
    "    def call_total_count(self):\n",
    "        Car.car_count+=1\n",
    "        print(Car.car_count)\n",
    "    def describe(self):\n",
    "        print(self.__name,self.__cc,self.__year)"
   ]
  },
  {
   "cell_type": "code",
   "execution_count": 387,
   "metadata": {},
   "outputs": [],
   "source": [
    "mw = Car('bmw',2500,2018)"
   ]
  },
  {
   "cell_type": "code",
   "execution_count": 388,
   "metadata": {},
   "outputs": [],
   "source": [
    "gg = Car('d',1000,2017)"
   ]
  },
  {
   "cell_type": "code",
   "execution_count": 389,
   "metadata": {},
   "outputs": [],
   "source": [
    "mw.change_name('kia')"
   ]
  },
  {
   "cell_type": "code",
   "execution_count": 390,
   "metadata": {},
   "outputs": [
    {
     "name": "stdout",
     "output_type": "stream",
     "text": [
      "kia 2500 2018\n"
     ]
    }
   ],
   "source": [
    "mw.describe()"
   ]
  },
  {
   "cell_type": "code",
   "execution_count": 392,
   "metadata": {},
   "outputs": [
    {
     "name": "stdout",
     "output_type": "stream",
     "text": [
      "소형\n"
     ]
    }
   ],
   "source": [
    "gg.id_cc()"
   ]
  },
  {
   "cell_type": "code",
   "execution_count": 393,
   "metadata": {},
   "outputs": [],
   "source": [
    "import konlpy"
   ]
  },
  {
   "cell_type": "code",
   "execution_count": 398,
   "metadata": {},
   "outputs": [],
   "source": [
    "konlpy.tag.Mecab.pos?"
   ]
  },
  {
   "cell_type": "code",
   "execution_count": null,
   "metadata": {},
   "outputs": [],
   "source": [
    "class Animal:\n",
    "    def __init__(self):\n",
    "        self.hungry = 0\n",
    "    def eat(self):\n",
    "        self.hungry -=10\n",
    "        print('ㅂ')"
   ]
  },
  {
   "cell_type": "code",
   "execution_count": null,
   "metadata": {},
   "outputs": [],
   "source": [
    "from abc import *\n",
    "\n",
    "class Animal(metaclass = ABCMeta):\n",
    "    def __init__(self):\n",
    "        self.hungry = 0\n",
    "    def eat(self):\n",
    "        self.hungry -= 10\n",
    "        print('밥먹음',self.hungry)\n",
    "    def walk(self):\n",
    "        self.hungry += 10\n",
    "        print('산책',self.hungry)\n",
    "    \n",
    "    @abstractmethod\n",
    "    def sound(self):\n",
    "        pass\n",
    "    \n",
    "class Dog(Animal):\n",
    "    super()"
   ]
  },
  {
   "cell_type": "code",
   "execution_count": 410,
   "metadata": {},
   "outputs": [],
   "source": [
    "class Character:\n",
    "    def __init__(self):\n",
    "        self.health = 200\n",
    "        pass\n",
    "    def Move(self):\n",
    "        self.health -= 10\n",
    "        if \n",
    "        pass\n",
    "    def Rest(self):\n",
    "        self.health +=10\n",
    "        pass\n",
    "    def checkHealth(self):\n",
    "        print(self.health)\n"
   ]
  },
  {
   "cell_type": "code",
   "execution_count": 436,
   "metadata": {},
   "outputs": [],
   "source": [
    "class Knight(Character):\n",
    "    def __init__(self):\n",
    "        super().__init__()\n",
    "        pass\n",
    "    \n",
    "    def Move(self):\n",
    "        super().Move()\n",
    "        self.health -=5\n",
    "        \n",
    "    def Attack(self,healer):\n",
    "        healer.health_minus()\n",
    "        print(f'{}공격합니다. 데미지 -15')\n",
    "        pass\n",
    "    \n",
    "class Healer(Character):\n",
    "    def __init__(self):\n",
    "        self.mana = 100\n",
    "        super().__init__()\n",
    "        pass\n",
    "    def health_minus(self):\n",
    "        self.health -=15\n",
    "    \n",
    "    def check_now(self):\n",
    "        print(self.health)\n",
    "        print(self.mana)\n",
    "        \n",
    "    def Heal(self):\n",
    "        pass"
   ]
  },
  {
   "cell_type": "code",
   "execution_count": 437,
   "metadata": {},
   "outputs": [],
   "source": [
    "atk = Knight()\n",
    "hil1 = Healer()\n",
    "hil2 = Healer()\n",
    "hil3 = Healer()"
   ]
  },
  {
   "cell_type": "code",
   "execution_count": 438,
   "metadata": {},
   "outputs": [
    {
     "name": "stdout",
     "output_type": "stream",
     "text": [
      "<__main__.Healer object at 0x0000028D5F99BCC0>공격합니다. 데미지 -15\n"
     ]
    }
   ],
   "source": [
    "atk.Attack(hil2)"
   ]
  },
  {
   "cell_type": "code",
   "execution_count": 439,
   "metadata": {},
   "outputs": [
    {
     "name": "stdout",
     "output_type": "stream",
     "text": [
      "185\n",
      "100\n"
     ]
    }
   ],
   "source": [
    "hil2.check_now()"
   ]
  },
  {
   "cell_type": "code",
   "execution_count": null,
   "metadata": {},
   "outputs": [],
   "source": []
  }
 ],
 "metadata": {
  "kernelspec": {
   "display_name": "Python 3",
   "language": "python",
   "name": "python3"
  },
  "language_info": {
   "codemirror_mode": {
    "name": "ipython",
    "version": 3
   },
   "file_extension": ".py",
   "mimetype": "text/x-python",
   "name": "python",
   "nbconvert_exporter": "python",
   "pygments_lexer": "ipython3",
   "version": "3.6.8"
  }
 },
 "nbformat": 4,
 "nbformat_minor": 2
}
