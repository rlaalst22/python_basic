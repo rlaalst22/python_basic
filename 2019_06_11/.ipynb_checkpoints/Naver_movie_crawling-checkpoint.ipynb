{
 "cells": [
  {
   "cell_type": "code",
   "execution_count": null,
   "metadata": {},
   "outputs": [],
   "source": []
  },
  {
   "cell_type": "code",
   "execution_count": 4,
   "metadata": {},
   "outputs": [],
   "source": [
    "import requests\n",
    "from bs4 import BeautifulSoup\n",
    "import pandas as pd\n",
    "class movie(object):\n",
    "\n",
    "    movie_code = ''\n",
    "    \n",
    "    \n",
    "    def __init__(self,name):\n",
    "        self.name = name\n",
    "        \n",
    "    def find_movie_code(self):\n",
    "        movie.movie_code = ''\n",
    "        search_url = 'https://search.naver.com/search.naver'\n",
    "        query = self.name\n",
    "        params = {\n",
    "            'where': 'nexearch',\n",
    "            'query':query\n",
    "        }\n",
    "        search_resp = requests.get(search_url,params = params)\n",
    "        movie_code = ''\n",
    "        search_soup = BeautifulSoup(search_resp.content)\n",
    "        i = 99\n",
    "        try:\n",
    "            search_movie_url = search_soup.find('div',class_='info_main').find('h3').a['href']\n",
    "            for idx,val in enumerate(search_movie_url):\n",
    "                if val == '=':\n",
    "                    i = idx\n",
    "                if idx > i:\n",
    "                    movie.movie_code += val\n",
    "            print(movie.movie_code)\n",
    "            return movie.movie_code\n",
    "        \n",
    "        \n",
    "        \n",
    "        except:\n",
    "            print('영화제목을 똑바로 쳐주세요!')\n",
    "            \n",
    "            \n",
    "            \n",
    "    def find_story(self):\n",
    "        new_dict = {}\n",
    "        new_list = []\n",
    "        movie_story_url = 'https://movie.naver.com/movie/bi/mi/basic.nhn'\n",
    "        params = {\n",
    "            'code' : movie.movie_code\n",
    "        }\n",
    "        resp = requests.get(movie_story_url, params)\n",
    "        soup = BeautifulSoup(resp.content,'html.parser')\n",
    "        new_dict['movie_story_title'] = soup.find('div',class_='story_area').find('h5',class_='h_tx_story').text\n",
    "        new_dict['movie_story_content'] = soup.find('div',class_='story_area').find('p',class_='con_tx').text\n",
    "        \n",
    "        new_list.append(new_dict)\n",
    "        print('find_story_loading_complete')\n",
    "        return new_list\n",
    "        \n",
    "        \n",
    "        \n",
    "    def find_best_lines(self):\n",
    "        movie_best_url = 'https://movie.naver.com/movie/bi/mi/script.nhn'\n",
    "        i = 1\n",
    "        new_list = []\n",
    "        while True:\n",
    "            params = {\n",
    "            'code' : movie.movie_code,\n",
    "            'page': i\n",
    "            }\n",
    "            resp = requests.get(movie_best_url,params)\n",
    "            soup = BeautifulSoup(resp.content,'html.parser')\n",
    "            ul_tag = soup.find('ul',class_ = 'lines')\n",
    "            if i%50 ==0:\n",
    "                print(f'{i}번째 페이지 로딩중')\n",
    "            cnt = 0\n",
    "            if soup.find('div',class_='paging').find('a',title = '다음'):\n",
    "                for ul in ul_tag.contents:\n",
    "                    new_dict= {}\n",
    "                    if type(ul) == type(ul_tag.contents[0]):\n",
    "                        continue\n",
    "        #             print(ul)\n",
    "                    new_dict['best_lines'] = ul.find('div').find('p',class_='one_line').text\n",
    "                    if not ul.find('div').find('p',class_='char_part')==None:\n",
    "                        new_dict['cast'] = ul.find('div').find('p',class_='char_part').text\n",
    "                        new_dict['actor'] = ul.find('div').find('p',class_='char_part').a.text\n",
    "                        new_dict['line_desc'] = ul.find('div').find('p',class_='line_desc').text\n",
    "                        new_list.append(new_dict)\n",
    "                i += 1\n",
    "            else:\n",
    "                break\n",
    "#         print(len(new_list))\n",
    "        print('find_best_lines_loading_complete')\n",
    "        df_list = pd.DataFrame(new_list)\n",
    "        \n",
    "        \n",
    "        return df_list"
   ]
  },
  {
   "cell_type": "code",
   "execution_count": 5,
   "metadata": {},
   "outputs": [],
   "source": [
    "movie1 = movie('설국열차')\n"
   ]
  },
  {
   "cell_type": "code",
   "execution_count": 6,
   "metadata": {},
   "outputs": [
    {
     "name": "stdout",
     "output_type": "stream",
     "text": [
      "62328\n",
      "50번째 페이지 로딩중\n",
      "100번째 페이지 로딩중\n",
      "150번째 페이지 로딩중\n",
      "200번째 페이지 로딩중\n",
      "find_best_lines_loading_complete\n",
      "find_story_loading_complete\n"
     ]
    }
   ],
   "source": [
    "movie_code = movie1.find_movie_code()\n",
    "movie_best_lines = movie1.find_best_lines()\n",
    "movie_story = movie1.find_story()"
   ]
  },
  {
   "cell_type": "code",
   "execution_count": 7,
   "metadata": {},
   "outputs": [],
   "source": [
    "df_movie_best_lines = pd.DataFrame(movie_best_lines)"
   ]
  },
  {
   "cell_type": "code",
   "execution_count": 8,
   "metadata": {},
   "outputs": [],
   "source": [
    "df_movie_best_lines.to_csv('영화리뷰.csv',encoding = 'cp949')"
   ]
  },
  {
   "cell_type": "code",
   "execution_count": null,
   "metadata": {},
   "outputs": [],
   "source": []
  }
 ],
 "metadata": {
  "kernelspec": {
   "display_name": "Python 3",
   "language": "python",
   "name": "python3"
  },
  "language_info": {
   "codemirror_mode": {
    "name": "ipython",
    "version": 3
   },
   "file_extension": ".py",
   "mimetype": "text/x-python",
   "name": "python",
   "nbconvert_exporter": "python",
   "pygments_lexer": "ipython3",
   "version": "3.7.3"
  }
 },
 "nbformat": 4,
 "nbformat_minor": 2
}
