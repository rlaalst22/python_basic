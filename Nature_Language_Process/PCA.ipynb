{
 "cells": [
  {
   "cell_type": "markdown",
   "metadata": {},
   "source": [
    "# PCA(주성분 분석)"
   ]
  },
  {
   "cell_type": "markdown",
   "metadata": {},
   "source": [
    "차원이 높아질 수록 표현이 어렵다.\n",
    "차원 증가할 수록 연산(분석)어렵다\n",
    "차원 축소가 필요하다\n",
    "\n",
    "개요\n",
    "차원이 클경우 차원의 ㅈ주와 학습 속도가 저하됨\n",
    "같은 정보를 표현하는데 낮은 차원을 사용하여 정보를 표현하는 것을 차원 축소라고 함\n",
    "\n",
    "차원축소시 정보의 손실이 발생 차원축소에서 중요한것은 정보의 손실을 최소화 하는것\n",
    "\n",
    "PCA 는 고차원의 데이터를 저차원의 데이터로 환원시키는 기법\n",
    "주성분 분석은 데이터를 한 개의 축으로 사상시켯을때 그 분산이 가장 커지는 축을 첫번째로 주성분 두번째로 커지는 축을 두번째 주성분으로 높이도록 새로운 좌표계로 데이터를 선형 변환한다.\n",
    "\n",
    "공분산 행렬\n",
    "공분산을 구하는 행렬\n",
    "각 feature들 끼리 변동이 얼마나 닮았나 \n",
    "수학적 의미 선형 변환\n",
    "\n"
   ]
  }
 ],
 "metadata": {
  "kernelspec": {
   "display_name": "Python 3",
   "language": "python",
   "name": "python3"
  },
  "language_info": {
   "codemirror_mode": {
    "name": "ipython",
    "version": 3
   },
   "file_extension": ".py",
   "mimetype": "text/x-python",
   "name": "python",
   "nbconvert_exporter": "python",
   "pygments_lexer": "ipython3",
   "version": "3.6.8"
  }
 },
 "nbformat": 4,
 "nbformat_minor": 2
}
